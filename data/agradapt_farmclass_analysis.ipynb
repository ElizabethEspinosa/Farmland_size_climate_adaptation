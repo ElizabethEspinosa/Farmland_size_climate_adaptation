{
 "cells": [
  {
   "cell_type": "code",
   "execution_count": 1,
   "metadata": {},
   "outputs": [],
   "source": [
    "import csv\n",
    "import pandas as pd\n",
    "import numpy as np\n",
    "import matplotlib.pyplot as plt\n",
    "from matplotlib.pyplot import show\n",
    "import seaborn as sns\n",
    "import os\n",
    "from scipy import stats\n",
    "cwd = os.getcwd() "
   ]
  },
  {
   "cell_type": "code",
   "execution_count": 2,
   "metadata": {},
   "outputs": [],
   "source": [
    "import json\n",
    "import requests\n",
    "from urllib.request import urlopen\n",
    "import plotly.express as px\n",
    "import plotly.graph_objects as go\n",
    "import plotly.io as pio"
   ]
  },
  {
   "cell_type": "code",
   "execution_count": 3,
   "metadata": {},
   "outputs": [],
   "source": [
    "DF= pd.read_csv(cwd[:-4]+'/Data/data_farmclass_state.csv')"
   ]
  },
  {
   "cell_type": "code",
   "execution_count": 4,
   "metadata": {},
   "outputs": [
    {
     "data": {
      "text/html": [
       "<div>\n",
       "<style scoped>\n",
       "    .dataframe tbody tr th:only-of-type {\n",
       "        vertical-align: middle;\n",
       "    }\n",
       "\n",
       "    .dataframe tbody tr th {\n",
       "        vertical-align: top;\n",
       "    }\n",
       "\n",
       "    .dataframe thead th {\n",
       "        text-align: right;\n",
       "    }\n",
       "</style>\n",
       "<table border=\"1\" class=\"dataframe\">\n",
       "  <thead>\n",
       "    <tr style=\"text-align: right;\">\n",
       "      <th></th>\n",
       "      <th>year</th>\n",
       "      <th>state_name</th>\n",
       "      <th>state_fips_code</th>\n",
       "      <th>domaincat_desc</th>\n",
       "      <th>ACRES</th>\n",
       "      <th>NUMBER OF OPERATIONS</th>\n",
       "      <th>farmcat</th>\n",
       "      <th>lower_bound</th>\n",
       "      <th>upper_bound</th>\n",
       "      <th>CONSERVATION EASEMENT - ACRES</th>\n",
       "      <th>...</th>\n",
       "      <th>state_code_54</th>\n",
       "      <th>state_code_55</th>\n",
       "      <th>state_code_56</th>\n",
       "      <th>cropland_insured</th>\n",
       "      <th>land_sqmi</th>\n",
       "      <th>cropland_share</th>\n",
       "      <th>climate_edd_z_full_year</th>\n",
       "      <th>climate_prec_z_full_year</th>\n",
       "      <th>climate_ffp_full_year</th>\n",
       "      <th>climate_ffp_z_full_year</th>\n",
       "    </tr>\n",
       "  </thead>\n",
       "  <tbody>\n",
       "    <tr>\n",
       "      <th>0</th>\n",
       "      <td>2012</td>\n",
       "      <td>ALABAMA</td>\n",
       "      <td>1</td>\n",
       "      <td>AREA OPERATED: (1.0 TO 9.9 ACRES)</td>\n",
       "      <td>2607.0</td>\n",
       "      <td>861</td>\n",
       "      <td>1 TO 9</td>\n",
       "      <td>1</td>\n",
       "      <td>9.000000</td>\n",
       "      <td>64.0</td>\n",
       "      <td>...</td>\n",
       "      <td>0</td>\n",
       "      <td>0</td>\n",
       "      <td>0</td>\n",
       "      <td>0.023782</td>\n",
       "      <td>50645</td>\n",
       "      <td>0.066579</td>\n",
       "      <td>0.821545</td>\n",
       "      <td>-0.371258</td>\n",
       "      <td>233.566055</td>\n",
       "      <td>0.112911</td>\n",
       "    </tr>\n",
       "    <tr>\n",
       "      <th>1</th>\n",
       "      <td>2012</td>\n",
       "      <td>ALABAMA</td>\n",
       "      <td>1</td>\n",
       "      <td>AREA OPERATED: (10.0 TO 49.9 ACRES)</td>\n",
       "      <td>64793.0</td>\n",
       "      <td>4879</td>\n",
       "      <td>10 TO 49</td>\n",
       "      <td>10</td>\n",
       "      <td>49.000000</td>\n",
       "      <td>1676.0</td>\n",
       "      <td>...</td>\n",
       "      <td>0</td>\n",
       "      <td>0</td>\n",
       "      <td>0</td>\n",
       "      <td>0.047274</td>\n",
       "      <td>50645</td>\n",
       "      <td>0.066579</td>\n",
       "      <td>0.821545</td>\n",
       "      <td>-0.371258</td>\n",
       "      <td>233.566055</td>\n",
       "      <td>0.112911</td>\n",
       "    </tr>\n",
       "    <tr>\n",
       "      <th>2</th>\n",
       "      <td>2012</td>\n",
       "      <td>ALABAMA</td>\n",
       "      <td>1</td>\n",
       "      <td>AREA OPERATED: (50.0 TO 69.9 ACRES)</td>\n",
       "      <td>45288.0</td>\n",
       "      <td>1900</td>\n",
       "      <td>50 TO 69</td>\n",
       "      <td>50</td>\n",
       "      <td>69.000000</td>\n",
       "      <td>832.0</td>\n",
       "      <td>...</td>\n",
       "      <td>0</td>\n",
       "      <td>0</td>\n",
       "      <td>0</td>\n",
       "      <td>0.097355</td>\n",
       "      <td>50645</td>\n",
       "      <td>0.066579</td>\n",
       "      <td>0.821545</td>\n",
       "      <td>-0.371258</td>\n",
       "      <td>233.566055</td>\n",
       "      <td>0.112911</td>\n",
       "    </tr>\n",
       "    <tr>\n",
       "      <th>3</th>\n",
       "      <td>2012</td>\n",
       "      <td>ALABAMA</td>\n",
       "      <td>1</td>\n",
       "      <td>AREA OPERATED: (70.0 TO 99.9 ACRES)</td>\n",
       "      <td>63221.0</td>\n",
       "      <td>2313</td>\n",
       "      <td>70 TO 99</td>\n",
       "      <td>70</td>\n",
       "      <td>99.000000</td>\n",
       "      <td>2847.0</td>\n",
       "      <td>...</td>\n",
       "      <td>0</td>\n",
       "      <td>0</td>\n",
       "      <td>0</td>\n",
       "      <td>0.092343</td>\n",
       "      <td>50645</td>\n",
       "      <td>0.066579</td>\n",
       "      <td>0.821545</td>\n",
       "      <td>-0.371258</td>\n",
       "      <td>233.566055</td>\n",
       "      <td>0.112911</td>\n",
       "    </tr>\n",
       "    <tr>\n",
       "      <th>4</th>\n",
       "      <td>2012</td>\n",
       "      <td>ALABAMA</td>\n",
       "      <td>1</td>\n",
       "      <td>AREA OPERATED: (100 TO 139 ACRES)</td>\n",
       "      <td>83054.0</td>\n",
       "      <td>2333</td>\n",
       "      <td>100 TO 139</td>\n",
       "      <td>100</td>\n",
       "      <td>139.000000</td>\n",
       "      <td>2212.0</td>\n",
       "      <td>...</td>\n",
       "      <td>0</td>\n",
       "      <td>0</td>\n",
       "      <td>0</td>\n",
       "      <td>0.124124</td>\n",
       "      <td>50645</td>\n",
       "      <td>0.066579</td>\n",
       "      <td>0.821545</td>\n",
       "      <td>-0.371258</td>\n",
       "      <td>233.566055</td>\n",
       "      <td>0.112911</td>\n",
       "    </tr>\n",
       "    <tr>\n",
       "      <th>...</th>\n",
       "      <td>...</td>\n",
       "      <td>...</td>\n",
       "      <td>...</td>\n",
       "      <td>...</td>\n",
       "      <td>...</td>\n",
       "      <td>...</td>\n",
       "      <td>...</td>\n",
       "      <td>...</td>\n",
       "      <td>...</td>\n",
       "      <td>...</td>\n",
       "      <td>...</td>\n",
       "      <td>...</td>\n",
       "      <td>...</td>\n",
       "      <td>...</td>\n",
       "      <td>...</td>\n",
       "      <td>...</td>\n",
       "      <td>...</td>\n",
       "      <td>...</td>\n",
       "      <td>...</td>\n",
       "      <td>...</td>\n",
       "      <td>...</td>\n",
       "    </tr>\n",
       "    <tr>\n",
       "      <th>1141</th>\n",
       "      <td>2017</td>\n",
       "      <td>WYOMING</td>\n",
       "      <td>56</td>\n",
       "      <td>AREA OPERATED: (220 TO 259 ACRES)</td>\n",
       "      <td>17315.0</td>\n",
       "      <td>150</td>\n",
       "      <td>220 TO 259</td>\n",
       "      <td>220</td>\n",
       "      <td>259.000000</td>\n",
       "      <td>795.0</td>\n",
       "      <td>...</td>\n",
       "      <td>0</td>\n",
       "      <td>0</td>\n",
       "      <td>1</td>\n",
       "      <td>0.210049</td>\n",
       "      <td>97093</td>\n",
       "      <td>0.024861</td>\n",
       "      <td>0.020195</td>\n",
       "      <td>-0.078232</td>\n",
       "      <td>126.995260</td>\n",
       "      <td>0.632982</td>\n",
       "    </tr>\n",
       "    <tr>\n",
       "      <th>1142</th>\n",
       "      <td>2017</td>\n",
       "      <td>WYOMING</td>\n",
       "      <td>56</td>\n",
       "      <td>AREA OPERATED: (260 TO 499 ACRES)</td>\n",
       "      <td>90829.0</td>\n",
       "      <td>535</td>\n",
       "      <td>260 TO 499</td>\n",
       "      <td>260</td>\n",
       "      <td>499.000000</td>\n",
       "      <td>5216.0</td>\n",
       "      <td>...</td>\n",
       "      <td>0</td>\n",
       "      <td>0</td>\n",
       "      <td>1</td>\n",
       "      <td>0.339418</td>\n",
       "      <td>97093</td>\n",
       "      <td>0.024861</td>\n",
       "      <td>0.020195</td>\n",
       "      <td>-0.078232</td>\n",
       "      <td>126.995260</td>\n",
       "      <td>0.632982</td>\n",
       "    </tr>\n",
       "    <tr>\n",
       "      <th>1143</th>\n",
       "      <td>2017</td>\n",
       "      <td>WYOMING</td>\n",
       "      <td>56</td>\n",
       "      <td>AREA OPERATED: (500 TO 999 ACRES)</td>\n",
       "      <td>156182.0</td>\n",
       "      <td>576</td>\n",
       "      <td>500 TO 999</td>\n",
       "      <td>500</td>\n",
       "      <td>999.000000</td>\n",
       "      <td>12309.0</td>\n",
       "      <td>...</td>\n",
       "      <td>0</td>\n",
       "      <td>0</td>\n",
       "      <td>1</td>\n",
       "      <td>0.464855</td>\n",
       "      <td>97093</td>\n",
       "      <td>0.024861</td>\n",
       "      <td>0.020195</td>\n",
       "      <td>-0.078232</td>\n",
       "      <td>126.995260</td>\n",
       "      <td>0.632982</td>\n",
       "    </tr>\n",
       "    <tr>\n",
       "      <th>1144</th>\n",
       "      <td>2017</td>\n",
       "      <td>WYOMING</td>\n",
       "      <td>56</td>\n",
       "      <td>AREA OPERATED: (1,000 TO 1,999 ACRES)</td>\n",
       "      <td>239152.0</td>\n",
       "      <td>507</td>\n",
       "      <td>1000 TO 1999</td>\n",
       "      <td>1000</td>\n",
       "      <td>1999.000000</td>\n",
       "      <td>21320.0</td>\n",
       "      <td>...</td>\n",
       "      <td>0</td>\n",
       "      <td>0</td>\n",
       "      <td>1</td>\n",
       "      <td>0.486402</td>\n",
       "      <td>97093</td>\n",
       "      <td>0.024861</td>\n",
       "      <td>0.020195</td>\n",
       "      <td>-0.078232</td>\n",
       "      <td>126.995260</td>\n",
       "      <td>0.632982</td>\n",
       "    </tr>\n",
       "    <tr>\n",
       "      <th>1145</th>\n",
       "      <td>2017</td>\n",
       "      <td>WYOMING</td>\n",
       "      <td>56</td>\n",
       "      <td>AREA OPERATED: (2,000 OR MORE ACRES)</td>\n",
       "      <td>944826.0</td>\n",
       "      <td>1427</td>\n",
       "      <td>2000 OR MORE</td>\n",
       "      <td>2000</td>\n",
       "      <td>6136.887865</td>\n",
       "      <td>233789.0</td>\n",
       "      <td>...</td>\n",
       "      <td>0</td>\n",
       "      <td>0</td>\n",
       "      <td>1</td>\n",
       "      <td>3.383582</td>\n",
       "      <td>97093</td>\n",
       "      <td>0.024861</td>\n",
       "      <td>0.020195</td>\n",
       "      <td>-0.078232</td>\n",
       "      <td>126.995260</td>\n",
       "      <td>0.632982</td>\n",
       "    </tr>\n",
       "  </tbody>\n",
       "</table>\n",
       "<p>1146 rows × 201 columns</p>\n",
       "</div>"
      ],
      "text/plain": [
       "      year state_name  state_fips_code                         domaincat_desc  \\\n",
       "0     2012    ALABAMA                1      AREA OPERATED: (1.0 TO 9.9 ACRES)   \n",
       "1     2012    ALABAMA                1    AREA OPERATED: (10.0 TO 49.9 ACRES)   \n",
       "2     2012    ALABAMA                1    AREA OPERATED: (50.0 TO 69.9 ACRES)   \n",
       "3     2012    ALABAMA                1    AREA OPERATED: (70.0 TO 99.9 ACRES)   \n",
       "4     2012    ALABAMA                1      AREA OPERATED: (100 TO 139 ACRES)   \n",
       "...    ...        ...              ...                                    ...   \n",
       "1141  2017    WYOMING               56      AREA OPERATED: (220 TO 259 ACRES)   \n",
       "1142  2017    WYOMING               56      AREA OPERATED: (260 TO 499 ACRES)   \n",
       "1143  2017    WYOMING               56      AREA OPERATED: (500 TO 999 ACRES)   \n",
       "1144  2017    WYOMING               56  AREA OPERATED: (1,000 TO 1,999 ACRES)   \n",
       "1145  2017    WYOMING               56   AREA OPERATED: (2,000 OR MORE ACRES)   \n",
       "\n",
       "         ACRES  NUMBER OF OPERATIONS       farmcat  lower_bound  upper_bound  \\\n",
       "0       2607.0                   861        1 TO 9            1     9.000000   \n",
       "1      64793.0                  4879      10 TO 49           10    49.000000   \n",
       "2      45288.0                  1900      50 TO 69           50    69.000000   \n",
       "3      63221.0                  2313      70 TO 99           70    99.000000   \n",
       "4      83054.0                  2333    100 TO 139          100   139.000000   \n",
       "...        ...                   ...           ...          ...          ...   \n",
       "1141   17315.0                   150    220 TO 259          220   259.000000   \n",
       "1142   90829.0                   535    260 TO 499          260   499.000000   \n",
       "1143  156182.0                   576    500 TO 999          500   999.000000   \n",
       "1144  239152.0                   507  1000 TO 1999         1000  1999.000000   \n",
       "1145  944826.0                  1427  2000 OR MORE         2000  6136.887865   \n",
       "\n",
       "      CONSERVATION EASEMENT - ACRES  ...  state_code_54  state_code_55  \\\n",
       "0                              64.0  ...              0              0   \n",
       "1                            1676.0  ...              0              0   \n",
       "2                             832.0  ...              0              0   \n",
       "3                            2847.0  ...              0              0   \n",
       "4                            2212.0  ...              0              0   \n",
       "...                             ...  ...            ...            ...   \n",
       "1141                          795.0  ...              0              0   \n",
       "1142                         5216.0  ...              0              0   \n",
       "1143                        12309.0  ...              0              0   \n",
       "1144                        21320.0  ...              0              0   \n",
       "1145                       233789.0  ...              0              0   \n",
       "\n",
       "      state_code_56  cropland_insured  land_sqmi  cropland_share  \\\n",
       "0                 0          0.023782      50645        0.066579   \n",
       "1                 0          0.047274      50645        0.066579   \n",
       "2                 0          0.097355      50645        0.066579   \n",
       "3                 0          0.092343      50645        0.066579   \n",
       "4                 0          0.124124      50645        0.066579   \n",
       "...             ...               ...        ...             ...   \n",
       "1141              1          0.210049      97093        0.024861   \n",
       "1142              1          0.339418      97093        0.024861   \n",
       "1143              1          0.464855      97093        0.024861   \n",
       "1144              1          0.486402      97093        0.024861   \n",
       "1145              1          3.383582      97093        0.024861   \n",
       "\n",
       "      climate_edd_z_full_year  climate_prec_z_full_year  \\\n",
       "0                    0.821545                 -0.371258   \n",
       "1                    0.821545                 -0.371258   \n",
       "2                    0.821545                 -0.371258   \n",
       "3                    0.821545                 -0.371258   \n",
       "4                    0.821545                 -0.371258   \n",
       "...                       ...                       ...   \n",
       "1141                 0.020195                 -0.078232   \n",
       "1142                 0.020195                 -0.078232   \n",
       "1143                 0.020195                 -0.078232   \n",
       "1144                 0.020195                 -0.078232   \n",
       "1145                 0.020195                 -0.078232   \n",
       "\n",
       "      climate_ffp_full_year  climate_ffp_z_full_year  \n",
       "0                233.566055                 0.112911  \n",
       "1                233.566055                 0.112911  \n",
       "2                233.566055                 0.112911  \n",
       "3                233.566055                 0.112911  \n",
       "4                233.566055                 0.112911  \n",
       "...                     ...                      ...  \n",
       "1141             126.995260                 0.632982  \n",
       "1142             126.995260                 0.632982  \n",
       "1143             126.995260                 0.632982  \n",
       "1144             126.995260                 0.632982  \n",
       "1145             126.995260                 0.632982  \n",
       "\n",
       "[1146 rows x 201 columns]"
      ]
     },
     "execution_count": 4,
     "metadata": {},
     "output_type": "execute_result"
    }
   ],
   "source": [
    "DF#.columns[100:150]"
   ]
  },
  {
   "cell_type": "code",
   "execution_count": 5,
   "metadata": {},
   "outputs": [],
   "source": [
    "DF.loc[DF.insured_farms > 1, 'insured_farms'] = 1\n",
    "DF['farm class']= DF['farm_class']"
   ]
  },
  {
   "cell_type": "markdown",
   "metadata": {},
   "source": [
    "### Distribution of intensity of practices (% area) by groups"
   ]
  },
  {
   "cell_type": "code",
   "execution_count": 5,
   "metadata": {},
   "outputs": [
    {
     "data": {
      "text/plain": [
       "<AxesSubplot:xlabel='farmcat', ylabel='tile_num'>"
      ]
     },
     "execution_count": 5,
     "metadata": {},
     "output_type": "execute_result"
    },
    {
     "data": {
      "image/png": "[encoded data removed]",
      "text/plain": [
       "<Figure size 720x576 with 1 Axes>"
      ]
     },
     "metadata": {
      "needs_background": "light"
     },
     "output_type": "display_data"
    }
   ],
   "source": [
    "plt.figure(figsize=(10,8))\n",
    "rank=['1 TO 9', '10 TO 49', '50 TO 69','70 TO 99', '100 TO 139', '140 TO 179', '180 TO 219', '220 TO 259',\n",
    "       '260 TO 499', '500 TO 999','1000 TO 1999','2000 OR MORE']\n",
    "sns.boxenplot(x=\"farmcat\", y=\"tile_num\",\n",
    "            hue=\"year\", order=rank, data=DF) #, split=True,inner=\"quart\", linewidth=1,"
   ]
  },
  {
   "cell_type": "code",
   "execution_count": 7,
   "metadata": {},
   "outputs": [
    {
     "data": {
      "text/plain": [
       "<seaborn.axisgrid.FacetGrid at 0x7fdec5628e90>"
      ]
     },
     "execution_count": 7,
     "metadata": {},
     "output_type": "execute_result"
    },
    {
     "data": {
      "image/png": "[encoded data removed]",
      "text/plain": [
       "<Figure size 432x288 with 1 Axes>"
      ]
     },
     "metadata": {
      "needs_background": "light"
     },
     "output_type": "display_data"
    },
    {
     "data": {
      "image/png": "[encoded data removed]",
      "text/plain": [
       "<Figure size 436x360 with 1 Axes>"
      ]
     },
     "metadata": {
      "needs_background": "light"
     },
     "output_type": "display_data"
    }
   ],
   "source": [
    "plt.scatter(DF[\"insured_farms\"][DF['farm_class']=='Small'], DF[\"cover_crops\"][DF['farm_class']=='Small'])\n",
    "#plt.scatter(DF[\"insured_farms\"][DF['farm_class']=='Medium'], DF[\"tile_num\"][DF['farm_class']=='Medium'])\n",
    "#plt.scatter(DF[\"insured_farms\"][DF['farm_class']=='Large'], DF[\"tile_num\"][DF['farm_class']=='Large'])\n",
    "sns.lmplot(data= DF, x='insured_farms', y='tile_num', hue='farm_class')"
   ]
  },
  {
   "cell_type": "code",
   "execution_count": 5,
   "metadata": {},
   "outputs": [
    {
     "data": {
      "text/plain": [
       "<seaborn.axisgrid.FacetGrid at 0x7fdec69a7510>"
      ]
     },
     "execution_count": 5,
     "metadata": {},
     "output_type": "execute_result"
    },
    {
     "data": {
      "image/png": "[encoded data removed]",
      "text/plain": [
       "<Figure size 436x360 with 1 Axes>"
      ]
     },
     "metadata": {
      "needs_background": "light"
     },
     "output_type": "display_data"
    }
   ],
   "source": [
    "DF['fed_income_log']= np.log(DF['fed_income'])\n",
    "\n",
    "sns.lmplot(data= DF, x='fed_income_log', y='irrigated_farms', hue='farm_class')"
   ]
  },
  {
   "cell_type": "code",
   "execution_count": 6,
   "metadata": {},
   "outputs": [
    {
     "data": {
      "text/plain": [
       "<seaborn.axisgrid.FacetGrid at 0x7fdec6d64850>"
      ]
     },
     "execution_count": 6,
     "metadata": {},
     "output_type": "execute_result"
    },
    {
     "data": {
      "image/png": "[encoded data removed]",
      "text/plain": [
       "<Figure size 436x360 with 1 Axes>"
      ]
     },
     "metadata": {
      "needs_background": "light"
     },
     "output_type": "display_data"
    }
   ],
   "source": [
    "DF['state_income_log']=np.log(DF['state_income'])\n",
    "sns.lmplot(data= DF, x='state_income_log', y='cover_crops', hue='farm_class')"
   ]
  },
  {
   "cell_type": "markdown",
   "metadata": {},
   "source": [
    "### Distributions"
   ]
  },
  {
   "cell_type": "code",
   "execution_count": 10,
   "metadata": {},
   "outputs": [],
   "source": [
    "def plot_hist_farmclass(DF, var, title,ax):\n",
    "    plt.rcParams[\"font.family\"] = 'serif'\n",
    "    k=0\n",
    "    for gr, abb in zip(DF['farm_class'].unique(), ['s', 'm', 'L']):\n",
    "        eta= DF[var][DF['farm_class']==gr].quantile(0.50)\n",
    "        q1 = DF[var][DF['farm_class']==gr].quantile(0.25)\n",
    "        q3 = DF[var][DF['farm_class']==gr].quantile(0.75)\n",
    "        iqr = q3- q1\n",
    "        \n",
    "        k+= -0.1\n",
    "        if var== 'machinery_asset':\n",
    "            ax.hist((DF[var][DF['farm_class']==gr]), 30, label= gr, alpha=0.5, histtype= 'barstacked', density=True)\n",
    "        else:\n",
    "            ax.hist((DF[var][DF['farm_class']==gr])*100, 30, label= gr, alpha=0.5, histtype= 'barstacked', density=True)\n",
    "        if var== 'mean_netincome':\n",
    "            \n",
    "            ax.text(0.9, 0.8+k, '$\\eta_{}={:,.0f},\\ iqr_{}={:,.0f}$'.format(abb,eta, abb,iqr),\n",
    "            horizontalalignment='right',\n",
    "            verticalalignment='top',\n",
    "            transform=ax.transAxes)\n",
    "            \n",
    "\n",
    "        else:\n",
    "            ax.text(0.9, 0.8+k, '$\\eta_{}={:,.2f},\\ iqr_{}={:,.2f}$'.format(abb,eta, abb,iqr),\n",
    "            horizontalalignment='right',\n",
    "            verticalalignment='top',\n",
    "            transform=ax.transAxes)\n",
    "        ax.set_title(title)"
   ]
  },
  {
   "cell_type": "markdown",
   "metadata": {},
   "source": [
    "### Correlation matrix and heatmap"
   ]
  },
  {
   "cell_type": "code",
   "execution_count": 11,
   "metadata": {},
   "outputs": [
    {
     "data": {
      "image/png": "[encoded data removed]",
      "text/plain": [
       "<Figure size 1080x864 with 9 Axes>"
      ]
     },
     "metadata": {
      "needs_background": "light"
     },
     "output_type": "display_data"
    }
   ],
   "source": [
    "fig, ((ax0, ax1, ax2), (ax3, ax4, ax5),\n",
    "     (ax6, ax7, ax8)) = plt.subplots(nrows=3, ncols=3, figsize=(15, 12))\n",
    "\n",
    "varlist= ['cover crops', 'tile_num','irrigated_farms',\n",
    "          'insured_farms','fed_income', 'state_income',\n",
    "          'rented_land','livestockfarm_share','machinery_asset']\n",
    "varnames= ['Cover crops acres (% cropland)', 'Operations with tile drainage (% ope)','Operations with Irrigation (% ope.)',\n",
    "           'Operations with insurance (% ope.)','Federal subsidies (% income)','State and Local subsidies (% income)',\n",
    "          'Rented Land (% land)', 'Livestock activities (% activ.)','Machinery assets/income']\n",
    "\n",
    "for x, ax, y in zip(varlist, [ax0, ax1, ax2,ax3, ax4, ax5, ax6, ax7, ax8], varnames):\n",
    "    plot_hist_farmclass(DF[DF['year']== 2017], x, y, ax)\n",
    "\n",
    "ax.legend(prop={'family': 'serif'})\n",
    "plt.savefig(cwd[:-4]+'/Results/Graphics/distributions.png', dpi=1200, bbox_inches = 'tight')"
   ]
  },
  {
   "cell_type": "code",
   "execution_count": 8,
   "metadata": {},
   "outputs": [
    {
     "data": {
      "text/html": [
       "<div>\n",
       "<style scoped>\n",
       "    .dataframe tbody tr th:only-of-type {\n",
       "        vertical-align: middle;\n",
       "    }\n",
       "\n",
       "    .dataframe tbody tr th {\n",
       "        vertical-align: top;\n",
       "    }\n",
       "\n",
       "    .dataframe thead th {\n",
       "        text-align: right;\n",
       "    }\n",
       "</style>\n",
       "<table border=\"1\" class=\"dataframe\">\n",
       "  <thead>\n",
       "    <tr style=\"text-align: right;\">\n",
       "      <th></th>\n",
       "      <th></th>\n",
       "      <th></th>\n",
       "      <th>cover crops</th>\n",
       "      <th>tile_num</th>\n",
       "      <th>irrigated_farms</th>\n",
       "      <th>fed_income</th>\n",
       "      <th>state_income</th>\n",
       "      <th>insured_farms</th>\n",
       "      <th>mean_netincome</th>\n",
       "      <th>rented_land</th>\n",
       "      <th>machinery_asset</th>\n",
       "      <th>livestockfarm_share</th>\n",
       "    </tr>\n",
       "    <tr>\n",
       "      <th>farm_class</th>\n",
       "      <th>year</th>\n",
       "      <th></th>\n",
       "      <th></th>\n",
       "      <th></th>\n",
       "      <th></th>\n",
       "      <th></th>\n",
       "      <th></th>\n",
       "      <th></th>\n",
       "      <th></th>\n",
       "      <th></th>\n",
       "      <th></th>\n",
       "      <th></th>\n",
       "    </tr>\n",
       "  </thead>\n",
       "  <tbody>\n",
       "    <tr>\n",
       "      <th rowspan=\"6\" valign=\"top\">Large</th>\n",
       "      <th rowspan=\"3\" valign=\"top\">2012</th>\n",
       "      <th>0.50</th>\n",
       "      <td>0.041670</td>\n",
       "      <td>0.127717</td>\n",
       "      <td>0.229339</td>\n",
       "      <td>0.542362</td>\n",
       "      <td>0.009333</td>\n",
       "      <td>0.562920</td>\n",
       "      <td>140939.50</td>\n",
       "      <td>0.358036</td>\n",
       "      <td>8.638944</td>\n",
       "      <td>0.305833</td>\n",
       "    </tr>\n",
       "    <tr>\n",
       "      <th>0.25</th>\n",
       "      <td>0.021464</td>\n",
       "      <td>0.054682</td>\n",
       "      <td>0.076927</td>\n",
       "      <td>0.380205</td>\n",
       "      <td>0.004927</td>\n",
       "      <td>0.323565</td>\n",
       "      <td>55668.75</td>\n",
       "      <td>0.269035</td>\n",
       "      <td>6.363101</td>\n",
       "      <td>0.185929</td>\n",
       "    </tr>\n",
       "    <tr>\n",
       "      <th>0.75</th>\n",
       "      <td>0.080712</td>\n",
       "      <td>0.235294</td>\n",
       "      <td>0.580673</td>\n",
       "      <td>0.754120</td>\n",
       "      <td>0.019736</td>\n",
       "      <td>0.749324</td>\n",
       "      <td>347685.00</td>\n",
       "      <td>0.481019</td>\n",
       "      <td>11.891964</td>\n",
       "      <td>0.440078</td>\n",
       "    </tr>\n",
       "    <tr>\n",
       "      <th rowspan=\"3\" valign=\"top\">2017</th>\n",
       "      <th>0.50</th>\n",
       "      <td>0.056586</td>\n",
       "      <td>0.120968</td>\n",
       "      <td>0.230354</td>\n",
       "      <td>0.648803</td>\n",
       "      <td>0.009903</td>\n",
       "      <td>0.589558</td>\n",
       "      <td>131955.00</td>\n",
       "      <td>0.347169</td>\n",
       "      <td>10.963246</td>\n",
       "      <td>0.329371</td>\n",
       "    </tr>\n",
       "    <tr>\n",
       "      <th>0.25</th>\n",
       "      <td>0.032867</td>\n",
       "      <td>0.055061</td>\n",
       "      <td>0.070451</td>\n",
       "      <td>0.368265</td>\n",
       "      <td>0.006414</td>\n",
       "      <td>0.333333</td>\n",
       "      <td>61478.00</td>\n",
       "      <td>0.273684</td>\n",
       "      <td>7.194350</td>\n",
       "      <td>0.208165</td>\n",
       "    </tr>\n",
       "    <tr>\n",
       "      <th>0.75</th>\n",
       "      <td>0.103389</td>\n",
       "      <td>0.250698</td>\n",
       "      <td>0.600288</td>\n",
       "      <td>0.950451</td>\n",
       "      <td>0.018370</td>\n",
       "      <td>0.788291</td>\n",
       "      <td>259313.00</td>\n",
       "      <td>0.471249</td>\n",
       "      <td>15.336193</td>\n",
       "      <td>0.469568</td>\n",
       "    </tr>\n",
       "    <tr>\n",
       "      <th rowspan=\"6\" valign=\"top\">Medium</th>\n",
       "      <th rowspan=\"3\" valign=\"top\">2012</th>\n",
       "      <th>0.50</th>\n",
       "      <td>0.042964</td>\n",
       "      <td>0.077220</td>\n",
       "      <td>0.092497</td>\n",
       "      <td>0.387021</td>\n",
       "      <td>0.009802</td>\n",
       "      <td>0.168990</td>\n",
       "      <td>17624.00</td>\n",
       "      <td>0.191245</td>\n",
       "      <td>6.667088</td>\n",
       "      <td>0.325103</td>\n",
       "    </tr>\n",
       "    <tr>\n",
       "      <th>0.25</th>\n",
       "      <td>0.029382</td>\n",
       "      <td>0.037321</td>\n",
       "      <td>0.038009</td>\n",
       "      <td>0.247631</td>\n",
       "      <td>0.005583</td>\n",
       "      <td>0.092301</td>\n",
       "      <td>6823.75</td>\n",
       "      <td>0.156610</td>\n",
       "      <td>5.125284</td>\n",
       "      <td>0.241500</td>\n",
       "    </tr>\n",
       "    <tr>\n",
       "      <th>0.75</th>\n",
       "      <td>0.063455</td>\n",
       "      <td>0.130435</td>\n",
       "      <td>0.364958</td>\n",
       "      <td>0.535293</td>\n",
       "      <td>0.024069</td>\n",
       "      <td>0.289584</td>\n",
       "      <td>33636.00</td>\n",
       "      <td>0.233783</td>\n",
       "      <td>9.145882</td>\n",
       "      <td>0.440217</td>\n",
       "    </tr>\n",
       "    <tr>\n",
       "      <th rowspan=\"3\" valign=\"top\">2017</th>\n",
       "      <th>0.50</th>\n",
       "      <td>0.053649</td>\n",
       "      <td>0.075104</td>\n",
       "      <td>0.089452</td>\n",
       "      <td>0.276760</td>\n",
       "      <td>0.005720</td>\n",
       "      <td>0.189850</td>\n",
       "      <td>26584.00</td>\n",
       "      <td>0.177836</td>\n",
       "      <td>6.119303</td>\n",
       "      <td>0.325151</td>\n",
       "    </tr>\n",
       "    <tr>\n",
       "      <th>0.25</th>\n",
       "      <td>0.038101</td>\n",
       "      <td>0.042813</td>\n",
       "      <td>0.036432</td>\n",
       "      <td>0.140183</td>\n",
       "      <td>0.003414</td>\n",
       "      <td>0.106000</td>\n",
       "      <td>11244.25</td>\n",
       "      <td>0.139017</td>\n",
       "      <td>4.340059</td>\n",
       "      <td>0.247555</td>\n",
       "    </tr>\n",
       "    <tr>\n",
       "      <th>0.75</th>\n",
       "      <td>0.080659</td>\n",
       "      <td>0.138824</td>\n",
       "      <td>0.431109</td>\n",
       "      <td>0.428113</td>\n",
       "      <td>0.011800</td>\n",
       "      <td>0.329288</td>\n",
       "      <td>43282.25</td>\n",
       "      <td>0.213968</td>\n",
       "      <td>8.305105</td>\n",
       "      <td>0.478033</td>\n",
       "    </tr>\n",
       "    <tr>\n",
       "      <th rowspan=\"6\" valign=\"top\">Small</th>\n",
       "      <th rowspan=\"3\" valign=\"top\">2012</th>\n",
       "      <th>0.50</th>\n",
       "      <td>0.052256</td>\n",
       "      <td>0.043228</td>\n",
       "      <td>0.204299</td>\n",
       "      <td>0.176892</td>\n",
       "      <td>0.005858</td>\n",
       "      <td>0.051813</td>\n",
       "      <td>2850.50</td>\n",
       "      <td>0.097436</td>\n",
       "      <td>4.537696</td>\n",
       "      <td>0.440514</td>\n",
       "    </tr>\n",
       "    <tr>\n",
       "      <th>0.25</th>\n",
       "      <td>0.037472</td>\n",
       "      <td>0.027862</td>\n",
       "      <td>0.067658</td>\n",
       "      <td>0.096636</td>\n",
       "      <td>0.002582</td>\n",
       "      <td>0.029714</td>\n",
       "      <td>-1655.50</td>\n",
       "      <td>0.067255</td>\n",
       "      <td>3.084871</td>\n",
       "      <td>0.317633</td>\n",
       "    </tr>\n",
       "    <tr>\n",
       "      <th>0.75</th>\n",
       "      <td>0.068668</td>\n",
       "      <td>0.072967</td>\n",
       "      <td>0.495312</td>\n",
       "      <td>0.270619</td>\n",
       "      <td>0.014237</td>\n",
       "      <td>0.096898</td>\n",
       "      <td>10073.25</td>\n",
       "      <td>0.132712</td>\n",
       "      <td>6.504883</td>\n",
       "      <td>0.552283</td>\n",
       "    </tr>\n",
       "    <tr>\n",
       "      <th rowspan=\"3\" valign=\"top\">2017</th>\n",
       "      <th>0.50</th>\n",
       "      <td>0.061600</td>\n",
       "      <td>0.050611</td>\n",
       "      <td>0.193634</td>\n",
       "      <td>0.112579</td>\n",
       "      <td>0.002366</td>\n",
       "      <td>0.064328</td>\n",
       "      <td>6268.50</td>\n",
       "      <td>0.093514</td>\n",
       "      <td>4.094146</td>\n",
       "      <td>0.439600</td>\n",
       "    </tr>\n",
       "    <tr>\n",
       "      <th>0.25</th>\n",
       "      <td>0.045223</td>\n",
       "      <td>0.033320</td>\n",
       "      <td>0.066237</td>\n",
       "      <td>0.054838</td>\n",
       "      <td>0.001080</td>\n",
       "      <td>0.034038</td>\n",
       "      <td>-263.75</td>\n",
       "      <td>0.063870</td>\n",
       "      <td>2.683180</td>\n",
       "      <td>0.316343</td>\n",
       "    </tr>\n",
       "    <tr>\n",
       "      <th>0.75</th>\n",
       "      <td>0.085992</td>\n",
       "      <td>0.087220</td>\n",
       "      <td>0.481990</td>\n",
       "      <td>0.208345</td>\n",
       "      <td>0.005912</td>\n",
       "      <td>0.118846</td>\n",
       "      <td>17068.75</td>\n",
       "      <td>0.128649</td>\n",
       "      <td>5.308738</td>\n",
       "      <td>0.573945</td>\n",
       "    </tr>\n",
       "  </tbody>\n",
       "</table>\n",
       "</div>"
      ],
      "text/plain": [
       "                      cover crops  tile_num  irrigated_farms  fed_income  \\\n",
       "farm_class year                                                            \n",
       "Large      2012 0.50     0.041670  0.127717         0.229339    0.542362   \n",
       "                0.25     0.021464  0.054682         0.076927    0.380205   \n",
       "                0.75     0.080712  0.235294         0.580673    0.754120   \n",
       "           2017 0.50     0.056586  0.120968         0.230354    0.648803   \n",
       "                0.25     0.032867  0.055061         0.070451    0.368265   \n",
       "                0.75     0.103389  0.250698         0.600288    0.950451   \n",
       "Medium     2012 0.50     0.042964  0.077220         0.092497    0.387021   \n",
       "                0.25     0.029382  0.037321         0.038009    0.247631   \n",
       "                0.75     0.063455  0.130435         0.364958    0.535293   \n",
       "           2017 0.50     0.053649  0.075104         0.089452    0.276760   \n",
       "                0.25     0.038101  0.042813         0.036432    0.140183   \n",
       "                0.75     0.080659  0.138824         0.431109    0.428113   \n",
       "Small      2012 0.50     0.052256  0.043228         0.204299    0.176892   \n",
       "                0.25     0.037472  0.027862         0.067658    0.096636   \n",
       "                0.75     0.068668  0.072967         0.495312    0.270619   \n",
       "           2017 0.50     0.061600  0.050611         0.193634    0.112579   \n",
       "                0.25     0.045223  0.033320         0.066237    0.054838   \n",
       "                0.75     0.085992  0.087220         0.481990    0.208345   \n",
       "\n",
       "                      state_income  insured_farms  mean_netincome  \\\n",
       "farm_class year                                                     \n",
       "Large      2012 0.50      0.009333       0.562920       140939.50   \n",
       "                0.25      0.004927       0.323565        55668.75   \n",
       "                0.75      0.019736       0.749324       347685.00   \n",
       "           2017 0.50      0.009903       0.589558       131955.00   \n",
       "                0.25      0.006414       0.333333        61478.00   \n",
       "                0.75      0.018370       0.788291       259313.00   \n",
       "Medium     2012 0.50      0.009802       0.168990        17624.00   \n",
       "                0.25      0.005583       0.092301         6823.75   \n",
       "                0.75      0.024069       0.289584        33636.00   \n",
       "           2017 0.50      0.005720       0.189850        26584.00   \n",
       "                0.25      0.003414       0.106000        11244.25   \n",
       "                0.75      0.011800       0.329288        43282.25   \n",
       "Small      2012 0.50      0.005858       0.051813         2850.50   \n",
       "                0.25      0.002582       0.029714        -1655.50   \n",
       "                0.75      0.014237       0.096898        10073.25   \n",
       "           2017 0.50      0.002366       0.064328         6268.50   \n",
       "                0.25      0.001080       0.034038         -263.75   \n",
       "                0.75      0.005912       0.118846        17068.75   \n",
       "\n",
       "                      rented_land  machinery_asset  livestockfarm_share  \n",
       "farm_class year                                                          \n",
       "Large      2012 0.50     0.358036         8.638944             0.305833  \n",
       "                0.25     0.269035         6.363101             0.185929  \n",
       "                0.75     0.481019        11.891964             0.440078  \n",
       "           2017 0.50     0.347169        10.963246             0.329371  \n",
       "                0.25     0.273684         7.194350             0.208165  \n",
       "                0.75     0.471249        15.336193             0.469568  \n",
       "Medium     2012 0.50     0.191245         6.667088             0.325103  \n",
       "                0.25     0.156610         5.125284             0.241500  \n",
       "                0.75     0.233783         9.145882             0.440217  \n",
       "           2017 0.50     0.177836         6.119303             0.325151  \n",
       "                0.25     0.139017         4.340059             0.247555  \n",
       "                0.75     0.213968         8.305105             0.478033  \n",
       "Small      2012 0.50     0.097436         4.537696             0.440514  \n",
       "                0.25     0.067255         3.084871             0.317633  \n",
       "                0.75     0.132712         6.504883             0.552283  \n",
       "           2017 0.50     0.093514         4.094146             0.439600  \n",
       "                0.25     0.063870         2.683180             0.316343  \n",
       "                0.75     0.128649         5.308738             0.573945  "
      ]
     },
     "execution_count": 8,
     "metadata": {},
     "output_type": "execute_result"
    }
   ],
   "source": [
    "DF.groupby(['farm_class', 'year'])[varlist + ['livestockfarm_share']].quantile([0.5, 0.25, 0.75])"
   ]
  },
  {
   "cell_type": "code",
   "execution_count": 9,
   "metadata": {},
   "outputs": [],
   "source": [
    "def heatmap_vars(df,varlist, varnames):\n",
    "    corri = df[varlist].corr()\n",
    "\n",
    "    # plot half heatmap \n",
    "\n",
    "    mask = np.zeros_like(corri)\n",
    "    mask[np.triu_indices_from(mask)] = True\n",
    "    with sns.axes_style(\"white\"):\n",
    "        f, ax = plt.subplots(figsize=(11, 9))\n",
    "        sns.heatmap(corri, mask=mask, square=True,xticklabels=varnames,\n",
    "            yticklabels=varnames,cmap=\"YlGnBu\", annot=True, fmt=\".2f\", ax=ax, linewidth=.5)\n",
    "        bottom, top = ax.get_ylim()\n",
    "        ax.set_ylim(bottom + 0.5, top)"
   ]
  },
  {
   "cell_type": "code",
   "execution_count": 10,
   "metadata": {},
   "outputs": [
    {
     "data": {
      "image/png": "[encoded data removed]",
      "text/plain": [
       "<Figure size 792x648 with 2 Axes>"
      ]
     },
     "metadata": {},
     "output_type": "display_data"
    }
   ],
   "source": [
    "varlist=['cover crops','tile_num','ditches_num','land_concent','rented_land','insured_farms','irrigated_farms',\n",
    "         'mean_netincome','fert_share','machinery_asset','state_income','fed_income']\n",
    "varnames=['Cover crops','Tile pref','Ditches','Land concentration','Rented land', 'Insured farms', 'Irrigated farms',\n",
    "         'Net income','fertilizer','Machinery assets','State subsidies','Federal subsidies']\n",
    "heatmap_vars(DF[DF['year']==2017],varlist, varnames)\n"
   ]
  },
  {
   "cell_type": "code",
   "execution_count": 63,
   "metadata": {},
   "outputs": [
    {
     "data": {
      "text/html": [
       "<div>\n",
       "<style scoped>\n",
       "    .dataframe tbody tr th:only-of-type {\n",
       "        vertical-align: middle;\n",
       "    }\n",
       "\n",
       "    .dataframe tbody tr th {\n",
       "        vertical-align: top;\n",
       "    }\n",
       "\n",
       "    .dataframe thead th {\n",
       "        text-align: right;\n",
       "    }\n",
       "</style>\n",
       "<table border=\"1\" class=\"dataframe\">\n",
       "  <thead>\n",
       "    <tr style=\"text-align: right;\">\n",
       "      <th></th>\n",
       "      <th>cover crops</th>\n",
       "      <th>tile_num</th>\n",
       "      <th>ditches_num</th>\n",
       "      <th>land_concent</th>\n",
       "      <th>rented_land</th>\n",
       "      <th>insured_farms</th>\n",
       "      <th>irrigated_cropland</th>\n",
       "      <th>mean_netincome</th>\n",
       "      <th>workers_mean</th>\n",
       "      <th>machinery_asset</th>\n",
       "      <th>share_agroexp</th>\n",
       "      <th>state_income</th>\n",
       "      <th>fed_income</th>\n",
       "    </tr>\n",
       "  </thead>\n",
       "  <tbody>\n",
       "    <tr>\n",
       "      <td>cover crops</td>\n",
       "      <td>1.000000</td>\n",
       "      <td>0.023033</td>\n",
       "      <td>0.161067</td>\n",
       "      <td>0.177527</td>\n",
       "      <td>0.099975</td>\n",
       "      <td>0.033391</td>\n",
       "      <td>-0.114223</td>\n",
       "      <td>0.143325</td>\n",
       "      <td>0.197797</td>\n",
       "      <td>0.043976</td>\n",
       "      <td>-0.365153</td>\n",
       "      <td>0.447394</td>\n",
       "      <td>-0.079426</td>\n",
       "    </tr>\n",
       "    <tr>\n",
       "      <td>tile_num</td>\n",
       "      <td>0.023033</td>\n",
       "      <td>1.000000</td>\n",
       "      <td>0.225361</td>\n",
       "      <td>0.244915</td>\n",
       "      <td>0.404747</td>\n",
       "      <td>0.490809</td>\n",
       "      <td>-0.310888</td>\n",
       "      <td>0.297643</td>\n",
       "      <td>-0.080609</td>\n",
       "      <td>0.286933</td>\n",
       "      <td>0.081509</td>\n",
       "      <td>-0.045498</td>\n",
       "      <td>0.125180</td>\n",
       "    </tr>\n",
       "    <tr>\n",
       "      <td>ditches_num</td>\n",
       "      <td>0.161067</td>\n",
       "      <td>0.225361</td>\n",
       "      <td>1.000000</td>\n",
       "      <td>0.261583</td>\n",
       "      <td>0.253989</td>\n",
       "      <td>0.154424</td>\n",
       "      <td>0.037178</td>\n",
       "      <td>0.265873</td>\n",
       "      <td>0.114734</td>\n",
       "      <td>0.156478</td>\n",
       "      <td>-0.198752</td>\n",
       "      <td>0.082645</td>\n",
       "      <td>0.108741</td>\n",
       "    </tr>\n",
       "    <tr>\n",
       "      <td>land_concent</td>\n",
       "      <td>0.177527</td>\n",
       "      <td>0.244915</td>\n",
       "      <td>0.261583</td>\n",
       "      <td>1.000000</td>\n",
       "      <td>0.586340</td>\n",
       "      <td>0.327786</td>\n",
       "      <td>0.018594</td>\n",
       "      <td>0.765382</td>\n",
       "      <td>0.133911</td>\n",
       "      <td>0.323344</td>\n",
       "      <td>-0.110900</td>\n",
       "      <td>0.204727</td>\n",
       "      <td>0.279132</td>\n",
       "    </tr>\n",
       "    <tr>\n",
       "      <td>rented_land</td>\n",
       "      <td>0.099975</td>\n",
       "      <td>0.404747</td>\n",
       "      <td>0.253989</td>\n",
       "      <td>0.586340</td>\n",
       "      <td>1.000000</td>\n",
       "      <td>0.739129</td>\n",
       "      <td>-0.032939</td>\n",
       "      <td>0.658448</td>\n",
       "      <td>-0.033243</td>\n",
       "      <td>0.488391</td>\n",
       "      <td>0.002316</td>\n",
       "      <td>0.148511</td>\n",
       "      <td>0.536511</td>\n",
       "    </tr>\n",
       "    <tr>\n",
       "      <td>insured_farms</td>\n",
       "      <td>0.033391</td>\n",
       "      <td>0.490809</td>\n",
       "      <td>0.154424</td>\n",
       "      <td>0.327786</td>\n",
       "      <td>0.739129</td>\n",
       "      <td>1.000000</td>\n",
       "      <td>-0.053270</td>\n",
       "      <td>0.626246</td>\n",
       "      <td>-0.104888</td>\n",
       "      <td>0.350086</td>\n",
       "      <td>0.314908</td>\n",
       "      <td>0.050933</td>\n",
       "      <td>0.531097</td>\n",
       "    </tr>\n",
       "    <tr>\n",
       "      <td>irrigated_cropland</td>\n",
       "      <td>-0.114223</td>\n",
       "      <td>-0.310888</td>\n",
       "      <td>0.037178</td>\n",
       "      <td>0.018594</td>\n",
       "      <td>-0.032939</td>\n",
       "      <td>-0.053270</td>\n",
       "      <td>1.000000</td>\n",
       "      <td>0.066109</td>\n",
       "      <td>0.061387</td>\n",
       "      <td>-0.092379</td>\n",
       "      <td>-0.131253</td>\n",
       "      <td>-0.136798</td>\n",
       "      <td>-0.049109</td>\n",
       "    </tr>\n",
       "    <tr>\n",
       "      <td>mean_netincome</td>\n",
       "      <td>0.143325</td>\n",
       "      <td>0.297643</td>\n",
       "      <td>0.265873</td>\n",
       "      <td>0.765382</td>\n",
       "      <td>0.658448</td>\n",
       "      <td>0.626246</td>\n",
       "      <td>0.066109</td>\n",
       "      <td>1.000000</td>\n",
       "      <td>0.004627</td>\n",
       "      <td>0.357272</td>\n",
       "      <td>-0.017944</td>\n",
       "      <td>0.079737</td>\n",
       "      <td>0.302240</td>\n",
       "    </tr>\n",
       "    <tr>\n",
       "      <td>workers_mean</td>\n",
       "      <td>0.197797</td>\n",
       "      <td>-0.080609</td>\n",
       "      <td>0.114734</td>\n",
       "      <td>0.133911</td>\n",
       "      <td>-0.033243</td>\n",
       "      <td>-0.104888</td>\n",
       "      <td>0.061387</td>\n",
       "      <td>0.004627</td>\n",
       "      <td>1.000000</td>\n",
       "      <td>0.087520</td>\n",
       "      <td>-0.038163</td>\n",
       "      <td>0.046928</td>\n",
       "      <td>-0.140915</td>\n",
       "    </tr>\n",
       "    <tr>\n",
       "      <td>machinery_asset</td>\n",
       "      <td>0.043976</td>\n",
       "      <td>0.286933</td>\n",
       "      <td>0.156478</td>\n",
       "      <td>0.323344</td>\n",
       "      <td>0.488391</td>\n",
       "      <td>0.350086</td>\n",
       "      <td>-0.092379</td>\n",
       "      <td>0.357272</td>\n",
       "      <td>0.087520</td>\n",
       "      <td>1.000000</td>\n",
       "      <td>-0.091085</td>\n",
       "      <td>0.210771</td>\n",
       "      <td>0.622946</td>\n",
       "    </tr>\n",
       "    <tr>\n",
       "      <td>share_agroexp</td>\n",
       "      <td>-0.365153</td>\n",
       "      <td>0.081509</td>\n",
       "      <td>-0.198752</td>\n",
       "      <td>-0.110900</td>\n",
       "      <td>0.002316</td>\n",
       "      <td>0.314908</td>\n",
       "      <td>-0.131253</td>\n",
       "      <td>-0.017944</td>\n",
       "      <td>-0.038163</td>\n",
       "      <td>-0.091085</td>\n",
       "      <td>1.000000</td>\n",
       "      <td>-0.192003</td>\n",
       "      <td>0.096855</td>\n",
       "    </tr>\n",
       "    <tr>\n",
       "      <td>state_income</td>\n",
       "      <td>0.447394</td>\n",
       "      <td>-0.045498</td>\n",
       "      <td>0.082645</td>\n",
       "      <td>0.204727</td>\n",
       "      <td>0.148511</td>\n",
       "      <td>0.050933</td>\n",
       "      <td>-0.136798</td>\n",
       "      <td>0.079737</td>\n",
       "      <td>0.046928</td>\n",
       "      <td>0.210771</td>\n",
       "      <td>-0.192003</td>\n",
       "      <td>1.000000</td>\n",
       "      <td>0.134555</td>\n",
       "    </tr>\n",
       "    <tr>\n",
       "      <td>fed_income</td>\n",
       "      <td>-0.079426</td>\n",
       "      <td>0.125180</td>\n",
       "      <td>0.108741</td>\n",
       "      <td>0.279132</td>\n",
       "      <td>0.536511</td>\n",
       "      <td>0.531097</td>\n",
       "      <td>-0.049109</td>\n",
       "      <td>0.302240</td>\n",
       "      <td>-0.140915</td>\n",
       "      <td>0.622946</td>\n",
       "      <td>0.096855</td>\n",
       "      <td>0.134555</td>\n",
       "      <td>1.000000</td>\n",
       "    </tr>\n",
       "  </tbody>\n",
       "</table>\n",
       "</div>"
      ],
      "text/plain": [
       "                    cover crops  tile_num  ditches_num  land_concent  \\\n",
       "cover crops            1.000000  0.023033     0.161067      0.177527   \n",
       "tile_num               0.023033  1.000000     0.225361      0.244915   \n",
       "ditches_num            0.161067  0.225361     1.000000      0.261583   \n",
       "land_concent           0.177527  0.244915     0.261583      1.000000   \n",
       "rented_land            0.099975  0.404747     0.253989      0.586340   \n",
       "insured_farms          0.033391  0.490809     0.154424      0.327786   \n",
       "irrigated_cropland    -0.114223 -0.310888     0.037178      0.018594   \n",
       "mean_netincome         0.143325  0.297643     0.265873      0.765382   \n",
       "workers_mean           0.197797 -0.080609     0.114734      0.133911   \n",
       "machinery_asset        0.043976  0.286933     0.156478      0.323344   \n",
       "share_agroexp         -0.365153  0.081509    -0.198752     -0.110900   \n",
       "state_income           0.447394 -0.045498     0.082645      0.204727   \n",
       "fed_income            -0.079426  0.125180     0.108741      0.279132   \n",
       "\n",
       "                    rented_land  insured_farms  irrigated_cropland  \\\n",
       "cover crops            0.099975       0.033391           -0.114223   \n",
       "tile_num               0.404747       0.490809           -0.310888   \n",
       "ditches_num            0.253989       0.154424            0.037178   \n",
       "land_concent           0.586340       0.327786            0.018594   \n",
       "rented_land            1.000000       0.739129           -0.032939   \n",
       "insured_farms          0.739129       1.000000           -0.053270   \n",
       "irrigated_cropland    -0.032939      -0.053270            1.000000   \n",
       "mean_netincome         0.658448       0.626246            0.066109   \n",
       "workers_mean          -0.033243      -0.104888            0.061387   \n",
       "machinery_asset        0.488391       0.350086           -0.092379   \n",
       "share_agroexp          0.002316       0.314908           -0.131253   \n",
       "state_income           0.148511       0.050933           -0.136798   \n",
       "fed_income             0.536511       0.531097           -0.049109   \n",
       "\n",
       "                    mean_netincome  workers_mean  machinery_asset  \\\n",
       "cover crops               0.143325      0.197797         0.043976   \n",
       "tile_num                  0.297643     -0.080609         0.286933   \n",
       "ditches_num               0.265873      0.114734         0.156478   \n",
       "land_concent              0.765382      0.133911         0.323344   \n",
       "rented_land               0.658448     -0.033243         0.488391   \n",
       "insured_farms             0.626246     -0.104888         0.350086   \n",
       "irrigated_cropland        0.066109      0.061387        -0.092379   \n",
       "mean_netincome            1.000000      0.004627         0.357272   \n",
       "workers_mean              0.004627      1.000000         0.087520   \n",
       "machinery_asset           0.357272      0.087520         1.000000   \n",
       "share_agroexp            -0.017944     -0.038163        -0.091085   \n",
       "state_income              0.079737      0.046928         0.210771   \n",
       "fed_income                0.302240     -0.140915         0.622946   \n",
       "\n",
       "                    share_agroexp  state_income  fed_income  \n",
       "cover crops             -0.365153      0.447394   -0.079426  \n",
       "tile_num                 0.081509     -0.045498    0.125180  \n",
       "ditches_num             -0.198752      0.082645    0.108741  \n",
       "land_concent            -0.110900      0.204727    0.279132  \n",
       "rented_land              0.002316      0.148511    0.536511  \n",
       "insured_farms            0.314908      0.050933    0.531097  \n",
       "irrigated_cropland      -0.131253     -0.136798   -0.049109  \n",
       "mean_netincome          -0.017944      0.079737    0.302240  \n",
       "workers_mean            -0.038163      0.046928   -0.140915  \n",
       "machinery_asset         -0.091085      0.210771    0.622946  \n",
       "share_agroexp            1.000000     -0.192003    0.096855  \n",
       "state_income            -0.192003      1.000000    0.134555  \n",
       "fed_income               0.096855      0.134555    1.000000  "
      ]
     },
     "execution_count": 63,
     "metadata": {},
     "output_type": "execute_result"
    }
   ],
   "source": [
    "corri = DF[varlist].corr()\n",
    "corri"
   ]
  },
  {
   "cell_type": "code",
   "execution_count": 41,
   "metadata": {},
   "outputs": [
    {
     "data": {
      "text/plain": [
       "<Figure size 1440x432 with 0 Axes>"
      ]
     },
     "metadata": {},
     "output_type": "display_data"
    },
    {
     "data": {
      "image/png": "[encoded data removed]",
      "text/plain": [
       "<Figure size 504x360 with 2 Axes>"
      ]
     },
     "metadata": {},
     "output_type": "display_data"
    },
    {
     "data": {
      "image/png": "[encoded data removed]",
      "text/plain": [
       "<Figure size 504x360 with 2 Axes>"
      ]
     },
     "metadata": {},
     "output_type": "display_data"
    },
    {
     "data": {
      "image/png": "[encoded data removed]",
      "text/plain": [
       "<Figure size 504x360 with 2 Axes>"
      ]
     },
     "metadata": {},
     "output_type": "display_data"
    }
   ],
   "source": [
    "plt.figure(figsize=(20,6))\n",
    "for fm in DF['farm class'].unique().tolist():\n",
    "\n",
    "    heatmap_vars(DF[(DF['farm class']== fm)],varlist, varnames)"
   ]
  },
  {
   "cell_type": "markdown",
   "metadata": {},
   "source": [
    "## Compute Gaps"
   ]
  },
  {
   "cell_type": "code",
   "execution_count": 6,
   "metadata": {},
   "outputs": [],
   "source": [
    "# Get categories averages\n",
    "\n",
    "### Land, farms and practices are aggregated (numerator and denominator) by category\n",
    "## land and operations share by category\n",
    "DF['tot_ope_cat']= DF.groupby(['year','State','farm_class'])['farms_tot'].transform('sum') ## total values\n",
    "DF['tot_land_cat']= DF.groupby(['year','State','farm_class'])['acres_tot'].transform('sum')\n",
    "\n",
    "\n",
    "DF['ope_share_cat']= DF.groupby(['year','State','farm_class'])['share_farms'].transform('sum') ## share values\n",
    "DF['land_share_cat']= DF.groupby(['year','State','farm_class'])['share_acres'].transform('sum')\n",
    "\n",
    "## Operations share within category\n",
    "\n",
    "DF['ope_weight']= DF['farms_tot']/DF['tot_ope_cat']\n",
    "\n",
    "## Large farms participation\n",
    "\n",
    "## coverage practices by CATEGORY\n",
    "DF['covercrops_cat']= (DF.groupby(['year','State','farm_class'])['(EXCL CRP) - ACRES'].transform('sum'))/DF['tot_land_cat']\n",
    "DF['tile_cat']= (DF.groupby(['year','State','farm_class'])['DRAINED BY TILE - NUMBER OF OPERATIONS'].transform('sum'))/DF['tot_ope_cat']\n",
    "DF['irrigation_cat']= (DF.groupby(['year','State','farm_class'])['IRRIGATED - NUMBER OF OPERATIONS'].transform('sum'))/DF['tot_ope_cat']\n",
    "\n",
    "DF['covercrops_mean']= (DF.groupby(['year','State','farm_class'])['cover crops'].transform('mean'))\n",
    "DF['tile_mean']= (DF.groupby(['year','State','farm_class'])['tile_num'].transform('mean'))\n",
    "DF['irrigation_mean']= (DF.groupby(['year','State','farm_class'])['irrigated_farms'].transform('mean'))\n"
   ]
  },
  {
   "cell_type": "code",
   "execution_count": 7,
   "metadata": {},
   "outputs": [],
   "source": [
    "## Other variables: we take a weighted average\n",
    "listA= ['cover crops', 'tile_num','irrigated_farms','rented_land','machinery_asset',\n",
    "        'state_income','fed_income','insured_farms']\n",
    "\n",
    "# 'share farms' is the % per group: use it as weight\n",
    "listC=[]\n",
    "for var in listA:\n",
    "    DF[var+'_w']= DF[var]*DF['ope_weight']\n",
    "    DF[var+'_cat']= DF.groupby(['year','State','farm_class'])[var+'_w'].transform('sum')\n",
    "    listC+= [var+'_']"
   ]
  },
  {
   "cell_type": "code",
   "execution_count": 8,
   "metadata": {},
   "outputs": [],
   "source": [
    "# Dataframe with S, M, L categories summaries (weighted averages): DFcat\n",
    "DFcat= DF.drop_duplicates(subset=['year','State','farm_class'], keep= 'first')"
   ]
  },
  {
   "cell_type": "code",
   "execution_count": 10,
   "metadata": {},
   "outputs": [
    {
     "name": "stderr",
     "output_type": "stream",
     "text": [
      "<ipython-input-10-d6112708d169>:7: SettingWithCopyWarning: \n",
      "A value is trying to be set on a copy of a slice from a DataFrame.\n",
      "Try using .loc[row_indexer,col_indexer] = value instead\n",
      "\n",
      "See the caveats in the documentation: https://pandas.pydata.org/pandas-docs/stable/user_guide/indexing.html#returning-a-view-versus-a-copy\n",
      "  DFg[var+'_gap'] = DFg.groupby(['year','state_fips_code'])[var+'_cat'].shift(-1)- DFg[var+'_cat']\n"
     ]
    }
   ],
   "source": [
    "## Dataframe with Small and Large categories: DFg\n",
    "\n",
    "DFg= DFcat[DFcat['farm_class']!= 'Medium'] #keep small and large categories\n",
    "#DFg= DFcat[DFcat['farm_class']!= 'Large']\n",
    "listC=[]\n",
    "for var in listA+['land_share', 'ope_share']:\n",
    "    DFg[var+'_gap'] = DFg.groupby(['year','state_fips_code'])[var+'_cat'].shift(-1)- DFg[var+'_cat']\n",
    "    listC+= [var+'_gap']"
   ]
  },
  {
   "cell_type": "code",
   "execution_count": 11,
   "metadata": {},
   "outputs": [
    {
     "name": "stderr",
     "output_type": "stream",
     "text": [
      "<ipython-input-11-28b9cc7c2da9>:1: SettingWithCopyWarning: \n",
      "A value is trying to be set on a copy of a slice from a DataFrame\n",
      "\n",
      "See the caveats in the documentation: https://pandas.pydata.org/pandas-docs/stable/user_guide/indexing.html#returning-a-view-versus-a-copy\n",
      "  DFg.drop_duplicates(subset=['year','State'], keep= 'first', inplace=True)\n"
     ]
    }
   ],
   "source": [
    "DFg.drop_duplicates(subset=['year','State'], keep= 'first', inplace=True)"
   ]
  },
  {
   "cell_type": "markdown",
   "metadata": {},
   "source": [
    "## Maps\n"
   ]
  },
  {
   "cell_type": "code",
   "execution_count": 17,
   "metadata": {},
   "outputs": [],
   "source": [
    "def states_map(state_abb, color, dfvar, label_var, filename):\n",
    "    fig = go.Figure(data=go.Choropleth(\n",
    "        locations= state_abb, # Spatial coordinates\n",
    "        z = dfvar, # Data to be color-coded\n",
    "        locationmode = 'USA-states', # set of locations match entries in `locations`\n",
    "        colorscale = color\n",
    "        ,colorbar_title = label_var\n",
    "        ,reversescale=False\n",
    "    ))\n",
    "\n",
    "    fig.update_layout(\n",
    "        title_text = \"\",\n",
    "        geo_scope='usa', # limite map scope to USA\n",
    "        font=dict(family=\"Times New Roman\", size= 22),\n",
    "    )\n",
    "    fig.show()\n",
    "    pio.write_image(fig, cwd[:-4]+'/Results/Graphics/'+filename,scale=6, width=1000, height=700, engine=\"kaleido\")\n",
    "\n"
   ]
  },
  {
   "cell_type": "code",
   "execution_count": 15,
   "metadata": {},
   "outputs": [],
   "source": [
    " ## Add state abbreviations\n",
    "dfs= pd.read_csv(cwd[:-4]+'/Data/us_states.csv')\n",
    "dfs= dfs[['Abbreviation', 'Fips']]\n",
    "dfs.rename(columns= {'Fips': 'state_fips_code'}, inplace= True)\n",
    "DF= DF.merge(dfs, on= ['state_fips_code'])\n",
    "\n",
    "## Add state abbreviations\n",
    "dfs= pd.read_csv(cwd[:-4]+'/Data/us_states.csv')\n",
    "dfs= dfs[['Abbreviation', 'Fips']]\n",
    "dfs.rename(columns= {'Fips': 'state_fips_code'}, inplace= True)\n",
    "DFg= DFg.merge(dfs, on= ['state_fips_code'])\n",
    "DFcat= DFcat.merge(dfs, on= ['state_fips_code'])"
   ]
  },
  {
   "cell_type": "code",
   "execution_count": 27,
   "metadata": {},
   "outputs": [
    {
     "data": {
      "application/vnd.plotly.v1+json": {
       "config": {
        "plotlyServerURL": "https://plot.ly"
       },
       "data": [
        {
         "colorbar": {
          "title": {
           "text": "%"
          }
         },
         "colorscale": [
          [
           0,
           "rgb(247,252,245)"
          ],
          [
           0.125,
           "rgb(229,245,224)"
          ],
          [
           0.25,
           "rgb(199,233,192)"
          ],
          [
           0.375,
           "rgb(161,217,155)"
          ],
          [
           0.5,
           "rgb(116,196,118)"
          ],
          [
           0.625,
           "rgb(65,171,93)"
          ],
          [
           0.75,
           "rgb(35,139,69)"
          ],
          [
           0.875,
           "rgb(0,109,44)"
          ],
          [
           1,
           "rgb(0,68,27)"
          ]
         ],
         "locationmode": "USA-states",
         "locations": [
          "AL",
          "AL",
          "AL",
          "AL",
          "AL",
          "AL",
          "AL",
          "AL",
          "AL",
          "AL",
          "AL",
          "AL",
          "AZ",
          "AZ",
          "AZ",
          "AZ",
          "AZ",
          "AZ",
          "AZ",
          "AZ",
          "AZ",
          "AZ",
          "AZ",
          "AZ",
          "AR",
          "AR",
          "AR",
          "AR",
          "AR",
          "AR",
          "AR",
          "AR",
          "AR",
          "AR",
          "AR",
          "AR",
          "CA",
          "CA",
          "CA",
          "CA",
          "CA",
          "CA",
          "CA",
          "CA",
          "CA",
          "CA",
          "CA",
          "CA",
          "CO",
          "CO",
          "CO",
          "CO",
          "CO",
          "CO",
          "CO",
          "CO",
          "CO",
          "CO",
          "CO",
          "CO",
          "CT",
          "CT",
          "CT",
          "CT",
          "CT",
          "CT",
          "CT",
          "CT",
          "CT",
          "CT",
          "CT",
          "CT",
          "DE",
          "DE",
          "DE",
          "DE",
          "DE",
          "DE",
          "DE",
          "DE",
          "DE",
          "DE",
          "DE",
          "DE",
          "FL",
          "FL",
          "FL",
          "FL",
          "FL",
          "FL",
          "FL",
          "FL",
          "FL",
          "FL",
          "FL",
          "FL",
          "GA",
          "GA",
          "GA",
          "GA",
          "GA",
          "GA",
          "GA",
          "GA",
          "GA",
          "GA",
          "GA",
          "GA",
          "ID",
          "ID",
          "ID",
          "ID",
          "ID",
          "ID",
          "ID",
          "ID",
          "ID",
          "ID",
          "ID",
          "ID",
          "IL",
          "IL",
          "IL",
          "IL",
          "IL",
          "IL",
          "IL",
          "IL",
          "IL",
          "IL",
          "IL",
          "IL",
          "IN",
          "IN",
          "IN",
          "IN",
          "IN",
          "IN",
          "IN",
          "IN",
          "IN",
          "IN",
          "IN",
          "IN",
          "IA",
          "IA",
          "IA",
          "IA",
          "IA",
          "IA",
          "IA",
          "IA",
          "IA",
          "IA",
          "IA",
          "IA",
          "KS",
          "KS",
          "KS",
          "KS",
          "KS",
          "KS",
          "KS",
          "KS",
          "KS",
          "KS",
          "KS",
          "KS",
          "KY",
          "KY",
          "KY",
          "KY",
          "KY",
          "KY",
          "KY",
          "KY",
          "KY",
          "KY",
          "KY",
          "KY",
          "LA",
          "LA",
          "LA",
          "LA",
          "LA",
          "LA",
          "LA",
          "LA",
          "LA",
          "LA",
          "LA",
          "LA",
          "ME",
          "ME",
          "ME",
          "ME",
          "ME",
          "ME",
          "ME",
          "ME",
          "ME",
          "ME",
          "ME",
          "ME",
          "MD",
          "MD",
          "MD",
          "MD",
          "MD",
          "MD",
          "MD",
          "MD",
          "MD",
          "MD",
          "MD",
          "MD",
          "MA",
          "MA",
          "MA",
          "MA",
          "MA",
          "MA",
          "MA",
          "MA",
          "MA",
          "MA",
          "MA",
          "MA",
          "MI",
          "MI",
          "MI",
          "MI",
          "MI",
          "MI",
          "MI",
          "MI",
          "MI",
          "MI",
          "MI",
          "MI",
          "MN",
          "MN",
          "MN",
          "MN",
          "MN",
          "MN",
          "MN",
          "MN",
          "MN",
          "MN",
          "MN",
          "MN",
          "MS",
          "MS",
          "MS",
          "MS",
          "MS",
          "MS",
          "MS",
          "MS",
          "MS",
          "MS",
          "MS",
          "MS",
          "MO",
          "MO",
          "MO",
          "MO",
          "MO",
          "MO",
          "MO",
          "MO",
          "MO",
          "MO",
          "MO",
          "MO",
          "MT",
          "MT",
          "MT",
          "MT",
          "MT",
          "MT",
          "MT",
          "MT",
          "MT",
          "MT",
          "MT",
          "MT",
          "NE",
          "NE",
          "NE",
          "NE",
          "NE",
          "NE",
          "NE",
          "NE",
          "NE",
          "NE",
          "NE",
          "NE",
          "NV",
          "NV",
          "NV",
          "NV",
          "NV",
          "NV",
          "NV",
          "NV",
          "NV",
          "NV",
          "NV",
          "NV",
          "NH",
          "NH",
          "NH",
          "NH",
          "NH",
          "NH",
          "NH",
          "NH",
          "NH",
          "NH",
          "NH",
          "NJ",
          "NJ",
          "NJ",
          "NJ",
          "NJ",
          "NJ",
          "NJ",
          "NJ",
          "NJ",
          "NJ",
          "NJ",
          "NJ",
          "NM",
          "NM",
          "NM",
          "NM",
          "NM",
          "NM",
          "NM",
          "NM",
          "NM",
          "NM",
          "NM",
          "NM",
          "NY",
          "NY",
          "NY",
          "NY",
          "NY",
          "NY",
          "NY",
          "NY",
          "NY",
          "NY",
          "NY",
          "NY",
          "NC",
          "NC",
          "NC",
          "NC",
          "NC",
          "NC",
          "NC",
          "NC",
          "NC",
          "NC",
          "NC",
          "NC",
          "ND",
          "ND",
          "ND",
          "ND",
          "ND",
          "ND",
          "ND",
          "ND",
          "ND",
          "ND",
          "ND",
          "ND",
          "OH",
          "OH",
          "OH",
          "OH",
          "OH",
          "OH",
          "OH",
          "OH",
          "OH",
          "OH",
          "OH",
          "OH",
          "OK",
          "OK",
          "OK",
          "OK",
          "OK",
          "OK",
          "OK",
          "OK",
          "OK",
          "OK",
          "OK",
          "OK",
          "OR",
          "OR",
          "OR",
          "OR",
          "OR",
          "OR",
          "OR",
          "OR",
          "OR",
          "OR",
          "OR",
          "OR",
          "PA",
          "PA",
          "PA",
          "PA",
          "PA",
          "PA",
          "PA",
          "PA",
          "PA",
          "PA",
          "PA",
          "PA",
          "RI",
          "RI",
          "RI",
          "RI",
          "RI",
          "RI",
          "RI",
          "RI",
          "RI",
          "RI",
          "RI",
          "SC",
          "SC",
          "SC",
          "SC",
          "SC",
          "SC",
          "SC",
          "SC",
          "SC",
          "SC",
          "SC",
          "SC",
          "SD",
          "SD",
          "SD",
          "SD",
          "SD",
          "SD",
          "SD",
          "SD",
          "SD",
          "SD",
          "SD",
          "SD",
          "TN",
          "TN",
          "TN",
          "TN",
          "TN",
          "TN",
          "TN",
          "TN",
          "TN",
          "TN",
          "TN",
          "TN",
          "TX",
          "TX",
          "TX",
          "TX",
          "TX",
          "TX",
          "TX",
          "TX",
          "TX",
          "TX",
          "TX",
          "TX",
          "UT",
          "UT",
          "UT",
          "UT",
          "UT",
          "UT",
          "UT",
          "UT",
          "UT",
          "UT",
          "UT",
          "UT",
          "VT",
          "VT",
          "VT",
          "VT",
          "VT",
          "VT",
          "VT",
          "VT",
          "VT",
          "VT",
          "VT",
          "VT",
          "VA",
          "VA",
          "VA",
          "VA",
          "VA",
          "VA",
          "VA",
          "VA",
          "VA",
          "VA",
          "VA",
          "VA",
          "WA",
          "WA",
          "WA",
          "WA",
          "WA",
          "WA",
          "WA",
          "WA",
          "WA",
          "WA",
          "WA",
          "WA",
          "WV",
          "WV",
          "WV",
          "WV",
          "WV",
          "WV",
          "WV",
          "WV",
          "WV",
          "WV",
          "WV",
          "WV",
          "WI",
          "WI",
          "WI",
          "WI",
          "WI",
          "WI",
          "WI",
          "WI",
          "WI",
          "WI",
          "WI",
          "WI",
          "WY",
          "WY",
          "WY",
          "WY",
          "WY",
          "WY",
          "WY",
          "WY",
          "WY",
          "WY",
          "WY",
          "WY"
         ],
         "reversescale": false,
         "type": "choropleth",
         "z": [
          233.5660552251612,
          233.5660552251612,
          233.5660552251612,
          233.5660552251612,
          233.5660552251612,
          233.5660552251612,
          233.5660552251612,
          233.5660552251612,
          233.5660552251612,
          233.5660552251612,
          233.5660552251612,
          233.5660552251612,
          246.8627598299287,
          246.8627598299287,
          246.8627598299287,
          246.8627598299287,
          246.8627598299287,
          246.8627598299287,
          246.8627598299287,
          246.8627598299287,
          246.8627598299287,
          246.8627598299287,
          246.8627598299287,
          246.8627598299287,
          229.22529808627485,
          229.22529808627485,
          229.22529808627485,
          229.22529808627485,
          229.22529808627485,
          229.22529808627485,
          229.22529808627485,
          229.22529808627485,
          229.22529808627485,
          229.22529808627485,
          229.22529808627485,
          229.22529808627485,
          270.85215277533695,
          270.85215277533695,
          270.85215277533695,
          270.85215277533695,
          270.85215277533695,
          270.85215277533695,
          270.85215277533695,
          270.85215277533695,
          270.85215277533695,
          270.85215277533695,
          270.85215277533695,
          270.85215277533695,
          139.58052016194253,
          139.58052016194253,
          139.58052016194253,
          139.58052016194253,
          139.58052016194253,
          139.58052016194253,
          139.58052016194253,
          139.58052016194253,
          139.58052016194253,
          139.58052016194253,
          139.58052016194253,
          139.58052016194253,
          183.3708610471874,
          183.3708610471874,
          183.3708610471874,
          183.3708610471874,
          183.3708610471874,
          183.3708610471874,
          183.3708610471874,
          183.3708610471874,
          183.3708610471874,
          183.3708610471874,
          183.3708610471874,
          183.3708610471874,
          210.38149213308577,
          210.38149213308577,
          210.38149213308577,
          210.38149213308577,
          210.38149213308577,
          210.38149213308577,
          210.38149213308577,
          210.38149213308577,
          210.38149213308577,
          210.38149213308577,
          210.38149213308577,
          210.38149213308577,
          301.731860856282,
          301.731860856282,
          301.731860856282,
          301.731860856282,
          301.731860856282,
          301.731860856282,
          301.731860856282,
          301.731860856282,
          301.731860856282,
          301.731860856282,
          301.731860856282,
          301.731860856282,
          240.3413141133264,
          240.3413141133264,
          240.3413141133264,
          240.3413141133264,
          240.3413141133264,
          240.3413141133264,
          240.3413141133264,
          240.3413141133264,
          240.3413141133264,
          240.3413141133264,
          240.3413141133264,
          240.3413141133264,
          133.64613051030486,
          133.64613051030486,
          133.64613051030486,
          133.64613051030486,
          133.64613051030486,
          133.64613051030486,
          133.64613051030486,
          133.64613051030486,
          133.64613051030486,
          133.64613051030486,
          133.64613051030486,
          133.64613051030486,
          197.5363521089352,
          197.5363521089352,
          197.5363521089352,
          197.5363521089352,
          197.5363521089352,
          197.5363521089352,
          197.5363521089352,
          197.5363521089352,
          197.5363521089352,
          197.5363521089352,
          197.5363521089352,
          197.5363521089352,
          193.94407309477657,
          193.94407309477657,
          193.94407309477657,
          193.94407309477657,
          193.94407309477657,
          193.94407309477657,
          193.94407309477657,
          193.94407309477657,
          193.94407309477657,
          193.94407309477657,
          193.94407309477657,
          193.94407309477657,
          171.91085308782644,
          171.91085308782644,
          171.91085308782644,
          171.91085308782644,
          171.91085308782644,
          171.91085308782644,
          171.91085308782644,
          171.91085308782644,
          171.91085308782644,
          171.91085308782644,
          171.91085308782644,
          171.91085308782644,
          192.464683694622,
          192.464683694622,
          192.464683694622,
          192.464683694622,
          192.464683694622,
          192.464683694622,
          192.464683694622,
          192.464683694622,
          192.464683694622,
          192.464683694622,
          192.464683694622,
          192.464683694622,
          206.43546872718824,
          206.43546872718824,
          206.43546872718824,
          206.43546872718824,
          206.43546872718824,
          206.43546872718824,
          206.43546872718824,
          206.43546872718824,
          206.43546872718824,
          206.43546872718824,
          206.43546872718824,
          206.43546872718824,
          275.75029332675547,
          275.75029332675547,
          275.75029332675547,
          275.75029332675547,
          275.75029332675547,
          275.75029332675547,
          275.75029332675547,
          275.75029332675547,
          275.75029332675547,
          275.75029332675547,
          275.75029332675547,
          275.75029332675547,
          158.84373220580125,
          158.84373220580125,
          158.84373220580125,
          158.84373220580125,
          158.84373220580125,
          158.84373220580125,
          158.84373220580125,
          158.84373220580125,
          158.84373220580125,
          158.84373220580125,
          158.84373220580125,
          158.84373220580125,
          208.96839433335023,
          208.96839433335023,
          208.96839433335023,
          208.96839433335023,
          208.96839433335023,
          208.96839433335023,
          208.96839433335023,
          208.96839433335023,
          208.96839433335023,
          208.96839433335023,
          208.96839433335023,
          208.96839433335023,
          183.5124040081468,
          183.5124040081468,
          183.5124040081468,
          183.5124040081468,
          183.5124040081468,
          183.5124040081468,
          183.5124040081468,
          183.5124040081468,
          183.5124040081468,
          183.5124040081468,
          183.5124040081468,
          183.5124040081468,
          153.85935154385956,
          153.85935154385956,
          153.85935154385956,
          153.85935154385956,
          153.85935154385956,
          153.85935154385956,
          153.85935154385956,
          153.85935154385956,
          153.85935154385956,
          153.85935154385956,
          153.85935154385956,
          153.85935154385956,
          154.43988743377162,
          154.43988743377162,
          154.43988743377162,
          154.43988743377162,
          154.43988743377162,
          154.43988743377162,
          154.43988743377162,
          154.43988743377162,
          154.43988743377162,
          154.43988743377162,
          154.43988743377162,
          154.43988743377162,
          241.9757534694239,
          241.9757534694239,
          241.9757534694239,
          241.9757534694239,
          241.9757534694239,
          241.9757534694239,
          241.9757534694239,
          241.9757534694239,
          241.9757534694239,
          241.9757534694239,
          241.9757534694239,
          241.9757534694239,
          200.36574537744104,
          200.36574537744104,
          200.36574537744104,
          200.36574537744104,
          200.36574537744104,
          200.36574537744104,
          200.36574537744104,
          200.36574537744104,
          200.36574537744104,
          200.36574537744104,
          200.36574537744104,
          200.36574537744104,
          126.3133604011598,
          126.3133604011598,
          126.3133604011598,
          126.3133604011598,
          126.3133604011598,
          126.3133604011598,
          126.3133604011598,
          126.3133604011598,
          126.3133604011598,
          126.3133604011598,
          126.3133604011598,
          126.3133604011598,
          169.8320743008574,
          169.8320743008574,
          169.8320743008574,
          169.8320743008574,
          169.8320743008574,
          169.8320743008574,
          169.8320743008574,
          169.8320743008574,
          169.8320743008574,
          169.8320743008574,
          169.8320743008574,
          169.8320743008574,
          150.11494599530965,
          150.11494599530965,
          150.11494599530965,
          150.11494599530965,
          150.11494599530965,
          150.11494599530965,
          150.11494599530965,
          150.11494599530965,
          150.11494599530965,
          150.11494599530965,
          150.11494599530965,
          150.11494599530965,
          156.6339448332066,
          156.6339448332066,
          156.6339448332066,
          156.6339448332066,
          156.6339448332066,
          156.6339448332066,
          156.6339448332066,
          156.6339448332066,
          156.6339448332066,
          156.6339448332066,
          156.6339448332066,
          199.35374791169167,
          199.35374791169167,
          199.35374791169167,
          199.35374791169167,
          199.35374791169167,
          199.35374791169167,
          199.35374791169167,
          199.35374791169167,
          199.35374791169167,
          199.35374791169167,
          199.35374791169167,
          199.35374791169167,
          173.53801850857857,
          173.53801850857857,
          173.53801850857857,
          173.53801850857857,
          173.53801850857857,
          173.53801850857857,
          173.53801850857857,
          173.53801850857857,
          173.53801850857857,
          173.53801850857857,
          173.53801850857857,
          173.53801850857857,
          169.67634251034562,
          169.67634251034562,
          169.67634251034562,
          169.67634251034562,
          169.67634251034562,
          169.67634251034562,
          169.67634251034562,
          169.67634251034562,
          169.67634251034562,
          169.67634251034562,
          169.67634251034562,
          169.67634251034562,
          216.172518432636,
          216.172518432636,
          216.172518432636,
          216.172518432636,
          216.172518432636,
          216.172518432636,
          216.172518432636,
          216.172518432636,
          216.172518432636,
          216.172518432636,
          216.172518432636,
          216.172518432636,
          144.78176611354422,
          144.78176611354422,
          144.78176611354422,
          144.78176611354422,
          144.78176611354422,
          144.78176611354422,
          144.78176611354422,
          144.78176611354422,
          144.78176611354422,
          144.78176611354422,
          144.78176611354422,
          144.78176611354422,
          190.77972977331677,
          190.77972977331677,
          190.77972977331677,
          190.77972977331677,
          190.77972977331677,
          190.77972977331677,
          190.77972977331677,
          190.77972977331677,
          190.77972977331677,
          190.77972977331677,
          190.77972977331677,
          190.77972977331677,
          217.94336869899047,
          217.94336869899047,
          217.94336869899047,
          217.94336869899047,
          217.94336869899047,
          217.94336869899047,
          217.94336869899047,
          217.94336869899047,
          217.94336869899047,
          217.94336869899047,
          217.94336869899047,
          217.94336869899047,
          175.92727329589547,
          175.92727329589547,
          175.92727329589547,
          175.92727329589547,
          175.92727329589547,
          175.92727329589547,
          175.92727329589547,
          175.92727329589547,
          175.92727329589547,
          175.92727329589547,
          175.92727329589547,
          175.92727329589547,
          177.09008038199468,
          177.09008038199468,
          177.09008038199468,
          177.09008038199468,
          177.09008038199468,
          177.09008038199468,
          177.09008038199468,
          177.09008038199468,
          177.09008038199468,
          177.09008038199468,
          177.09008038199468,
          177.09008038199468,
          195.18968274613212,
          195.18968274613212,
          195.18968274613212,
          195.18968274613212,
          195.18968274613212,
          195.18968274613212,
          195.18968274613212,
          195.18968274613212,
          195.18968274613212,
          195.18968274613212,
          195.18968274613212,
          236.37688257978144,
          236.37688257978144,
          236.37688257978144,
          236.37688257978144,
          236.37688257978144,
          236.37688257978144,
          236.37688257978144,
          236.37688257978144,
          236.37688257978144,
          236.37688257978144,
          236.37688257978144,
          236.37688257978144,
          158.86833484710886,
          158.86833484710886,
          158.86833484710886,
          158.86833484710886,
          158.86833484710886,
          158.86833484710886,
          158.86833484710886,
          158.86833484710886,
          158.86833484710886,
          158.86833484710886,
          158.86833484710886,
          158.86833484710886,
          209.8132091927089,
          209.8132091927089,
          209.8132091927089,
          209.8132091927089,
          209.8132091927089,
          209.8132091927089,
          209.8132091927089,
          209.8132091927089,
          209.8132091927089,
          209.8132091927089,
          209.8132091927089,
          209.8132091927089,
          249.7695041550508,
          249.7695041550508,
          249.7695041550508,
          249.7695041550508,
          249.7695041550508,
          249.7695041550508,
          249.7695041550508,
          249.7695041550508,
          249.7695041550508,
          249.7695041550508,
          249.7695041550508,
          249.7695041550508,
          143.43217557952602,
          143.43217557952602,
          143.43217557952602,
          143.43217557952602,
          143.43217557952602,
          143.43217557952602,
          143.43217557952602,
          143.43217557952602,
          143.43217557952602,
          143.43217557952602,
          143.43217557952602,
          143.43217557952602,
          149.70577972278167,
          149.70577972278167,
          149.70577972278167,
          149.70577972278167,
          149.70577972278167,
          149.70577972278167,
          149.70577972278167,
          149.70577972278167,
          149.70577972278167,
          149.70577972278167,
          149.70577972278167,
          149.70577972278167,
          204.89157105171023,
          204.89157105171023,
          204.89157105171023,
          204.89157105171023,
          204.89157105171023,
          204.89157105171023,
          204.89157105171023,
          204.89157105171023,
          204.89157105171023,
          204.89157105171023,
          204.89157105171023,
          204.89157105171023,
          186.7437127803828,
          186.7437127803828,
          186.7437127803828,
          186.7437127803828,
          186.7437127803828,
          186.7437127803828,
          186.7437127803828,
          186.7437127803828,
          186.7437127803828,
          186.7437127803828,
          186.7437127803828,
          186.7437127803828,
          185.98232933237009,
          185.98232933237009,
          185.98232933237009,
          185.98232933237009,
          185.98232933237009,
          185.98232933237009,
          185.98232933237009,
          185.98232933237009,
          185.98232933237009,
          185.98232933237009,
          185.98232933237009,
          185.98232933237009,
          151.56948283855434,
          151.56948283855434,
          151.56948283855434,
          151.56948283855434,
          151.56948283855434,
          151.56948283855434,
          151.56948283855434,
          151.56948283855434,
          151.56948283855434,
          151.56948283855434,
          151.56948283855434,
          151.56948283855434,
          122.39359975319444,
          122.39359975319444,
          122.39359975319444,
          122.39359975319444,
          122.39359975319444,
          122.39359975319444,
          122.39359975319444,
          122.39359975319444,
          122.39359975319444,
          122.39359975319444,
          122.39359975319444,
          122.39359975319444
         ]
        }
       ],
       "layout": {
        "font": {
         "family": "Times New Roman",
         "size": 22
        },
        "geo": {
         "scope": "usa"
        },
        "template": {
         "data": {
          "bar": [
           {
            "error_x": {
             "color": "#2a3f5f"
            },
            "error_y": {
             "color": "#2a3f5f"
            },
            "marker": {
             "line": {
              "color": "#E5ECF6",
              "width": 0.5
             },
             "pattern": {
              "fillmode": "overlay",
              "size": 10,
              "solidity": 0.2
             }
            },
            "type": "bar"
           }
          ],
          "barpolar": [
           {
            "marker": {
             "line": {
              "color": "#E5ECF6",
              "width": 0.5
             },
             "pattern": {
              "fillmode": "overlay",
              "size": 10,
              "solidity": 0.2
             }
            },
            "type": "barpolar"
           }
          ],
          "carpet": [
           {
            "aaxis": {
             "endlinecolor": "#2a3f5f",
             "gridcolor": "white",
             "linecolor": "white",
             "minorgridcolor": "white",
             "startlinecolor": "#2a3f5f"
            },
            "baxis": {
             "endlinecolor": "#2a3f5f",
             "gridcolor": "white",
             "linecolor": "white",
             "minorgridcolor": "white",
             "startlinecolor": "#2a3f5f"
            },
            "type": "carpet"
           }
          ],
          "choropleth": [
           {
            "colorbar": {
             "outlinewidth": 0,
             "ticks": ""
            },
            "type": "choropleth"
           }
          ],
          "contour": [
           {
            "colorbar": {
             "outlinewidth": 0,
             "ticks": ""
            },
            "colorscale": [
             [
              0,
              "#0d0887"
             ],
             [
              0.1111111111111111,
              "#46039f"
             ],
             [
              0.2222222222222222,
              "#7201a8"
             ],
             [
              0.3333333333333333,
              "#9c179e"
             ],
             [
              0.4444444444444444,
              "#bd3786"
             ],
             [
              0.5555555555555556,
              "#d8576b"
             ],
             [
              0.6666666666666666,
              "#ed7953"
             ],
             [
              0.7777777777777778,
              "#fb9f3a"
             ],
             [
              0.8888888888888888,
              "#fdca26"
             ],
             [
              1,
              "#f0f921"
             ]
            ],
            "type": "contour"
           }
          ],
          "contourcarpet": [
           {
            "colorbar": {
             "outlinewidth": 0,
             "ticks": ""
            },
            "type": "contourcarpet"
           }
          ],
          "heatmap": [
           {
            "colorbar": {
             "outlinewidth": 0,
             "ticks": ""
            },
            "colorscale": [
             [
              0,
              "#0d0887"
             ],
             [
              0.1111111111111111,
              "#46039f"
             ],
             [
              0.2222222222222222,
              "#7201a8"
             ],
             [
              0.3333333333333333,
              "#9c179e"
             ],
             [
              0.4444444444444444,
              "#bd3786"
             ],
             [
              0.5555555555555556,
              "#d8576b"
             ],
             [
              0.6666666666666666,
              "#ed7953"
             ],
             [
              0.7777777777777778,
              "#fb9f3a"
             ],
             [
              0.8888888888888888,
              "#fdca26"
             ],
             [
              1,
              "#f0f921"
             ]
            ],
            "type": "heatmap"
           }
          ],
          "heatmapgl": [
           {
            "colorbar": {
             "outlinewidth": 0,
             "ticks": ""
            },
            "colorscale": [
             [
              0,
              "#0d0887"
             ],
             [
              0.1111111111111111,
              "#46039f"
             ],
             [
              0.2222222222222222,
              "#7201a8"
             ],
             [
              0.3333333333333333,
              "#9c179e"
             ],
             [
              0.4444444444444444,
              "#bd3786"
             ],
             [
              0.5555555555555556,
              "#d8576b"
             ],
             [
              0.6666666666666666,
              "#ed7953"
             ],
             [
              0.7777777777777778,
              "#fb9f3a"
             ],
             [
              0.8888888888888888,
              "#fdca26"
             ],
             [
              1,
              "#f0f921"
             ]
            ],
            "type": "heatmapgl"
           }
          ],
          "histogram": [
           {
            "marker": {
             "pattern": {
              "fillmode": "overlay",
              "size": 10,
              "solidity": 0.2
             }
            },
            "type": "histogram"
           }
          ],
          "histogram2d": [
           {
            "colorbar": {
             "outlinewidth": 0,
             "ticks": ""
            },
            "colorscale": [
             [
              0,
              "#0d0887"
             ],
             [
              0.1111111111111111,
              "#46039f"
             ],
             [
              0.2222222222222222,
              "#7201a8"
             ],
             [
              0.3333333333333333,
              "#9c179e"
             ],
             [
              0.4444444444444444,
              "#bd3786"
             ],
             [
              0.5555555555555556,
              "#d8576b"
             ],
             [
              0.6666666666666666,
              "#ed7953"
             ],
             [
              0.7777777777777778,
              "#fb9f3a"
             ],
             [
              0.8888888888888888,
              "#fdca26"
             ],
             [
              1,
              "#f0f921"
             ]
            ],
            "type": "histogram2d"
           }
          ],
          "histogram2dcontour": [
           {
            "colorbar": {
             "outlinewidth": 0,
             "ticks": ""
            },
            "colorscale": [
             [
              0,
              "#0d0887"
             ],
             [
              0.1111111111111111,
              "#46039f"
             ],
             [
              0.2222222222222222,
              "#7201a8"
             ],
             [
              0.3333333333333333,
              "#9c179e"
             ],
             [
              0.4444444444444444,
              "#bd3786"
             ],
             [
              0.5555555555555556,
              "#d8576b"
             ],
             [
              0.6666666666666666,
              "#ed7953"
             ],
             [
              0.7777777777777778,
              "#fb9f3a"
             ],
             [
              0.8888888888888888,
              "#fdca26"
             ],
             [
              1,
              "#f0f921"
             ]
            ],
            "type": "histogram2dcontour"
           }
          ],
          "mesh3d": [
           {
            "colorbar": {
             "outlinewidth": 0,
             "ticks": ""
            },
            "type": "mesh3d"
           }
          ],
          "parcoords": [
           {
            "line": {
             "colorbar": {
              "outlinewidth": 0,
              "ticks": ""
             }
            },
            "type": "parcoords"
           }
          ],
          "pie": [
           {
            "automargin": true,
            "type": "pie"
           }
          ],
          "scatter": [
           {
            "marker": {
             "colorbar": {
              "outlinewidth": 0,
              "ticks": ""
             }
            },
            "type": "scatter"
           }
          ],
          "scatter3d": [
           {
            "line": {
             "colorbar": {
              "outlinewidth": 0,
              "ticks": ""
             }
            },
            "marker": {
             "colorbar": {
              "outlinewidth": 0,
              "ticks": ""
             }
            },
            "type": "scatter3d"
           }
          ],
          "scattercarpet": [
           {
            "marker": {
             "colorbar": {
              "outlinewidth": 0,
              "ticks": ""
             }
            },
            "type": "scattercarpet"
           }
          ],
          "scattergeo": [
           {
            "marker": {
             "colorbar": {
              "outlinewidth": 0,
              "ticks": ""
             }
            },
            "type": "scattergeo"
           }
          ],
          "scattergl": [
           {
            "marker": {
             "colorbar": {
              "outlinewidth": 0,
              "ticks": ""
             }
            },
            "type": "scattergl"
           }
          ],
          "scattermapbox": [
           {
            "marker": {
             "colorbar": {
              "outlinewidth": 0,
              "ticks": ""
             }
            },
            "type": "scattermapbox"
           }
          ],
          "scatterpolar": [
           {
            "marker": {
             "colorbar": {
              "outlinewidth": 0,
              "ticks": ""
             }
            },
            "type": "scatterpolar"
           }
          ],
          "scatterpolargl": [
           {
            "marker": {
             "colorbar": {
              "outlinewidth": 0,
              "ticks": ""
             }
            },
            "type": "scatterpolargl"
           }
          ],
          "scatterternary": [
           {
            "marker": {
             "colorbar": {
              "outlinewidth": 0,
              "ticks": ""
             }
            },
            "type": "scatterternary"
           }
          ],
          "surface": [
           {
            "colorbar": {
             "outlinewidth": 0,
             "ticks": ""
            },
            "colorscale": [
             [
              0,
              "#0d0887"
             ],
             [
              0.1111111111111111,
              "#46039f"
             ],
             [
              0.2222222222222222,
              "#7201a8"
             ],
             [
              0.3333333333333333,
              "#9c179e"
             ],
             [
              0.4444444444444444,
              "#bd3786"
             ],
             [
              0.5555555555555556,
              "#d8576b"
             ],
             [
              0.6666666666666666,
              "#ed7953"
             ],
             [
              0.7777777777777778,
              "#fb9f3a"
             ],
             [
              0.8888888888888888,
              "#fdca26"
             ],
             [
              1,
              "#f0f921"
             ]
            ],
            "type": "surface"
           }
          ],
          "table": [
           {
            "cells": {
             "fill": {
              "color": "#EBF0F8"
             },
             "line": {
              "color": "white"
             }
            },
            "header": {
             "fill": {
              "color": "#C8D4E3"
             },
             "line": {
              "color": "white"
             }
            },
            "type": "table"
           }
          ]
         },
         "layout": {
          "annotationdefaults": {
           "arrowcolor": "#2a3f5f",
           "arrowhead": 0,
           "arrowwidth": 1
          },
          "autotypenumbers": "strict",
          "coloraxis": {
           "colorbar": {
            "outlinewidth": 0,
            "ticks": ""
           }
          },
          "colorscale": {
           "diverging": [
            [
             0,
             "#8e0152"
            ],
            [
             0.1,
             "#c51b7d"
            ],
            [
             0.2,
             "#de77ae"
            ],
            [
             0.3,
             "#f1b6da"
            ],
            [
             0.4,
             "#fde0ef"
            ],
            [
             0.5,
             "#f7f7f7"
            ],
            [
             0.6,
             "#e6f5d0"
            ],
            [
             0.7,
             "#b8e186"
            ],
            [
             0.8,
             "#7fbc41"
            ],
            [
             0.9,
             "#4d9221"
            ],
            [
             1,
             "#276419"
            ]
           ],
           "sequential": [
            [
             0,
             "#0d0887"
            ],
            [
             0.1111111111111111,
             "#46039f"
            ],
            [
             0.2222222222222222,
             "#7201a8"
            ],
            [
             0.3333333333333333,
             "#9c179e"
            ],
            [
             0.4444444444444444,
             "#bd3786"
            ],
            [
             0.5555555555555556,
             "#d8576b"
            ],
            [
             0.6666666666666666,
             "#ed7953"
            ],
            [
             0.7777777777777778,
             "#fb9f3a"
            ],
            [
             0.8888888888888888,
             "#fdca26"
            ],
            [
             1,
             "#f0f921"
            ]
           ],
           "sequentialminus": [
            [
             0,
             "#0d0887"
            ],
            [
             0.1111111111111111,
             "#46039f"
            ],
            [
             0.2222222222222222,
             "#7201a8"
            ],
            [
             0.3333333333333333,
             "#9c179e"
            ],
            [
             0.4444444444444444,
             "#bd3786"
            ],
            [
             0.5555555555555556,
             "#d8576b"
            ],
            [
             0.6666666666666666,
             "#ed7953"
            ],
            [
             0.7777777777777778,
             "#fb9f3a"
            ],
            [
             0.8888888888888888,
             "#fdca26"
            ],
            [
             1,
             "#f0f921"
            ]
           ]
          },
          "colorway": [
           "#636efa",
           "#EF553B",
           "#00cc96",
           "#ab63fa",
           "#FFA15A",
           "#19d3f3",
           "#FF6692",
           "#B6E880",
           "#FF97FF",
           "#FECB52"
          ],
          "font": {
           "color": "#2a3f5f"
          },
          "geo": {
           "bgcolor": "white",
           "lakecolor": "white",
           "landcolor": "#E5ECF6",
           "showlakes": true,
           "showland": true,
           "subunitcolor": "white"
          },
          "hoverlabel": {
           "align": "left"
          },
          "hovermode": "closest",
          "mapbox": {
           "style": "light"
          },
          "paper_bgcolor": "white",
          "plot_bgcolor": "#E5ECF6",
          "polar": {
           "angularaxis": {
            "gridcolor": "white",
            "linecolor": "white",
            "ticks": ""
           },
           "bgcolor": "#E5ECF6",
           "radialaxis": {
            "gridcolor": "white",
            "linecolor": "white",
            "ticks": ""
           }
          },
          "scene": {
           "xaxis": {
            "backgroundcolor": "#E5ECF6",
            "gridcolor": "white",
            "gridwidth": 2,
            "linecolor": "white",
            "showbackground": true,
            "ticks": "",
            "zerolinecolor": "white"
           },
           "yaxis": {
            "backgroundcolor": "#E5ECF6",
            "gridcolor": "white",
            "gridwidth": 2,
            "linecolor": "white",
            "showbackground": true,
            "ticks": "",
            "zerolinecolor": "white"
           },
           "zaxis": {
            "backgroundcolor": "#E5ECF6",
            "gridcolor": "white",
            "gridwidth": 2,
            "linecolor": "white",
            "showbackground": true,
            "ticks": "",
            "zerolinecolor": "white"
           }
          },
          "shapedefaults": {
           "line": {
            "color": "#2a3f5f"
           }
          },
          "ternary": {
           "aaxis": {
            "gridcolor": "white",
            "linecolor": "white",
            "ticks": ""
           },
           "baxis": {
            "gridcolor": "white",
            "linecolor": "white",
            "ticks": ""
           },
           "bgcolor": "#E5ECF6",
           "caxis": {
            "gridcolor": "white",
            "linecolor": "white",
            "ticks": ""
           }
          },
          "title": {
           "x": 0.05
          },
          "xaxis": {
           "automargin": true,
           "gridcolor": "white",
           "linecolor": "white",
           "ticks": "",
           "title": {
            "standoff": 15
           },
           "zerolinecolor": "white",
           "zerolinewidth": 2
          },
          "yaxis": {
           "automargin": true,
           "gridcolor": "white",
           "linecolor": "white",
           "ticks": "",
           "title": {
            "standoff": 15
           },
           "zerolinecolor": "white",
           "zerolinewidth": 2
          }
         }
        },
        "title": {
         "text": ""
        }
       }
      },
      "text/html": [
       "<div>                            <div id=\"edc656be-a188-4a3a-af5d-573ef9ddb29e\" class=\"plotly-graph-div\" style=\"height:525px; width:100%;\"></div>            <script type=\"text/javascript\">                require([\"plotly\"], function(Plotly) {                    window.PLOTLYENV=window.PLOTLYENV || {};                                    if (document.getElementById(\"edc656be-a188-4a3a-af5d-573ef9ddb29e\")) {                    Plotly.newPlot(                        \"edc656be-a188-4a3a-af5d-573ef9ddb29e\",                        [{\"colorbar\":{\"title\":{\"text\":\"%\"}},\"colorscale\":[[0.0,\"rgb(247,252,245)\"],[0.125,\"rgb(229,245,224)\"],[0.25,\"rgb(199,233,192)\"],[0.375,\"rgb(161,217,155)\"],[0.5,\"rgb(116,196,118)\"],[0.625,\"rgb(65,171,93)\"],[0.75,\"rgb(35,139,69)\"],[0.875,\"rgb(0,109,44)\"],[1.0,\"rgb(0,68,27)\"]],\"locationmode\":\"USA-states\",\"locations\":[\"AL\",\"AL\",\"AL\",\"AL\",\"AL\",\"AL\",\"AL\",\"AL\",\"AL\",\"AL\",\"AL\",\"AL\",\"AZ\",\"AZ\",\"AZ\",\"AZ\",\"AZ\",\"AZ\",\"AZ\",\"AZ\",\"AZ\",\"AZ\",\"AZ\",\"AZ\",\"AR\",\"AR\",\"AR\",\"AR\",\"AR\",\"AR\",\"AR\",\"AR\",\"AR\",\"AR\",\"AR\",\"AR\",\"CA\",\"CA\",\"CA\",\"CA\",\"CA\",\"CA\",\"CA\",\"CA\",\"CA\",\"CA\",\"CA\",\"CA\",\"CO\",\"CO\",\"CO\",\"CO\",\"CO\",\"CO\",\"CO\",\"CO\",\"CO\",\"CO\",\"CO\",\"CO\",\"CT\",\"CT\",\"CT\",\"CT\",\"CT\",\"CT\",\"CT\",\"CT\",\"CT\",\"CT\",\"CT\",\"CT\",\"DE\",\"DE\",\"DE\",\"DE\",\"DE\",\"DE\",\"DE\",\"DE\",\"DE\",\"DE\",\"DE\",\"DE\",\"FL\",\"FL\",\"FL\",\"FL\",\"FL\",\"FL\",\"FL\",\"FL\",\"FL\",\"FL\",\"FL\",\"FL\",\"GA\",\"GA\",\"GA\",\"GA\",\"GA\",\"GA\",\"GA\",\"GA\",\"GA\",\"GA\",\"GA\",\"GA\",\"ID\",\"ID\",\"ID\",\"ID\",\"ID\",\"ID\",\"ID\",\"ID\",\"ID\",\"ID\",\"ID\",\"ID\",\"IL\",\"IL\",\"IL\",\"IL\",\"IL\",\"IL\",\"IL\",\"IL\",\"IL\",\"IL\",\"IL\",\"IL\",\"IN\",\"IN\",\"IN\",\"IN\",\"IN\",\"IN\",\"IN\",\"IN\",\"IN\",\"IN\",\"IN\",\"IN\",\"IA\",\"IA\",\"IA\",\"IA\",\"IA\",\"IA\",\"IA\",\"IA\",\"IA\",\"IA\",\"IA\",\"IA\",\"KS\",\"KS\",\"KS\",\"KS\",\"KS\",\"KS\",\"KS\",\"KS\",\"KS\",\"KS\",\"KS\",\"KS\",\"KY\",\"KY\",\"KY\",\"KY\",\"KY\",\"KY\",\"KY\",\"KY\",\"KY\",\"KY\",\"KY\",\"KY\",\"LA\",\"LA\",\"LA\",\"LA\",\"LA\",\"LA\",\"LA\",\"LA\",\"LA\",\"LA\",\"LA\",\"LA\",\"ME\",\"ME\",\"ME\",\"ME\",\"ME\",\"ME\",\"ME\",\"ME\",\"ME\",\"ME\",\"ME\",\"ME\",\"MD\",\"MD\",\"MD\",\"MD\",\"MD\",\"MD\",\"MD\",\"MD\",\"MD\",\"MD\",\"MD\",\"MD\",\"MA\",\"MA\",\"MA\",\"MA\",\"MA\",\"MA\",\"MA\",\"MA\",\"MA\",\"MA\",\"MA\",\"MA\",\"MI\",\"MI\",\"MI\",\"MI\",\"MI\",\"MI\",\"MI\",\"MI\",\"MI\",\"MI\",\"MI\",\"MI\",\"MN\",\"MN\",\"MN\",\"MN\",\"MN\",\"MN\",\"MN\",\"MN\",\"MN\",\"MN\",\"MN\",\"MN\",\"MS\",\"MS\",\"MS\",\"MS\",\"MS\",\"MS\",\"MS\",\"MS\",\"MS\",\"MS\",\"MS\",\"MS\",\"MO\",\"MO\",\"MO\",\"MO\",\"MO\",\"MO\",\"MO\",\"MO\",\"MO\",\"MO\",\"MO\",\"MO\",\"MT\",\"MT\",\"MT\",\"MT\",\"MT\",\"MT\",\"MT\",\"MT\",\"MT\",\"MT\",\"MT\",\"MT\",\"NE\",\"NE\",\"NE\",\"NE\",\"NE\",\"NE\",\"NE\",\"NE\",\"NE\",\"NE\",\"NE\",\"NE\",\"NV\",\"NV\",\"NV\",\"NV\",\"NV\",\"NV\",\"NV\",\"NV\",\"NV\",\"NV\",\"NV\",\"NV\",\"NH\",\"NH\",\"NH\",\"NH\",\"NH\",\"NH\",\"NH\",\"NH\",\"NH\",\"NH\",\"NH\",\"NJ\",\"NJ\",\"NJ\",\"NJ\",\"NJ\",\"NJ\",\"NJ\",\"NJ\",\"NJ\",\"NJ\",\"NJ\",\"NJ\",\"NM\",\"NM\",\"NM\",\"NM\",\"NM\",\"NM\",\"NM\",\"NM\",\"NM\",\"NM\",\"NM\",\"NM\",\"NY\",\"NY\",\"NY\",\"NY\",\"NY\",\"NY\",\"NY\",\"NY\",\"NY\",\"NY\",\"NY\",\"NY\",\"NC\",\"NC\",\"NC\",\"NC\",\"NC\",\"NC\",\"NC\",\"NC\",\"NC\",\"NC\",\"NC\",\"NC\",\"ND\",\"ND\",\"ND\",\"ND\",\"ND\",\"ND\",\"ND\",\"ND\",\"ND\",\"ND\",\"ND\",\"ND\",\"OH\",\"OH\",\"OH\",\"OH\",\"OH\",\"OH\",\"OH\",\"OH\",\"OH\",\"OH\",\"OH\",\"OH\",\"OK\",\"OK\",\"OK\",\"OK\",\"OK\",\"OK\",\"OK\",\"OK\",\"OK\",\"OK\",\"OK\",\"OK\",\"OR\",\"OR\",\"OR\",\"OR\",\"OR\",\"OR\",\"OR\",\"OR\",\"OR\",\"OR\",\"OR\",\"OR\",\"PA\",\"PA\",\"PA\",\"PA\",\"PA\",\"PA\",\"PA\",\"PA\",\"PA\",\"PA\",\"PA\",\"PA\",\"RI\",\"RI\",\"RI\",\"RI\",\"RI\",\"RI\",\"RI\",\"RI\",\"RI\",\"RI\",\"RI\",\"SC\",\"SC\",\"SC\",\"SC\",\"SC\",\"SC\",\"SC\",\"SC\",\"SC\",\"SC\",\"SC\",\"SC\",\"SD\",\"SD\",\"SD\",\"SD\",\"SD\",\"SD\",\"SD\",\"SD\",\"SD\",\"SD\",\"SD\",\"SD\",\"TN\",\"TN\",\"TN\",\"TN\",\"TN\",\"TN\",\"TN\",\"TN\",\"TN\",\"TN\",\"TN\",\"TN\",\"TX\",\"TX\",\"TX\",\"TX\",\"TX\",\"TX\",\"TX\",\"TX\",\"TX\",\"TX\",\"TX\",\"TX\",\"UT\",\"UT\",\"UT\",\"UT\",\"UT\",\"UT\",\"UT\",\"UT\",\"UT\",\"UT\",\"UT\",\"UT\",\"VT\",\"VT\",\"VT\",\"VT\",\"VT\",\"VT\",\"VT\",\"VT\",\"VT\",\"VT\",\"VT\",\"VT\",\"VA\",\"VA\",\"VA\",\"VA\",\"VA\",\"VA\",\"VA\",\"VA\",\"VA\",\"VA\",\"VA\",\"VA\",\"WA\",\"WA\",\"WA\",\"WA\",\"WA\",\"WA\",\"WA\",\"WA\",\"WA\",\"WA\",\"WA\",\"WA\",\"WV\",\"WV\",\"WV\",\"WV\",\"WV\",\"WV\",\"WV\",\"WV\",\"WV\",\"WV\",\"WV\",\"WV\",\"WI\",\"WI\",\"WI\",\"WI\",\"WI\",\"WI\",\"WI\",\"WI\",\"WI\",\"WI\",\"WI\",\"WI\",\"WY\",\"WY\",\"WY\",\"WY\",\"WY\",\"WY\",\"WY\",\"WY\",\"WY\",\"WY\",\"WY\",\"WY\"],\"reversescale\":false,\"type\":\"choropleth\",\"z\":[233.5660552251612,233.5660552251612,233.5660552251612,233.5660552251612,233.5660552251612,233.5660552251612,233.5660552251612,233.5660552251612,233.5660552251612,233.5660552251612,233.5660552251612,233.5660552251612,246.8627598299287,246.8627598299287,246.8627598299287,246.8627598299287,246.8627598299287,246.8627598299287,246.8627598299287,246.8627598299287,246.8627598299287,246.8627598299287,246.8627598299287,246.8627598299287,229.22529808627485,229.22529808627485,229.22529808627485,229.22529808627485,229.22529808627485,229.22529808627485,229.22529808627485,229.22529808627485,229.22529808627485,229.22529808627485,229.22529808627485,229.22529808627485,270.85215277533695,270.85215277533695,270.85215277533695,270.85215277533695,270.85215277533695,270.85215277533695,270.85215277533695,270.85215277533695,270.85215277533695,270.85215277533695,270.85215277533695,270.85215277533695,139.58052016194253,139.58052016194253,139.58052016194253,139.58052016194253,139.58052016194253,139.58052016194253,139.58052016194253,139.58052016194253,139.58052016194253,139.58052016194253,139.58052016194253,139.58052016194253,183.3708610471874,183.3708610471874,183.3708610471874,183.3708610471874,183.3708610471874,183.3708610471874,183.3708610471874,183.3708610471874,183.3708610471874,183.3708610471874,183.3708610471874,183.3708610471874,210.38149213308577,210.38149213308577,210.38149213308577,210.38149213308577,210.38149213308577,210.38149213308577,210.38149213308577,210.38149213308577,210.38149213308577,210.38149213308577,210.38149213308577,210.38149213308577,301.731860856282,301.731860856282,301.731860856282,301.731860856282,301.731860856282,301.731860856282,301.731860856282,301.731860856282,301.731860856282,301.731860856282,301.731860856282,301.731860856282,240.3413141133264,240.3413141133264,240.3413141133264,240.3413141133264,240.3413141133264,240.3413141133264,240.3413141133264,240.3413141133264,240.3413141133264,240.3413141133264,240.3413141133264,240.3413141133264,133.64613051030486,133.64613051030486,133.64613051030486,133.64613051030486,133.64613051030486,133.64613051030486,133.64613051030486,133.64613051030486,133.64613051030486,133.64613051030486,133.64613051030486,133.64613051030486,197.5363521089352,197.5363521089352,197.5363521089352,197.5363521089352,197.5363521089352,197.5363521089352,197.5363521089352,197.5363521089352,197.5363521089352,197.5363521089352,197.5363521089352,197.5363521089352,193.94407309477657,193.94407309477657,193.94407309477657,193.94407309477657,193.94407309477657,193.94407309477657,193.94407309477657,193.94407309477657,193.94407309477657,193.94407309477657,193.94407309477657,193.94407309477657,171.91085308782644,171.91085308782644,171.91085308782644,171.91085308782644,171.91085308782644,171.91085308782644,171.91085308782644,171.91085308782644,171.91085308782644,171.91085308782644,171.91085308782644,171.91085308782644,192.464683694622,192.464683694622,192.464683694622,192.464683694622,192.464683694622,192.464683694622,192.464683694622,192.464683694622,192.464683694622,192.464683694622,192.464683694622,192.464683694622,206.43546872718824,206.43546872718824,206.43546872718824,206.43546872718824,206.43546872718824,206.43546872718824,206.43546872718824,206.43546872718824,206.43546872718824,206.43546872718824,206.43546872718824,206.43546872718824,275.75029332675547,275.75029332675547,275.75029332675547,275.75029332675547,275.75029332675547,275.75029332675547,275.75029332675547,275.75029332675547,275.75029332675547,275.75029332675547,275.75029332675547,275.75029332675547,158.84373220580125,158.84373220580125,158.84373220580125,158.84373220580125,158.84373220580125,158.84373220580125,158.84373220580125,158.84373220580125,158.84373220580125,158.84373220580125,158.84373220580125,158.84373220580125,208.96839433335023,208.96839433335023,208.96839433335023,208.96839433335023,208.96839433335023,208.96839433335023,208.96839433335023,208.96839433335023,208.96839433335023,208.96839433335023,208.96839433335023,208.96839433335023,183.5124040081468,183.5124040081468,183.5124040081468,183.5124040081468,183.5124040081468,183.5124040081468,183.5124040081468,183.5124040081468,183.5124040081468,183.5124040081468,183.5124040081468,183.5124040081468,153.85935154385956,153.85935154385956,153.85935154385956,153.85935154385956,153.85935154385956,153.85935154385956,153.85935154385956,153.85935154385956,153.85935154385956,153.85935154385956,153.85935154385956,153.85935154385956,154.43988743377162,154.43988743377162,154.43988743377162,154.43988743377162,154.43988743377162,154.43988743377162,154.43988743377162,154.43988743377162,154.43988743377162,154.43988743377162,154.43988743377162,154.43988743377162,241.9757534694239,241.9757534694239,241.9757534694239,241.9757534694239,241.9757534694239,241.9757534694239,241.9757534694239,241.9757534694239,241.9757534694239,241.9757534694239,241.9757534694239,241.9757534694239,200.36574537744104,200.36574537744104,200.36574537744104,200.36574537744104,200.36574537744104,200.36574537744104,200.36574537744104,200.36574537744104,200.36574537744104,200.36574537744104,200.36574537744104,200.36574537744104,126.3133604011598,126.3133604011598,126.3133604011598,126.3133604011598,126.3133604011598,126.3133604011598,126.3133604011598,126.3133604011598,126.3133604011598,126.3133604011598,126.3133604011598,126.3133604011598,169.8320743008574,169.8320743008574,169.8320743008574,169.8320743008574,169.8320743008574,169.8320743008574,169.8320743008574,169.8320743008574,169.8320743008574,169.8320743008574,169.8320743008574,169.8320743008574,150.11494599530965,150.11494599530965,150.11494599530965,150.11494599530965,150.11494599530965,150.11494599530965,150.11494599530965,150.11494599530965,150.11494599530965,150.11494599530965,150.11494599530965,150.11494599530965,156.6339448332066,156.6339448332066,156.6339448332066,156.6339448332066,156.6339448332066,156.6339448332066,156.6339448332066,156.6339448332066,156.6339448332066,156.6339448332066,156.6339448332066,199.35374791169167,199.35374791169167,199.35374791169167,199.35374791169167,199.35374791169167,199.35374791169167,199.35374791169167,199.35374791169167,199.35374791169167,199.35374791169167,199.35374791169167,199.35374791169167,173.53801850857857,173.53801850857857,173.53801850857857,173.53801850857857,173.53801850857857,173.53801850857857,173.53801850857857,173.53801850857857,173.53801850857857,173.53801850857857,173.53801850857857,173.53801850857857,169.67634251034562,169.67634251034562,169.67634251034562,169.67634251034562,169.67634251034562,169.67634251034562,169.67634251034562,169.67634251034562,169.67634251034562,169.67634251034562,169.67634251034562,169.67634251034562,216.172518432636,216.172518432636,216.172518432636,216.172518432636,216.172518432636,216.172518432636,216.172518432636,216.172518432636,216.172518432636,216.172518432636,216.172518432636,216.172518432636,144.78176611354422,144.78176611354422,144.78176611354422,144.78176611354422,144.78176611354422,144.78176611354422,144.78176611354422,144.78176611354422,144.78176611354422,144.78176611354422,144.78176611354422,144.78176611354422,190.77972977331677,190.77972977331677,190.77972977331677,190.77972977331677,190.77972977331677,190.77972977331677,190.77972977331677,190.77972977331677,190.77972977331677,190.77972977331677,190.77972977331677,190.77972977331677,217.94336869899047,217.94336869899047,217.94336869899047,217.94336869899047,217.94336869899047,217.94336869899047,217.94336869899047,217.94336869899047,217.94336869899047,217.94336869899047,217.94336869899047,217.94336869899047,175.92727329589547,175.92727329589547,175.92727329589547,175.92727329589547,175.92727329589547,175.92727329589547,175.92727329589547,175.92727329589547,175.92727329589547,175.92727329589547,175.92727329589547,175.92727329589547,177.09008038199468,177.09008038199468,177.09008038199468,177.09008038199468,177.09008038199468,177.09008038199468,177.09008038199468,177.09008038199468,177.09008038199468,177.09008038199468,177.09008038199468,177.09008038199468,195.18968274613212,195.18968274613212,195.18968274613212,195.18968274613212,195.18968274613212,195.18968274613212,195.18968274613212,195.18968274613212,195.18968274613212,195.18968274613212,195.18968274613212,236.37688257978144,236.37688257978144,236.37688257978144,236.37688257978144,236.37688257978144,236.37688257978144,236.37688257978144,236.37688257978144,236.37688257978144,236.37688257978144,236.37688257978144,236.37688257978144,158.86833484710886,158.86833484710886,158.86833484710886,158.86833484710886,158.86833484710886,158.86833484710886,158.86833484710886,158.86833484710886,158.86833484710886,158.86833484710886,158.86833484710886,158.86833484710886,209.8132091927089,209.8132091927089,209.8132091927089,209.8132091927089,209.8132091927089,209.8132091927089,209.8132091927089,209.8132091927089,209.8132091927089,209.8132091927089,209.8132091927089,209.8132091927089,249.7695041550508,249.7695041550508,249.7695041550508,249.7695041550508,249.7695041550508,249.7695041550508,249.7695041550508,249.7695041550508,249.7695041550508,249.7695041550508,249.7695041550508,249.7695041550508,143.43217557952602,143.43217557952602,143.43217557952602,143.43217557952602,143.43217557952602,143.43217557952602,143.43217557952602,143.43217557952602,143.43217557952602,143.43217557952602,143.43217557952602,143.43217557952602,149.70577972278167,149.70577972278167,149.70577972278167,149.70577972278167,149.70577972278167,149.70577972278167,149.70577972278167,149.70577972278167,149.70577972278167,149.70577972278167,149.70577972278167,149.70577972278167,204.89157105171023,204.89157105171023,204.89157105171023,204.89157105171023,204.89157105171023,204.89157105171023,204.89157105171023,204.89157105171023,204.89157105171023,204.89157105171023,204.89157105171023,204.89157105171023,186.7437127803828,186.7437127803828,186.7437127803828,186.7437127803828,186.7437127803828,186.7437127803828,186.7437127803828,186.7437127803828,186.7437127803828,186.7437127803828,186.7437127803828,186.7437127803828,185.98232933237009,185.98232933237009,185.98232933237009,185.98232933237009,185.98232933237009,185.98232933237009,185.98232933237009,185.98232933237009,185.98232933237009,185.98232933237009,185.98232933237009,185.98232933237009,151.56948283855434,151.56948283855434,151.56948283855434,151.56948283855434,151.56948283855434,151.56948283855434,151.56948283855434,151.56948283855434,151.56948283855434,151.56948283855434,151.56948283855434,151.56948283855434,122.39359975319444,122.39359975319444,122.39359975319444,122.39359975319444,122.39359975319444,122.39359975319444,122.39359975319444,122.39359975319444,122.39359975319444,122.39359975319444,122.39359975319444,122.39359975319444]}],                        {\"font\":{\"family\":\"Times New Roman\",\"size\":22},\"geo\":{\"scope\":\"usa\"},\"template\":{\"data\":{\"bar\":[{\"error_x\":{\"color\":\"#2a3f5f\"},\"error_y\":{\"color\":\"#2a3f5f\"},\"marker\":{\"line\":{\"color\":\"#E5ECF6\",\"width\":0.5},\"pattern\":{\"fillmode\":\"overlay\",\"size\":10,\"solidity\":0.2}},\"type\":\"bar\"}],\"barpolar\":[{\"marker\":{\"line\":{\"color\":\"#E5ECF6\",\"width\":0.5},\"pattern\":{\"fillmode\":\"overlay\",\"size\":10,\"solidity\":0.2}},\"type\":\"barpolar\"}],\"carpet\":[{\"aaxis\":{\"endlinecolor\":\"#2a3f5f\",\"gridcolor\":\"white\",\"linecolor\":\"white\",\"minorgridcolor\":\"white\",\"startlinecolor\":\"#2a3f5f\"},\"baxis\":{\"endlinecolor\":\"#2a3f5f\",\"gridcolor\":\"white\",\"linecolor\":\"white\",\"minorgridcolor\":\"white\",\"startlinecolor\":\"#2a3f5f\"},\"type\":\"carpet\"}],\"choropleth\":[{\"colorbar\":{\"outlinewidth\":0,\"ticks\":\"\"},\"type\":\"choropleth\"}],\"contour\":[{\"colorbar\":{\"outlinewidth\":0,\"ticks\":\"\"},\"colorscale\":[[0.0,\"#0d0887\"],[0.1111111111111111,\"#46039f\"],[0.2222222222222222,\"#7201a8\"],[0.3333333333333333,\"#9c179e\"],[0.4444444444444444,\"#bd3786\"],[0.5555555555555556,\"#d8576b\"],[0.6666666666666666,\"#ed7953\"],[0.7777777777777778,\"#fb9f3a\"],[0.8888888888888888,\"#fdca26\"],[1.0,\"#f0f921\"]],\"type\":\"contour\"}],\"contourcarpet\":[{\"colorbar\":{\"outlinewidth\":0,\"ticks\":\"\"},\"type\":\"contourcarpet\"}],\"heatmap\":[{\"colorbar\":{\"outlinewidth\":0,\"ticks\":\"\"},\"colorscale\":[[0.0,\"#0d0887\"],[0.1111111111111111,\"#46039f\"],[0.2222222222222222,\"#7201a8\"],[0.3333333333333333,\"#9c179e\"],[0.4444444444444444,\"#bd3786\"],[0.5555555555555556,\"#d8576b\"],[0.6666666666666666,\"#ed7953\"],[0.7777777777777778,\"#fb9f3a\"],[0.8888888888888888,\"#fdca26\"],[1.0,\"#f0f921\"]],\"type\":\"heatmap\"}],\"heatmapgl\":[{\"colorbar\":{\"outlinewidth\":0,\"ticks\":\"\"},\"colorscale\":[[0.0,\"#0d0887\"],[0.1111111111111111,\"#46039f\"],[0.2222222222222222,\"#7201a8\"],[0.3333333333333333,\"#9c179e\"],[0.4444444444444444,\"#bd3786\"],[0.5555555555555556,\"#d8576b\"],[0.6666666666666666,\"#ed7953\"],[0.7777777777777778,\"#fb9f3a\"],[0.8888888888888888,\"#fdca26\"],[1.0,\"#f0f921\"]],\"type\":\"heatmapgl\"}],\"histogram\":[{\"marker\":{\"pattern\":{\"fillmode\":\"overlay\",\"size\":10,\"solidity\":0.2}},\"type\":\"histogram\"}],\"histogram2d\":[{\"colorbar\":{\"outlinewidth\":0,\"ticks\":\"\"},\"colorscale\":[[0.0,\"#0d0887\"],[0.1111111111111111,\"#46039f\"],[0.2222222222222222,\"#7201a8\"],[0.3333333333333333,\"#9c179e\"],[0.4444444444444444,\"#bd3786\"],[0.5555555555555556,\"#d8576b\"],[0.6666666666666666,\"#ed7953\"],[0.7777777777777778,\"#fb9f3a\"],[0.8888888888888888,\"#fdca26\"],[1.0,\"#f0f921\"]],\"type\":\"histogram2d\"}],\"histogram2dcontour\":[{\"colorbar\":{\"outlinewidth\":0,\"ticks\":\"\"},\"colorscale\":[[0.0,\"#0d0887\"],[0.1111111111111111,\"#46039f\"],[0.2222222222222222,\"#7201a8\"],[0.3333333333333333,\"#9c179e\"],[0.4444444444444444,\"#bd3786\"],[0.5555555555555556,\"#d8576b\"],[0.6666666666666666,\"#ed7953\"],[0.7777777777777778,\"#fb9f3a\"],[0.8888888888888888,\"#fdca26\"],[1.0,\"#f0f921\"]],\"type\":\"histogram2dcontour\"}],\"mesh3d\":[{\"colorbar\":{\"outlinewidth\":0,\"ticks\":\"\"},\"type\":\"mesh3d\"}],\"parcoords\":[{\"line\":{\"colorbar\":{\"outlinewidth\":0,\"ticks\":\"\"}},\"type\":\"parcoords\"}],\"pie\":[{\"automargin\":true,\"type\":\"pie\"}],\"scatter\":[{\"marker\":{\"colorbar\":{\"outlinewidth\":0,\"ticks\":\"\"}},\"type\":\"scatter\"}],\"scatter3d\":[{\"line\":{\"colorbar\":{\"outlinewidth\":0,\"ticks\":\"\"}},\"marker\":{\"colorbar\":{\"outlinewidth\":0,\"ticks\":\"\"}},\"type\":\"scatter3d\"}],\"scattercarpet\":[{\"marker\":{\"colorbar\":{\"outlinewidth\":0,\"ticks\":\"\"}},\"type\":\"scattercarpet\"}],\"scattergeo\":[{\"marker\":{\"colorbar\":{\"outlinewidth\":0,\"ticks\":\"\"}},\"type\":\"scattergeo\"}],\"scattergl\":[{\"marker\":{\"colorbar\":{\"outlinewidth\":0,\"ticks\":\"\"}},\"type\":\"scattergl\"}],\"scattermapbox\":[{\"marker\":{\"colorbar\":{\"outlinewidth\":0,\"ticks\":\"\"}},\"type\":\"scattermapbox\"}],\"scatterpolar\":[{\"marker\":{\"colorbar\":{\"outlinewidth\":0,\"ticks\":\"\"}},\"type\":\"scatterpolar\"}],\"scatterpolargl\":[{\"marker\":{\"colorbar\":{\"outlinewidth\":0,\"ticks\":\"\"}},\"type\":\"scatterpolargl\"}],\"scatterternary\":[{\"marker\":{\"colorbar\":{\"outlinewidth\":0,\"ticks\":\"\"}},\"type\":\"scatterternary\"}],\"surface\":[{\"colorbar\":{\"outlinewidth\":0,\"ticks\":\"\"},\"colorscale\":[[0.0,\"#0d0887\"],[0.1111111111111111,\"#46039f\"],[0.2222222222222222,\"#7201a8\"],[0.3333333333333333,\"#9c179e\"],[0.4444444444444444,\"#bd3786\"],[0.5555555555555556,\"#d8576b\"],[0.6666666666666666,\"#ed7953\"],[0.7777777777777778,\"#fb9f3a\"],[0.8888888888888888,\"#fdca26\"],[1.0,\"#f0f921\"]],\"type\":\"surface\"}],\"table\":[{\"cells\":{\"fill\":{\"color\":\"#EBF0F8\"},\"line\":{\"color\":\"white\"}},\"header\":{\"fill\":{\"color\":\"#C8D4E3\"},\"line\":{\"color\":\"white\"}},\"type\":\"table\"}]},\"layout\":{\"annotationdefaults\":{\"arrowcolor\":\"#2a3f5f\",\"arrowhead\":0,\"arrowwidth\":1},\"autotypenumbers\":\"strict\",\"coloraxis\":{\"colorbar\":{\"outlinewidth\":0,\"ticks\":\"\"}},\"colorscale\":{\"diverging\":[[0,\"#8e0152\"],[0.1,\"#c51b7d\"],[0.2,\"#de77ae\"],[0.3,\"#f1b6da\"],[0.4,\"#fde0ef\"],[0.5,\"#f7f7f7\"],[0.6,\"#e6f5d0\"],[0.7,\"#b8e186\"],[0.8,\"#7fbc41\"],[0.9,\"#4d9221\"],[1,\"#276419\"]],\"sequential\":[[0.0,\"#0d0887\"],[0.1111111111111111,\"#46039f\"],[0.2222222222222222,\"#7201a8\"],[0.3333333333333333,\"#9c179e\"],[0.4444444444444444,\"#bd3786\"],[0.5555555555555556,\"#d8576b\"],[0.6666666666666666,\"#ed7953\"],[0.7777777777777778,\"#fb9f3a\"],[0.8888888888888888,\"#fdca26\"],[1.0,\"#f0f921\"]],\"sequentialminus\":[[0.0,\"#0d0887\"],[0.1111111111111111,\"#46039f\"],[0.2222222222222222,\"#7201a8\"],[0.3333333333333333,\"#9c179e\"],[0.4444444444444444,\"#bd3786\"],[0.5555555555555556,\"#d8576b\"],[0.6666666666666666,\"#ed7953\"],[0.7777777777777778,\"#fb9f3a\"],[0.8888888888888888,\"#fdca26\"],[1.0,\"#f0f921\"]]},\"colorway\":[\"#636efa\",\"#EF553B\",\"#00cc96\",\"#ab63fa\",\"#FFA15A\",\"#19d3f3\",\"#FF6692\",\"#B6E880\",\"#FF97FF\",\"#FECB52\"],\"font\":{\"color\":\"#2a3f5f\"},\"geo\":{\"bgcolor\":\"white\",\"lakecolor\":\"white\",\"landcolor\":\"#E5ECF6\",\"showlakes\":true,\"showland\":true,\"subunitcolor\":\"white\"},\"hoverlabel\":{\"align\":\"left\"},\"hovermode\":\"closest\",\"mapbox\":{\"style\":\"light\"},\"paper_bgcolor\":\"white\",\"plot_bgcolor\":\"#E5ECF6\",\"polar\":{\"angularaxis\":{\"gridcolor\":\"white\",\"linecolor\":\"white\",\"ticks\":\"\"},\"bgcolor\":\"#E5ECF6\",\"radialaxis\":{\"gridcolor\":\"white\",\"linecolor\":\"white\",\"ticks\":\"\"}},\"scene\":{\"xaxis\":{\"backgroundcolor\":\"#E5ECF6\",\"gridcolor\":\"white\",\"gridwidth\":2,\"linecolor\":\"white\",\"showbackground\":true,\"ticks\":\"\",\"zerolinecolor\":\"white\"},\"yaxis\":{\"backgroundcolor\":\"#E5ECF6\",\"gridcolor\":\"white\",\"gridwidth\":2,\"linecolor\":\"white\",\"showbackground\":true,\"ticks\":\"\",\"zerolinecolor\":\"white\"},\"zaxis\":{\"backgroundcolor\":\"#E5ECF6\",\"gridcolor\":\"white\",\"gridwidth\":2,\"linecolor\":\"white\",\"showbackground\":true,\"ticks\":\"\",\"zerolinecolor\":\"white\"}},\"shapedefaults\":{\"line\":{\"color\":\"#2a3f5f\"}},\"ternary\":{\"aaxis\":{\"gridcolor\":\"white\",\"linecolor\":\"white\",\"ticks\":\"\"},\"baxis\":{\"gridcolor\":\"white\",\"linecolor\":\"white\",\"ticks\":\"\"},\"bgcolor\":\"#E5ECF6\",\"caxis\":{\"gridcolor\":\"white\",\"linecolor\":\"white\",\"ticks\":\"\"}},\"title\":{\"x\":0.05},\"xaxis\":{\"automargin\":true,\"gridcolor\":\"white\",\"linecolor\":\"white\",\"ticks\":\"\",\"title\":{\"standoff\":15},\"zerolinecolor\":\"white\",\"zerolinewidth\":2},\"yaxis\":{\"automargin\":true,\"gridcolor\":\"white\",\"linecolor\":\"white\",\"ticks\":\"\",\"title\":{\"standoff\":15},\"zerolinecolor\":\"white\",\"zerolinewidth\":2}}},\"title\":{\"text\":\"\"}},                        {\"responsive\": true}                    ).then(function(){\n",
       "                            \n",
       "var gd = document.getElementById('edc656be-a188-4a3a-af5d-573ef9ddb29e');\n",
       "var x = new MutationObserver(function (mutations, observer) {{\n",
       "        var display = window.getComputedStyle(gd).display;\n",
       "        if (!display || display === 'none') {{\n",
       "            console.log([gd, 'removed!']);\n",
       "            Plotly.purge(gd);\n",
       "            observer.disconnect();\n",
       "        }}\n",
       "}});\n",
       "\n",
       "// Listen for the removal of the full notebook cells\n",
       "var notebookContainer = gd.closest('#notebook-container');\n",
       "if (notebookContainer) {{\n",
       "    x.observe(notebookContainer, {childList: true});\n",
       "}}\n",
       "\n",
       "// Listen for the clearing of the current output cell\n",
       "var outputEl = gd.closest('.output');\n",
       "if (outputEl) {{\n",
       "    x.observe(outputEl, {childList: true});\n",
       "}}\n",
       "\n",
       "                        })                };                });            </script>        </div>"
      ]
     },
     "metadata": {},
     "output_type": "display_data"
    }
   ],
   "source": [
    "states_map(DF[(DF['year']== 2012)]['Abbreviation'], 'Greens', DF[(DF['year']== 2012)]['climate_ffp_full_year'].astype(float), '%', 'map_ffp_12.png')\n"
   ]
  },
  {
   "cell_type": "markdown",
   "metadata": {},
   "source": [
    "### Maps with specific range"
   ]
  },
  {
   "cell_type": "code",
   "execution_count": null,
   "metadata": {},
   "outputs": [],
   "source": [
    "def states_map(state_abb, color, dfvar, label_var, maxi, mini,filename): #to define min and max ranges\n",
    "    fig = go.Figure(data=go.Choropleth(\n",
    "        locations= state_abb, # Spatial coordinates\n",
    "        z = dfvar, # Data to be color-coded\n",
    "        locationmode = 'USA-states', # set of locations match entries in `locations`\n",
    "        colorscale = color\n",
    "        ,zmax= maxi,\n",
    "        zmin= mini\n",
    "        ,colorbar_title = label_var\n",
    "        ,reversescale=True\n",
    "    ))\n",
    "\n",
    "    fig.update_layout(\n",
    "        title_text = \"\",\n",
    "        geo_scope='usa', # limite map scope to USA\n",
    "        font=dict(family=\"Times New Roman\", size= 22),\n",
    "    )\n",
    "    fig.show()\n",
    "    pio.write_image(fig, cwd[:-4]+'/Results/Graphics/'+filename,scale=6, width=1000, height=700, engine=\"kaleido\")\n"
   ]
  },
  {
   "cell_type": "code",
   "execution_count": 89,
   "metadata": {},
   "outputs": [
    {
     "data": {
      "application/vnd.plotly.v1+json": {
       "config": {
        "plotlyServerURL": "https://plot.ly"
       },
       "data": [
        {
         "colorbar": {
          "title": {
           "text": "%"
          }
         },
         "colorscale": [
          [
           0,
           "#000004"
          ],
          [
           0.1111111111111111,
           "#1b0c41"
          ],
          [
           0.2222222222222222,
           "#4a0c6b"
          ],
          [
           0.3333333333333333,
           "#781c6d"
          ],
          [
           0.4444444444444444,
           "#a52c60"
          ],
          [
           0.5555555555555556,
           "#cf4446"
          ],
          [
           0.6666666666666666,
           "#ed6925"
          ],
          [
           0.7777777777777778,
           "#fb9b06"
          ],
          [
           0.8888888888888888,
           "#f7d13d"
          ],
          [
           1,
           "#fcffa4"
          ]
         ],
         "locationmode": "USA-states",
         "locations": [
          "AL",
          "AZ",
          "AR",
          "CA",
          "CO",
          "CT",
          "DE",
          "FL",
          "GA",
          "ID",
          "IL",
          "IN",
          "IA",
          "KS",
          "KY",
          "LA",
          "ME",
          "MD",
          "MA",
          "MI",
          "MN",
          "MS",
          "MO",
          "MT",
          "NE",
          "NV",
          "NH",
          "NJ",
          "NM",
          "NY",
          "NC",
          "ND",
          "OH",
          "OK",
          "OR",
          "PA",
          "RI",
          "SC",
          "SD",
          "TN",
          "TX",
          "UT",
          "VT",
          "VA",
          "WA",
          "WV",
          "WI",
          "WY"
         ],
         "reversescale": true,
         "type": "choropleth",
         "z": [
          5.786478368546194,
          0.6575709563065545,
          -0.34706771337796316,
          -4.4857097885091495,
          -2.511916992103776,
          13.45157927403155,
          -0.6799293253133221,
          4.335345588880376,
          6.507755502245416,
          -0.5586273384315659,
          -1.0201022562151947,
          1.142411058628584,
          -1.74400897058083,
          -0.9813551912408597,
          1.9952182854473686,
          -2.053889217410727,
          7.849360534322179,
          17.45067929454415,
          -1.7076506455329086,
          1.271609984296529,
          -2.367309174420093,
          -1.0508156504727681,
          2.033114384675398,
          -0.9305039718374798,
          -0.6763333097158347,
          -6.163404490382605,
          3.208791213775733,
          4.472211555820948,
          -2.2217452202879446,
          -0.8739483309065793,
          1.8996945759811326,
          -4.273467905022253,
          0.6600383483322259,
          0.7874471530952041,
          -2.7458620200010344,
          -2.526597789535176,
          -6.444837437764554,
          -2.4433307638738437,
          -2.1185694594028326,
          3.79813116432097,
          0.6400003034885846,
          -2.5855080671576824,
          1.5413763456924467,
          9.953492771073657,
          -1.2356135390774319,
          0.972264842135315,
          -0.09274902464284779,
          -1.6997645999210855
         ],
         "zmax": 35,
         "zmin": -15
        }
       ],
       "layout": {
        "font": {
         "family": "Times New Roman",
         "size": 22
        },
        "geo": {
         "scope": "usa"
        },
        "template": {
         "data": {
          "bar": [
           {
            "error_x": {
             "color": "#2a3f5f"
            },
            "error_y": {
             "color": "#2a3f5f"
            },
            "marker": {
             "line": {
              "color": "#E5ECF6",
              "width": 0.5
             },
             "pattern": {
              "fillmode": "overlay",
              "size": 10,
              "solidity": 0.2
             }
            },
            "type": "bar"
           }
          ],
          "barpolar": [
           {
            "marker": {
             "line": {
              "color": "#E5ECF6",
              "width": 0.5
             },
             "pattern": {
              "fillmode": "overlay",
              "size": 10,
              "solidity": 0.2
             }
            },
            "type": "barpolar"
           }
          ],
          "carpet": [
           {
            "aaxis": {
             "endlinecolor": "#2a3f5f",
             "gridcolor": "white",
             "linecolor": "white",
             "minorgridcolor": "white",
             "startlinecolor": "#2a3f5f"
            },
            "baxis": {
             "endlinecolor": "#2a3f5f",
             "gridcolor": "white",
             "linecolor": "white",
             "minorgridcolor": "white",
             "startlinecolor": "#2a3f5f"
            },
            "type": "carpet"
           }
          ],
          "choropleth": [
           {
            "colorbar": {
             "outlinewidth": 0,
             "ticks": ""
            },
            "type": "choropleth"
           }
          ],
          "contour": [
           {
            "colorbar": {
             "outlinewidth": 0,
             "ticks": ""
            },
            "colorscale": [
             [
              0,
              "#0d0887"
             ],
             [
              0.1111111111111111,
              "#46039f"
             ],
             [
              0.2222222222222222,
              "#7201a8"
             ],
             [
              0.3333333333333333,
              "#9c179e"
             ],
             [
              0.4444444444444444,
              "#bd3786"
             ],
             [
              0.5555555555555556,
              "#d8576b"
             ],
             [
              0.6666666666666666,
              "#ed7953"
             ],
             [
              0.7777777777777778,
              "#fb9f3a"
             ],
             [
              0.8888888888888888,
              "#fdca26"
             ],
             [
              1,
              "#f0f921"
             ]
            ],
            "type": "contour"
           }
          ],
          "contourcarpet": [
           {
            "colorbar": {
             "outlinewidth": 0,
             "ticks": ""
            },
            "type": "contourcarpet"
           }
          ],
          "heatmap": [
           {
            "colorbar": {
             "outlinewidth": 0,
             "ticks": ""
            },
            "colorscale": [
             [
              0,
              "#0d0887"
             ],
             [
              0.1111111111111111,
              "#46039f"
             ],
             [
              0.2222222222222222,
              "#7201a8"
             ],
             [
              0.3333333333333333,
              "#9c179e"
             ],
             [
              0.4444444444444444,
              "#bd3786"
             ],
             [
              0.5555555555555556,
              "#d8576b"
             ],
             [
              0.6666666666666666,
              "#ed7953"
             ],
             [
              0.7777777777777778,
              "#fb9f3a"
             ],
             [
              0.8888888888888888,
              "#fdca26"
             ],
             [
              1,
              "#f0f921"
             ]
            ],
            "type": "heatmap"
           }
          ],
          "heatmapgl": [
           {
            "colorbar": {
             "outlinewidth": 0,
             "ticks": ""
            },
            "colorscale": [
             [
              0,
              "#0d0887"
             ],
             [
              0.1111111111111111,
              "#46039f"
             ],
             [
              0.2222222222222222,
              "#7201a8"
             ],
             [
              0.3333333333333333,
              "#9c179e"
             ],
             [
              0.4444444444444444,
              "#bd3786"
             ],
             [
              0.5555555555555556,
              "#d8576b"
             ],
             [
              0.6666666666666666,
              "#ed7953"
             ],
             [
              0.7777777777777778,
              "#fb9f3a"
             ],
             [
              0.8888888888888888,
              "#fdca26"
             ],
             [
              1,
              "#f0f921"
             ]
            ],
            "type": "heatmapgl"
           }
          ],
          "histogram": [
           {
            "marker": {
             "pattern": {
              "fillmode": "overlay",
              "size": 10,
              "solidity": 0.2
             }
            },
            "type": "histogram"
           }
          ],
          "histogram2d": [
           {
            "colorbar": {
             "outlinewidth": 0,
             "ticks": ""
            },
            "colorscale": [
             [
              0,
              "#0d0887"
             ],
             [
              0.1111111111111111,
              "#46039f"
             ],
             [
              0.2222222222222222,
              "#7201a8"
             ],
             [
              0.3333333333333333,
              "#9c179e"
             ],
             [
              0.4444444444444444,
              "#bd3786"
             ],
             [
              0.5555555555555556,
              "#d8576b"
             ],
             [
              0.6666666666666666,
              "#ed7953"
             ],
             [
              0.7777777777777778,
              "#fb9f3a"
             ],
             [
              0.8888888888888888,
              "#fdca26"
             ],
             [
              1,
              "#f0f921"
             ]
            ],
            "type": "histogram2d"
           }
          ],
          "histogram2dcontour": [
           {
            "colorbar": {
             "outlinewidth": 0,
             "ticks": ""
            },
            "colorscale": [
             [
              0,
              "#0d0887"
             ],
             [
              0.1111111111111111,
              "#46039f"
             ],
             [
              0.2222222222222222,
              "#7201a8"
             ],
             [
              0.3333333333333333,
              "#9c179e"
             ],
             [
              0.4444444444444444,
              "#bd3786"
             ],
             [
              0.5555555555555556,
              "#d8576b"
             ],
             [
              0.6666666666666666,
              "#ed7953"
             ],
             [
              0.7777777777777778,
              "#fb9f3a"
             ],
             [
              0.8888888888888888,
              "#fdca26"
             ],
             [
              1,
              "#f0f921"
             ]
            ],
            "type": "histogram2dcontour"
           }
          ],
          "mesh3d": [
           {
            "colorbar": {
             "outlinewidth": 0,
             "ticks": ""
            },
            "type": "mesh3d"
           }
          ],
          "parcoords": [
           {
            "line": {
             "colorbar": {
              "outlinewidth": 0,
              "ticks": ""
             }
            },
            "type": "parcoords"
           }
          ],
          "pie": [
           {
            "automargin": true,
            "type": "pie"
           }
          ],
          "scatter": [
           {
            "marker": {
             "colorbar": {
              "outlinewidth": 0,
              "ticks": ""
             }
            },
            "type": "scatter"
           }
          ],
          "scatter3d": [
           {
            "line": {
             "colorbar": {
              "outlinewidth": 0,
              "ticks": ""
             }
            },
            "marker": {
             "colorbar": {
              "outlinewidth": 0,
              "ticks": ""
             }
            },
            "type": "scatter3d"
           }
          ],
          "scattercarpet": [
           {
            "marker": {
             "colorbar": {
              "outlinewidth": 0,
              "ticks": ""
             }
            },
            "type": "scattercarpet"
           }
          ],
          "scattergeo": [
           {
            "marker": {
             "colorbar": {
              "outlinewidth": 0,
              "ticks": ""
             }
            },
            "type": "scattergeo"
           }
          ],
          "scattergl": [
           {
            "marker": {
             "colorbar": {
              "outlinewidth": 0,
              "ticks": ""
             }
            },
            "type": "scattergl"
           }
          ],
          "scattermapbox": [
           {
            "marker": {
             "colorbar": {
              "outlinewidth": 0,
              "ticks": ""
             }
            },
            "type": "scattermapbox"
           }
          ],
          "scatterpolar": [
           {
            "marker": {
             "colorbar": {
              "outlinewidth": 0,
              "ticks": ""
             }
            },
            "type": "scatterpolar"
           }
          ],
          "scatterpolargl": [
           {
            "marker": {
             "colorbar": {
              "outlinewidth": 0,
              "ticks": ""
             }
            },
            "type": "scatterpolargl"
           }
          ],
          "scatterternary": [
           {
            "marker": {
             "colorbar": {
              "outlinewidth": 0,
              "ticks": ""
             }
            },
            "type": "scatterternary"
           }
          ],
          "surface": [
           {
            "colorbar": {
             "outlinewidth": 0,
             "ticks": ""
            },
            "colorscale": [
             [
              0,
              "#0d0887"
             ],
             [
              0.1111111111111111,
              "#46039f"
             ],
             [
              0.2222222222222222,
              "#7201a8"
             ],
             [
              0.3333333333333333,
              "#9c179e"
             ],
             [
              0.4444444444444444,
              "#bd3786"
             ],
             [
              0.5555555555555556,
              "#d8576b"
             ],
             [
              0.6666666666666666,
              "#ed7953"
             ],
             [
              0.7777777777777778,
              "#fb9f3a"
             ],
             [
              0.8888888888888888,
              "#fdca26"
             ],
             [
              1,
              "#f0f921"
             ]
            ],
            "type": "surface"
           }
          ],
          "table": [
           {
            "cells": {
             "fill": {
              "color": "#EBF0F8"
             },
             "line": {
              "color": "white"
             }
            },
            "header": {
             "fill": {
              "color": "#C8D4E3"
             },
             "line": {
              "color": "white"
             }
            },
            "type": "table"
           }
          ]
         },
         "layout": {
          "annotationdefaults": {
           "arrowcolor": "#2a3f5f",
           "arrowhead": 0,
           "arrowwidth": 1
          },
          "autotypenumbers": "strict",
          "coloraxis": {
           "colorbar": {
            "outlinewidth": 0,
            "ticks": ""
           }
          },
          "colorscale": {
           "diverging": [
            [
             0,
             "#8e0152"
            ],
            [
             0.1,
             "#c51b7d"
            ],
            [
             0.2,
             "#de77ae"
            ],
            [
             0.3,
             "#f1b6da"
            ],
            [
             0.4,
             "#fde0ef"
            ],
            [
             0.5,
             "#f7f7f7"
            ],
            [
             0.6,
             "#e6f5d0"
            ],
            [
             0.7,
             "#b8e186"
            ],
            [
             0.8,
             "#7fbc41"
            ],
            [
             0.9,
             "#4d9221"
            ],
            [
             1,
             "#276419"
            ]
           ],
           "sequential": [
            [
             0,
             "#0d0887"
            ],
            [
             0.1111111111111111,
             "#46039f"
            ],
            [
             0.2222222222222222,
             "#7201a8"
            ],
            [
             0.3333333333333333,
             "#9c179e"
            ],
            [
             0.4444444444444444,
             "#bd3786"
            ],
            [
             0.5555555555555556,
             "#d8576b"
            ],
            [
             0.6666666666666666,
             "#ed7953"
            ],
            [
             0.7777777777777778,
             "#fb9f3a"
            ],
            [
             0.8888888888888888,
             "#fdca26"
            ],
            [
             1,
             "#f0f921"
            ]
           ],
           "sequentialminus": [
            [
             0,
             "#0d0887"
            ],
            [
             0.1111111111111111,
             "#46039f"
            ],
            [
             0.2222222222222222,
             "#7201a8"
            ],
            [
             0.3333333333333333,
             "#9c179e"
            ],
            [
             0.4444444444444444,
             "#bd3786"
            ],
            [
             0.5555555555555556,
             "#d8576b"
            ],
            [
             0.6666666666666666,
             "#ed7953"
            ],
            [
             0.7777777777777778,
             "#fb9f3a"
            ],
            [
             0.8888888888888888,
             "#fdca26"
            ],
            [
             1,
             "#f0f921"
            ]
           ]
          },
          "colorway": [
           "#636efa",
           "#EF553B",
           "#00cc96",
           "#ab63fa",
           "#FFA15A",
           "#19d3f3",
           "#FF6692",
           "#B6E880",
           "#FF97FF",
           "#FECB52"
          ],
          "font": {
           "color": "#2a3f5f"
          },
          "geo": {
           "bgcolor": "white",
           "lakecolor": "white",
           "landcolor": "#E5ECF6",
           "showlakes": true,
           "showland": true,
           "subunitcolor": "white"
          },
          "hoverlabel": {
           "align": "left"
          },
          "hovermode": "closest",
          "mapbox": {
           "style": "light"
          },
          "paper_bgcolor": "white",
          "plot_bgcolor": "#E5ECF6",
          "polar": {
           "angularaxis": {
            "gridcolor": "white",
            "linecolor": "white",
            "ticks": ""
           },
           "bgcolor": "#E5ECF6",
           "radialaxis": {
            "gridcolor": "white",
            "linecolor": "white",
            "ticks": ""
           }
          },
          "scene": {
           "xaxis": {
            "backgroundcolor": "#E5ECF6",
            "gridcolor": "white",
            "gridwidth": 2,
            "linecolor": "white",
            "showbackground": true,
            "ticks": "",
            "zerolinecolor": "white"
           },
           "yaxis": {
            "backgroundcolor": "#E5ECF6",
            "gridcolor": "white",
            "gridwidth": 2,
            "linecolor": "white",
            "showbackground": true,
            "ticks": "",
            "zerolinecolor": "white"
           },
           "zaxis": {
            "backgroundcolor": "#E5ECF6",
            "gridcolor": "white",
            "gridwidth": 2,
            "linecolor": "white",
            "showbackground": true,
            "ticks": "",
            "zerolinecolor": "white"
           }
          },
          "shapedefaults": {
           "line": {
            "color": "#2a3f5f"
           }
          },
          "ternary": {
           "aaxis": {
            "gridcolor": "white",
            "linecolor": "white",
            "ticks": ""
           },
           "baxis": {
            "gridcolor": "white",
            "linecolor": "white",
            "ticks": ""
           },
           "bgcolor": "#E5ECF6",
           "caxis": {
            "gridcolor": "white",
            "linecolor": "white",
            "ticks": ""
           }
          },
          "title": {
           "x": 0.05
          },
          "xaxis": {
           "automargin": true,
           "gridcolor": "white",
           "linecolor": "white",
           "ticks": "",
           "title": {
            "standoff": 15
           },
           "zerolinecolor": "white",
           "zerolinewidth": 2
          },
          "yaxis": {
           "automargin": true,
           "gridcolor": "white",
           "linecolor": "white",
           "ticks": "",
           "title": {
            "standoff": 15
           },
           "zerolinecolor": "white",
           "zerolinewidth": 2
          }
         }
        },
        "title": {
         "text": ""
        }
       }
      },
      "text/html": [
       "<div>                            <div id=\"d8b5276e-cf22-4855-8a16-b4f49670e3d1\" class=\"plotly-graph-div\" style=\"height:525px; width:100%;\"></div>            <script type=\"text/javascript\">                require([\"plotly\"], function(Plotly) {                    window.PLOTLYENV=window.PLOTLYENV || {};                                    if (document.getElementById(\"d8b5276e-cf22-4855-8a16-b4f49670e3d1\")) {                    Plotly.newPlot(                        \"d8b5276e-cf22-4855-8a16-b4f49670e3d1\",                        [{\"colorbar\":{\"title\":{\"text\":\"%\"}},\"colorscale\":[[0.0,\"#000004\"],[0.1111111111111111,\"#1b0c41\"],[0.2222222222222222,\"#4a0c6b\"],[0.3333333333333333,\"#781c6d\"],[0.4444444444444444,\"#a52c60\"],[0.5555555555555556,\"#cf4446\"],[0.6666666666666666,\"#ed6925\"],[0.7777777777777778,\"#fb9b06\"],[0.8888888888888888,\"#f7d13d\"],[1.0,\"#fcffa4\"]],\"locationmode\":\"USA-states\",\"locations\":[\"AL\",\"AZ\",\"AR\",\"CA\",\"CO\",\"CT\",\"DE\",\"FL\",\"GA\",\"ID\",\"IL\",\"IN\",\"IA\",\"KS\",\"KY\",\"LA\",\"ME\",\"MD\",\"MA\",\"MI\",\"MN\",\"MS\",\"MO\",\"MT\",\"NE\",\"NV\",\"NH\",\"NJ\",\"NM\",\"NY\",\"NC\",\"ND\",\"OH\",\"OK\",\"OR\",\"PA\",\"RI\",\"SC\",\"SD\",\"TN\",\"TX\",\"UT\",\"VT\",\"VA\",\"WA\",\"WV\",\"WI\",\"WY\"],\"reversescale\":true,\"type\":\"choropleth\",\"z\":[5.786478368546194,0.6575709563065545,-0.34706771337796316,-4.4857097885091495,-2.511916992103776,13.45157927403155,-0.6799293253133221,4.335345588880376,6.507755502245416,-0.5586273384315659,-1.0201022562151947,1.142411058628584,-1.74400897058083,-0.9813551912408597,1.9952182854473686,-2.053889217410727,7.849360534322179,17.45067929454415,-1.7076506455329086,1.271609984296529,-2.367309174420093,-1.0508156504727681,2.033114384675398,-0.9305039718374798,-0.6763333097158347,-6.163404490382605,3.208791213775733,4.472211555820948,-2.2217452202879446,-0.8739483309065793,1.8996945759811326,-4.273467905022253,0.6600383483322259,0.7874471530952041,-2.7458620200010344,-2.526597789535176,-6.444837437764554,-2.4433307638738437,-2.1185694594028326,3.79813116432097,0.6400003034885846,-2.5855080671576824,1.5413763456924467,9.953492771073657,-1.2356135390774319,0.972264842135315,-0.09274902464284779,-1.6997645999210855],\"zmax\":35,\"zmin\":-15}],                        {\"font\":{\"family\":\"Times New Roman\",\"size\":22},\"geo\":{\"scope\":\"usa\"},\"template\":{\"data\":{\"bar\":[{\"error_x\":{\"color\":\"#2a3f5f\"},\"error_y\":{\"color\":\"#2a3f5f\"},\"marker\":{\"line\":{\"color\":\"#E5ECF6\",\"width\":0.5},\"pattern\":{\"fillmode\":\"overlay\",\"size\":10,\"solidity\":0.2}},\"type\":\"bar\"}],\"barpolar\":[{\"marker\":{\"line\":{\"color\":\"#E5ECF6\",\"width\":0.5},\"pattern\":{\"fillmode\":\"overlay\",\"size\":10,\"solidity\":0.2}},\"type\":\"barpolar\"}],\"carpet\":[{\"aaxis\":{\"endlinecolor\":\"#2a3f5f\",\"gridcolor\":\"white\",\"linecolor\":\"white\",\"minorgridcolor\":\"white\",\"startlinecolor\":\"#2a3f5f\"},\"baxis\":{\"endlinecolor\":\"#2a3f5f\",\"gridcolor\":\"white\",\"linecolor\":\"white\",\"minorgridcolor\":\"white\",\"startlinecolor\":\"#2a3f5f\"},\"type\":\"carpet\"}],\"choropleth\":[{\"colorbar\":{\"outlinewidth\":0,\"ticks\":\"\"},\"type\":\"choropleth\"}],\"contour\":[{\"colorbar\":{\"outlinewidth\":0,\"ticks\":\"\"},\"colorscale\":[[0.0,\"#0d0887\"],[0.1111111111111111,\"#46039f\"],[0.2222222222222222,\"#7201a8\"],[0.3333333333333333,\"#9c179e\"],[0.4444444444444444,\"#bd3786\"],[0.5555555555555556,\"#d8576b\"],[0.6666666666666666,\"#ed7953\"],[0.7777777777777778,\"#fb9f3a\"],[0.8888888888888888,\"#fdca26\"],[1.0,\"#f0f921\"]],\"type\":\"contour\"}],\"contourcarpet\":[{\"colorbar\":{\"outlinewidth\":0,\"ticks\":\"\"},\"type\":\"contourcarpet\"}],\"heatmap\":[{\"colorbar\":{\"outlinewidth\":0,\"ticks\":\"\"},\"colorscale\":[[0.0,\"#0d0887\"],[0.1111111111111111,\"#46039f\"],[0.2222222222222222,\"#7201a8\"],[0.3333333333333333,\"#9c179e\"],[0.4444444444444444,\"#bd3786\"],[0.5555555555555556,\"#d8576b\"],[0.6666666666666666,\"#ed7953\"],[0.7777777777777778,\"#fb9f3a\"],[0.8888888888888888,\"#fdca26\"],[1.0,\"#f0f921\"]],\"type\":\"heatmap\"}],\"heatmapgl\":[{\"colorbar\":{\"outlinewidth\":0,\"ticks\":\"\"},\"colorscale\":[[0.0,\"#0d0887\"],[0.1111111111111111,\"#46039f\"],[0.2222222222222222,\"#7201a8\"],[0.3333333333333333,\"#9c179e\"],[0.4444444444444444,\"#bd3786\"],[0.5555555555555556,\"#d8576b\"],[0.6666666666666666,\"#ed7953\"],[0.7777777777777778,\"#fb9f3a\"],[0.8888888888888888,\"#fdca26\"],[1.0,\"#f0f921\"]],\"type\":\"heatmapgl\"}],\"histogram\":[{\"marker\":{\"pattern\":{\"fillmode\":\"overlay\",\"size\":10,\"solidity\":0.2}},\"type\":\"histogram\"}],\"histogram2d\":[{\"colorbar\":{\"outlinewidth\":0,\"ticks\":\"\"},\"colorscale\":[[0.0,\"#0d0887\"],[0.1111111111111111,\"#46039f\"],[0.2222222222222222,\"#7201a8\"],[0.3333333333333333,\"#9c179e\"],[0.4444444444444444,\"#bd3786\"],[0.5555555555555556,\"#d8576b\"],[0.6666666666666666,\"#ed7953\"],[0.7777777777777778,\"#fb9f3a\"],[0.8888888888888888,\"#fdca26\"],[1.0,\"#f0f921\"]],\"type\":\"histogram2d\"}],\"histogram2dcontour\":[{\"colorbar\":{\"outlinewidth\":0,\"ticks\":\"\"},\"colorscale\":[[0.0,\"#0d0887\"],[0.1111111111111111,\"#46039f\"],[0.2222222222222222,\"#7201a8\"],[0.3333333333333333,\"#9c179e\"],[0.4444444444444444,\"#bd3786\"],[0.5555555555555556,\"#d8576b\"],[0.6666666666666666,\"#ed7953\"],[0.7777777777777778,\"#fb9f3a\"],[0.8888888888888888,\"#fdca26\"],[1.0,\"#f0f921\"]],\"type\":\"histogram2dcontour\"}],\"mesh3d\":[{\"colorbar\":{\"outlinewidth\":0,\"ticks\":\"\"},\"type\":\"mesh3d\"}],\"parcoords\":[{\"line\":{\"colorbar\":{\"outlinewidth\":0,\"ticks\":\"\"}},\"type\":\"parcoords\"}],\"pie\":[{\"automargin\":true,\"type\":\"pie\"}],\"scatter\":[{\"marker\":{\"colorbar\":{\"outlinewidth\":0,\"ticks\":\"\"}},\"type\":\"scatter\"}],\"scatter3d\":[{\"line\":{\"colorbar\":{\"outlinewidth\":0,\"ticks\":\"\"}},\"marker\":{\"colorbar\":{\"outlinewidth\":0,\"ticks\":\"\"}},\"type\":\"scatter3d\"}],\"scattercarpet\":[{\"marker\":{\"colorbar\":{\"outlinewidth\":0,\"ticks\":\"\"}},\"type\":\"scattercarpet\"}],\"scattergeo\":[{\"marker\":{\"colorbar\":{\"outlinewidth\":0,\"ticks\":\"\"}},\"type\":\"scattergeo\"}],\"scattergl\":[{\"marker\":{\"colorbar\":{\"outlinewidth\":0,\"ticks\":\"\"}},\"type\":\"scattergl\"}],\"scattermapbox\":[{\"marker\":{\"colorbar\":{\"outlinewidth\":0,\"ticks\":\"\"}},\"type\":\"scattermapbox\"}],\"scatterpolar\":[{\"marker\":{\"colorbar\":{\"outlinewidth\":0,\"ticks\":\"\"}},\"type\":\"scatterpolar\"}],\"scatterpolargl\":[{\"marker\":{\"colorbar\":{\"outlinewidth\":0,\"ticks\":\"\"}},\"type\":\"scatterpolargl\"}],\"scatterternary\":[{\"marker\":{\"colorbar\":{\"outlinewidth\":0,\"ticks\":\"\"}},\"type\":\"scatterternary\"}],\"surface\":[{\"colorbar\":{\"outlinewidth\":0,\"ticks\":\"\"},\"colorscale\":[[0.0,\"#0d0887\"],[0.1111111111111111,\"#46039f\"],[0.2222222222222222,\"#7201a8\"],[0.3333333333333333,\"#9c179e\"],[0.4444444444444444,\"#bd3786\"],[0.5555555555555556,\"#d8576b\"],[0.6666666666666666,\"#ed7953\"],[0.7777777777777778,\"#fb9f3a\"],[0.8888888888888888,\"#fdca26\"],[1.0,\"#f0f921\"]],\"type\":\"surface\"}],\"table\":[{\"cells\":{\"fill\":{\"color\":\"#EBF0F8\"},\"line\":{\"color\":\"white\"}},\"header\":{\"fill\":{\"color\":\"#C8D4E3\"},\"line\":{\"color\":\"white\"}},\"type\":\"table\"}]},\"layout\":{\"annotationdefaults\":{\"arrowcolor\":\"#2a3f5f\",\"arrowhead\":0,\"arrowwidth\":1},\"autotypenumbers\":\"strict\",\"coloraxis\":{\"colorbar\":{\"outlinewidth\":0,\"ticks\":\"\"}},\"colorscale\":{\"diverging\":[[0,\"#8e0152\"],[0.1,\"#c51b7d\"],[0.2,\"#de77ae\"],[0.3,\"#f1b6da\"],[0.4,\"#fde0ef\"],[0.5,\"#f7f7f7\"],[0.6,\"#e6f5d0\"],[0.7,\"#b8e186\"],[0.8,\"#7fbc41\"],[0.9,\"#4d9221\"],[1,\"#276419\"]],\"sequential\":[[0.0,\"#0d0887\"],[0.1111111111111111,\"#46039f\"],[0.2222222222222222,\"#7201a8\"],[0.3333333333333333,\"#9c179e\"],[0.4444444444444444,\"#bd3786\"],[0.5555555555555556,\"#d8576b\"],[0.6666666666666666,\"#ed7953\"],[0.7777777777777778,\"#fb9f3a\"],[0.8888888888888888,\"#fdca26\"],[1.0,\"#f0f921\"]],\"sequentialminus\":[[0.0,\"#0d0887\"],[0.1111111111111111,\"#46039f\"],[0.2222222222222222,\"#7201a8\"],[0.3333333333333333,\"#9c179e\"],[0.4444444444444444,\"#bd3786\"],[0.5555555555555556,\"#d8576b\"],[0.6666666666666666,\"#ed7953\"],[0.7777777777777778,\"#fb9f3a\"],[0.8888888888888888,\"#fdca26\"],[1.0,\"#f0f921\"]]},\"colorway\":[\"#636efa\",\"#EF553B\",\"#00cc96\",\"#ab63fa\",\"#FFA15A\",\"#19d3f3\",\"#FF6692\",\"#B6E880\",\"#FF97FF\",\"#FECB52\"],\"font\":{\"color\":\"#2a3f5f\"},\"geo\":{\"bgcolor\":\"white\",\"lakecolor\":\"white\",\"landcolor\":\"#E5ECF6\",\"showlakes\":true,\"showland\":true,\"subunitcolor\":\"white\"},\"hoverlabel\":{\"align\":\"left\"},\"hovermode\":\"closest\",\"mapbox\":{\"style\":\"light\"},\"paper_bgcolor\":\"white\",\"plot_bgcolor\":\"#E5ECF6\",\"polar\":{\"angularaxis\":{\"gridcolor\":\"white\",\"linecolor\":\"white\",\"ticks\":\"\"},\"bgcolor\":\"#E5ECF6\",\"radialaxis\":{\"gridcolor\":\"white\",\"linecolor\":\"white\",\"ticks\":\"\"}},\"scene\":{\"xaxis\":{\"backgroundcolor\":\"#E5ECF6\",\"gridcolor\":\"white\",\"gridwidth\":2,\"linecolor\":\"white\",\"showbackground\":true,\"ticks\":\"\",\"zerolinecolor\":\"white\"},\"yaxis\":{\"backgroundcolor\":\"#E5ECF6\",\"gridcolor\":\"white\",\"gridwidth\":2,\"linecolor\":\"white\",\"showbackground\":true,\"ticks\":\"\",\"zerolinecolor\":\"white\"},\"zaxis\":{\"backgroundcolor\":\"#E5ECF6\",\"gridcolor\":\"white\",\"gridwidth\":2,\"linecolor\":\"white\",\"showbackground\":true,\"ticks\":\"\",\"zerolinecolor\":\"white\"}},\"shapedefaults\":{\"line\":{\"color\":\"#2a3f5f\"}},\"ternary\":{\"aaxis\":{\"gridcolor\":\"white\",\"linecolor\":\"white\",\"ticks\":\"\"},\"baxis\":{\"gridcolor\":\"white\",\"linecolor\":\"white\",\"ticks\":\"\"},\"bgcolor\":\"#E5ECF6\",\"caxis\":{\"gridcolor\":\"white\",\"linecolor\":\"white\",\"ticks\":\"\"}},\"title\":{\"x\":0.05},\"xaxis\":{\"automargin\":true,\"gridcolor\":\"white\",\"linecolor\":\"white\",\"ticks\":\"\",\"title\":{\"standoff\":15},\"zerolinecolor\":\"white\",\"zerolinewidth\":2},\"yaxis\":{\"automargin\":true,\"gridcolor\":\"white\",\"linecolor\":\"white\",\"ticks\":\"\",\"title\":{\"standoff\":15},\"zerolinecolor\":\"white\",\"zerolinewidth\":2}}},\"title\":{\"text\":\"\"}},                        {\"responsive\": true}                    ).then(function(){\n",
       "                            \n",
       "var gd = document.getElementById('d8b5276e-cf22-4855-8a16-b4f49670e3d1');\n",
       "var x = new MutationObserver(function (mutations, observer) {{\n",
       "        var display = window.getComputedStyle(gd).display;\n",
       "        if (!display || display === 'none') {{\n",
       "            console.log([gd, 'removed!']);\n",
       "            Plotly.purge(gd);\n",
       "            observer.disconnect();\n",
       "        }}\n",
       "}});\n",
       "\n",
       "// Listen for the removal of the full notebook cells\n",
       "var notebookContainer = gd.closest('#notebook-container');\n",
       "if (notebookContainer) {{\n",
       "    x.observe(notebookContainer, {childList: true});\n",
       "}}\n",
       "\n",
       "// Listen for the clearing of the current output cell\n",
       "var outputEl = gd.closest('.output');\n",
       "if (outputEl) {{\n",
       "    x.observe(outputEl, {childList: true});\n",
       "}}\n",
       "\n",
       "                        })                };                });            </script>        </div>"
      ]
     },
     "metadata": {},
     "output_type": "display_data"
    }
   ],
   "source": [
    "states_map(DFg[(DFg['year']== 2017)]['Abbreviation'], 'Inferno', DFg['cover crops_gap'][(DFg['year']== 2017)]*100, '%',35, -15, 'map_covercrops_gap.png')\n"
   ]
  },
  {
   "cell_type": "code",
   "execution_count": 90,
   "metadata": {},
   "outputs": [
    {
     "data": {
      "application/vnd.plotly.v1+json": {
       "config": {
        "plotlyServerURL": "https://plot.ly"
       },
       "data": [
        {
         "colorbar": {
          "title": {
           "text": "%"
          }
         },
         "colorscale": [
          [
           0,
           "#000004"
          ],
          [
           0.1111111111111111,
           "#1b0c41"
          ],
          [
           0.2222222222222222,
           "#4a0c6b"
          ],
          [
           0.3333333333333333,
           "#781c6d"
          ],
          [
           0.4444444444444444,
           "#a52c60"
          ],
          [
           0.5555555555555556,
           "#cf4446"
          ],
          [
           0.6666666666666666,
           "#ed6925"
          ],
          [
           0.7777777777777778,
           "#fb9b06"
          ],
          [
           0.8888888888888888,
           "#f7d13d"
          ],
          [
           1,
           "#fcffa4"
          ]
         ],
         "locationmode": "USA-states",
         "locations": [
          "AL",
          "AZ",
          "AR",
          "CA",
          "CO",
          "CT",
          "DE",
          "FL",
          "GA",
          "ID",
          "IL",
          "IN",
          "IA",
          "KS",
          "KY",
          "LA",
          "ME",
          "MD",
          "MA",
          "MI",
          "MN",
          "MS",
          "MO",
          "MT",
          "NE",
          "NV",
          "NH",
          "NJ",
          "NM",
          "NY",
          "NC",
          "ND",
          "OH",
          "OK",
          "OR",
          "PA",
          "RI",
          "SC",
          "SD",
          "TN",
          "TX",
          "UT",
          "VT",
          "VA",
          "WA",
          "WV",
          "WI",
          "WY"
         ],
         "reversescale": true,
         "type": "choropleth",
         "z": [
          1.7598428829323844,
          -0.7303746397809798,
          0.3434494157767448,
          6.381822211702174,
          0.5966648139401981,
          17.268342062330007,
          7.493990618707818,
          3.6685976632218678,
          9.838926548135092,
          2.086123270227395,
          35.54443085473637,
          26.913478352799824,
          27.04214376530411,
          2.82398194241615,
          16.821118461650887,
          -3.4202863205827696,
          16.28265690396345,
          11.293878462032362,
          29.727946945705714,
          36.947524554708494,
          31.63766488201964,
          -1.676534010507333,
          11.124317296149169,
          -0.30386435299637243,
          6.631250023673046,
          -1.1835688488579972,
          10.392774613909065,
          14.868084626239769,
          -0.6914365996120275,
          29.25897418467805,
          12.593442088424572,
          3.697810743383552,
          28.753137809824736,
          -0.7659113913003973,
          5.2562094653756635,
          20.138567464067744,
          -2.8111980740643814,
          14.162315962700712,
          9.969193575823192,
          4.251329548816695,
          -1.3657411214583148,
          1.6069719010511463,
          22.929752618474225,
          7.611374592646265,
          3.4978475197050107,
          9.748450334553398,
          23.240580390150978,
          1.927696482291512
         ],
         "zmax": 35,
         "zmin": -15
        }
       ],
       "layout": {
        "font": {
         "family": "Times New Roman",
         "size": 22
        },
        "geo": {
         "scope": "usa"
        },
        "template": {
         "data": {
          "bar": [
           {
            "error_x": {
             "color": "#2a3f5f"
            },
            "error_y": {
             "color": "#2a3f5f"
            },
            "marker": {
             "line": {
              "color": "#E5ECF6",
              "width": 0.5
             },
             "pattern": {
              "fillmode": "overlay",
              "size": 10,
              "solidity": 0.2
             }
            },
            "type": "bar"
           }
          ],
          "barpolar": [
           {
            "marker": {
             "line": {
              "color": "#E5ECF6",
              "width": 0.5
             },
             "pattern": {
              "fillmode": "overlay",
              "size": 10,
              "solidity": 0.2
             }
            },
            "type": "barpolar"
           }
          ],
          "carpet": [
           {
            "aaxis": {
             "endlinecolor": "#2a3f5f",
             "gridcolor": "white",
             "linecolor": "white",
             "minorgridcolor": "white",
             "startlinecolor": "#2a3f5f"
            },
            "baxis": {
             "endlinecolor": "#2a3f5f",
             "gridcolor": "white",
             "linecolor": "white",
             "minorgridcolor": "white",
             "startlinecolor": "#2a3f5f"
            },
            "type": "carpet"
           }
          ],
          "choropleth": [
           {
            "colorbar": {
             "outlinewidth": 0,
             "ticks": ""
            },
            "type": "choropleth"
           }
          ],
          "contour": [
           {
            "colorbar": {
             "outlinewidth": 0,
             "ticks": ""
            },
            "colorscale": [
             [
              0,
              "#0d0887"
             ],
             [
              0.1111111111111111,
              "#46039f"
             ],
             [
              0.2222222222222222,
              "#7201a8"
             ],
             [
              0.3333333333333333,
              "#9c179e"
             ],
             [
              0.4444444444444444,
              "#bd3786"
             ],
             [
              0.5555555555555556,
              "#d8576b"
             ],
             [
              0.6666666666666666,
              "#ed7953"
             ],
             [
              0.7777777777777778,
              "#fb9f3a"
             ],
             [
              0.8888888888888888,
              "#fdca26"
             ],
             [
              1,
              "#f0f921"
             ]
            ],
            "type": "contour"
           }
          ],
          "contourcarpet": [
           {
            "colorbar": {
             "outlinewidth": 0,
             "ticks": ""
            },
            "type": "contourcarpet"
           }
          ],
          "heatmap": [
           {
            "colorbar": {
             "outlinewidth": 0,
             "ticks": ""
            },
            "colorscale": [
             [
              0,
              "#0d0887"
             ],
             [
              0.1111111111111111,
              "#46039f"
             ],
             [
              0.2222222222222222,
              "#7201a8"
             ],
             [
              0.3333333333333333,
              "#9c179e"
             ],
             [
              0.4444444444444444,
              "#bd3786"
             ],
             [
              0.5555555555555556,
              "#d8576b"
             ],
             [
              0.6666666666666666,
              "#ed7953"
             ],
             [
              0.7777777777777778,
              "#fb9f3a"
             ],
             [
              0.8888888888888888,
              "#fdca26"
             ],
             [
              1,
              "#f0f921"
             ]
            ],
            "type": "heatmap"
           }
          ],
          "heatmapgl": [
           {
            "colorbar": {
             "outlinewidth": 0,
             "ticks": ""
            },
            "colorscale": [
             [
              0,
              "#0d0887"
             ],
             [
              0.1111111111111111,
              "#46039f"
             ],
             [
              0.2222222222222222,
              "#7201a8"
             ],
             [
              0.3333333333333333,
              "#9c179e"
             ],
             [
              0.4444444444444444,
              "#bd3786"
             ],
             [
              0.5555555555555556,
              "#d8576b"
             ],
             [
              0.6666666666666666,
              "#ed7953"
             ],
             [
              0.7777777777777778,
              "#fb9f3a"
             ],
             [
              0.8888888888888888,
              "#fdca26"
             ],
             [
              1,
              "#f0f921"
             ]
            ],
            "type": "heatmapgl"
           }
          ],
          "histogram": [
           {
            "marker": {
             "pattern": {
              "fillmode": "overlay",
              "size": 10,
              "solidity": 0.2
             }
            },
            "type": "histogram"
           }
          ],
          "histogram2d": [
           {
            "colorbar": {
             "outlinewidth": 0,
             "ticks": ""
            },
            "colorscale": [
             [
              0,
              "#0d0887"
             ],
             [
              0.1111111111111111,
              "#46039f"
             ],
             [
              0.2222222222222222,
              "#7201a8"
             ],
             [
              0.3333333333333333,
              "#9c179e"
             ],
             [
              0.4444444444444444,
              "#bd3786"
             ],
             [
              0.5555555555555556,
              "#d8576b"
             ],
             [
              0.6666666666666666,
              "#ed7953"
             ],
             [
              0.7777777777777778,
              "#fb9f3a"
             ],
             [
              0.8888888888888888,
              "#fdca26"
             ],
             [
              1,
              "#f0f921"
             ]
            ],
            "type": "histogram2d"
           }
          ],
          "histogram2dcontour": [
           {
            "colorbar": {
             "outlinewidth": 0,
             "ticks": ""
            },
            "colorscale": [
             [
              0,
              "#0d0887"
             ],
             [
              0.1111111111111111,
              "#46039f"
             ],
             [
              0.2222222222222222,
              "#7201a8"
             ],
             [
              0.3333333333333333,
              "#9c179e"
             ],
             [
              0.4444444444444444,
              "#bd3786"
             ],
             [
              0.5555555555555556,
              "#d8576b"
             ],
             [
              0.6666666666666666,
              "#ed7953"
             ],
             [
              0.7777777777777778,
              "#fb9f3a"
             ],
             [
              0.8888888888888888,
              "#fdca26"
             ],
             [
              1,
              "#f0f921"
             ]
            ],
            "type": "histogram2dcontour"
           }
          ],
          "mesh3d": [
           {
            "colorbar": {
             "outlinewidth": 0,
             "ticks": ""
            },
            "type": "mesh3d"
           }
          ],
          "parcoords": [
           {
            "line": {
             "colorbar": {
              "outlinewidth": 0,
              "ticks": ""
             }
            },
            "type": "parcoords"
           }
          ],
          "pie": [
           {
            "automargin": true,
            "type": "pie"
           }
          ],
          "scatter": [
           {
            "marker": {
             "colorbar": {
              "outlinewidth": 0,
              "ticks": ""
             }
            },
            "type": "scatter"
           }
          ],
          "scatter3d": [
           {
            "line": {
             "colorbar": {
              "outlinewidth": 0,
              "ticks": ""
             }
            },
            "marker": {
             "colorbar": {
              "outlinewidth": 0,
              "ticks": ""
             }
            },
            "type": "scatter3d"
           }
          ],
          "scattercarpet": [
           {
            "marker": {
             "colorbar": {
              "outlinewidth": 0,
              "ticks": ""
             }
            },
            "type": "scattercarpet"
           }
          ],
          "scattergeo": [
           {
            "marker": {
             "colorbar": {
              "outlinewidth": 0,
              "ticks": ""
             }
            },
            "type": "scattergeo"
           }
          ],
          "scattergl": [
           {
            "marker": {
             "colorbar": {
              "outlinewidth": 0,
              "ticks": ""
             }
            },
            "type": "scattergl"
           }
          ],
          "scattermapbox": [
           {
            "marker": {
             "colorbar": {
              "outlinewidth": 0,
              "ticks": ""
             }
            },
            "type": "scattermapbox"
           }
          ],
          "scatterpolar": [
           {
            "marker": {
             "colorbar": {
              "outlinewidth": 0,
              "ticks": ""
             }
            },
            "type": "scatterpolar"
           }
          ],
          "scatterpolargl": [
           {
            "marker": {
             "colorbar": {
              "outlinewidth": 0,
              "ticks": ""
             }
            },
            "type": "scatterpolargl"
           }
          ],
          "scatterternary": [
           {
            "marker": {
             "colorbar": {
              "outlinewidth": 0,
              "ticks": ""
             }
            },
            "type": "scatterternary"
           }
          ],
          "surface": [
           {
            "colorbar": {
             "outlinewidth": 0,
             "ticks": ""
            },
            "colorscale": [
             [
              0,
              "#0d0887"
             ],
             [
              0.1111111111111111,
              "#46039f"
             ],
             [
              0.2222222222222222,
              "#7201a8"
             ],
             [
              0.3333333333333333,
              "#9c179e"
             ],
             [
              0.4444444444444444,
              "#bd3786"
             ],
             [
              0.5555555555555556,
              "#d8576b"
             ],
             [
              0.6666666666666666,
              "#ed7953"
             ],
             [
              0.7777777777777778,
              "#fb9f3a"
             ],
             [
              0.8888888888888888,
              "#fdca26"
             ],
             [
              1,
              "#f0f921"
             ]
            ],
            "type": "surface"
           }
          ],
          "table": [
           {
            "cells": {
             "fill": {
              "color": "#EBF0F8"
             },
             "line": {
              "color": "white"
             }
            },
            "header": {
             "fill": {
              "color": "#C8D4E3"
             },
             "line": {
              "color": "white"
             }
            },
            "type": "table"
           }
          ]
         },
         "layout": {
          "annotationdefaults": {
           "arrowcolor": "#2a3f5f",
           "arrowhead": 0,
           "arrowwidth": 1
          },
          "autotypenumbers": "strict",
          "coloraxis": {
           "colorbar": {
            "outlinewidth": 0,
            "ticks": ""
           }
          },
          "colorscale": {
           "diverging": [
            [
             0,
             "#8e0152"
            ],
            [
             0.1,
             "#c51b7d"
            ],
            [
             0.2,
             "#de77ae"
            ],
            [
             0.3,
             "#f1b6da"
            ],
            [
             0.4,
             "#fde0ef"
            ],
            [
             0.5,
             "#f7f7f7"
            ],
            [
             0.6,
             "#e6f5d0"
            ],
            [
             0.7,
             "#b8e186"
            ],
            [
             0.8,
             "#7fbc41"
            ],
            [
             0.9,
             "#4d9221"
            ],
            [
             1,
             "#276419"
            ]
           ],
           "sequential": [
            [
             0,
             "#0d0887"
            ],
            [
             0.1111111111111111,
             "#46039f"
            ],
            [
             0.2222222222222222,
             "#7201a8"
            ],
            [
             0.3333333333333333,
             "#9c179e"
            ],
            [
             0.4444444444444444,
             "#bd3786"
            ],
            [
             0.5555555555555556,
             "#d8576b"
            ],
            [
             0.6666666666666666,
             "#ed7953"
            ],
            [
             0.7777777777777778,
             "#fb9f3a"
            ],
            [
             0.8888888888888888,
             "#fdca26"
            ],
            [
             1,
             "#f0f921"
            ]
           ],
           "sequentialminus": [
            [
             0,
             "#0d0887"
            ],
            [
             0.1111111111111111,
             "#46039f"
            ],
            [
             0.2222222222222222,
             "#7201a8"
            ],
            [
             0.3333333333333333,
             "#9c179e"
            ],
            [
             0.4444444444444444,
             "#bd3786"
            ],
            [
             0.5555555555555556,
             "#d8576b"
            ],
            [
             0.6666666666666666,
             "#ed7953"
            ],
            [
             0.7777777777777778,
             "#fb9f3a"
            ],
            [
             0.8888888888888888,
             "#fdca26"
            ],
            [
             1,
             "#f0f921"
            ]
           ]
          },
          "colorway": [
           "#636efa",
           "#EF553B",
           "#00cc96",
           "#ab63fa",
           "#FFA15A",
           "#19d3f3",
           "#FF6692",
           "#B6E880",
           "#FF97FF",
           "#FECB52"
          ],
          "font": {
           "color": "#2a3f5f"
          },
          "geo": {
           "bgcolor": "white",
           "lakecolor": "white",
           "landcolor": "#E5ECF6",
           "showlakes": true,
           "showland": true,
           "subunitcolor": "white"
          },
          "hoverlabel": {
           "align": "left"
          },
          "hovermode": "closest",
          "mapbox": {
           "style": "light"
          },
          "paper_bgcolor": "white",
          "plot_bgcolor": "#E5ECF6",
          "polar": {
           "angularaxis": {
            "gridcolor": "white",
            "linecolor": "white",
            "ticks": ""
           },
           "bgcolor": "#E5ECF6",
           "radialaxis": {
            "gridcolor": "white",
            "linecolor": "white",
            "ticks": ""
           }
          },
          "scene": {
           "xaxis": {
            "backgroundcolor": "#E5ECF6",
            "gridcolor": "white",
            "gridwidth": 2,
            "linecolor": "white",
            "showbackground": true,
            "ticks": "",
            "zerolinecolor": "white"
           },
           "yaxis": {
            "backgroundcolor": "#E5ECF6",
            "gridcolor": "white",
            "gridwidth": 2,
            "linecolor": "white",
            "showbackground": true,
            "ticks": "",
            "zerolinecolor": "white"
           },
           "zaxis": {
            "backgroundcolor": "#E5ECF6",
            "gridcolor": "white",
            "gridwidth": 2,
            "linecolor": "white",
            "showbackground": true,
            "ticks": "",
            "zerolinecolor": "white"
           }
          },
          "shapedefaults": {
           "line": {
            "color": "#2a3f5f"
           }
          },
          "ternary": {
           "aaxis": {
            "gridcolor": "white",
            "linecolor": "white",
            "ticks": ""
           },
           "baxis": {
            "gridcolor": "white",
            "linecolor": "white",
            "ticks": ""
           },
           "bgcolor": "#E5ECF6",
           "caxis": {
            "gridcolor": "white",
            "linecolor": "white",
            "ticks": ""
           }
          },
          "title": {
           "x": 0.05
          },
          "xaxis": {
           "automargin": true,
           "gridcolor": "white",
           "linecolor": "white",
           "ticks": "",
           "title": {
            "standoff": 15
           },
           "zerolinecolor": "white",
           "zerolinewidth": 2
          },
          "yaxis": {
           "automargin": true,
           "gridcolor": "white",
           "linecolor": "white",
           "ticks": "",
           "title": {
            "standoff": 15
           },
           "zerolinecolor": "white",
           "zerolinewidth": 2
          }
         }
        },
        "title": {
         "text": ""
        }
       }
      },
      "text/html": [
       "<div>                            <div id=\"78ba8933-61a1-41f2-8c3c-cbee5120eaa6\" class=\"plotly-graph-div\" style=\"height:525px; width:100%;\"></div>            <script type=\"text/javascript\">                require([\"plotly\"], function(Plotly) {                    window.PLOTLYENV=window.PLOTLYENV || {};                                    if (document.getElementById(\"78ba8933-61a1-41f2-8c3c-cbee5120eaa6\")) {                    Plotly.newPlot(                        \"78ba8933-61a1-41f2-8c3c-cbee5120eaa6\",                        [{\"colorbar\":{\"title\":{\"text\":\"%\"}},\"colorscale\":[[0.0,\"#000004\"],[0.1111111111111111,\"#1b0c41\"],[0.2222222222222222,\"#4a0c6b\"],[0.3333333333333333,\"#781c6d\"],[0.4444444444444444,\"#a52c60\"],[0.5555555555555556,\"#cf4446\"],[0.6666666666666666,\"#ed6925\"],[0.7777777777777778,\"#fb9b06\"],[0.8888888888888888,\"#f7d13d\"],[1.0,\"#fcffa4\"]],\"locationmode\":\"USA-states\",\"locations\":[\"AL\",\"AZ\",\"AR\",\"CA\",\"CO\",\"CT\",\"DE\",\"FL\",\"GA\",\"ID\",\"IL\",\"IN\",\"IA\",\"KS\",\"KY\",\"LA\",\"ME\",\"MD\",\"MA\",\"MI\",\"MN\",\"MS\",\"MO\",\"MT\",\"NE\",\"NV\",\"NH\",\"NJ\",\"NM\",\"NY\",\"NC\",\"ND\",\"OH\",\"OK\",\"OR\",\"PA\",\"RI\",\"SC\",\"SD\",\"TN\",\"TX\",\"UT\",\"VT\",\"VA\",\"WA\",\"WV\",\"WI\",\"WY\"],\"reversescale\":true,\"type\":\"choropleth\",\"z\":[1.7598428829323844,-0.7303746397809798,0.3434494157767448,6.381822211702174,0.5966648139401981,17.268342062330007,7.493990618707818,3.6685976632218678,9.838926548135092,2.086123270227395,35.54443085473637,26.913478352799824,27.04214376530411,2.82398194241615,16.821118461650887,-3.4202863205827696,16.28265690396345,11.293878462032362,29.727946945705714,36.947524554708494,31.63766488201964,-1.676534010507333,11.124317296149169,-0.30386435299637243,6.631250023673046,-1.1835688488579972,10.392774613909065,14.868084626239769,-0.6914365996120275,29.25897418467805,12.593442088424572,3.697810743383552,28.753137809824736,-0.7659113913003973,5.2562094653756635,20.138567464067744,-2.8111980740643814,14.162315962700712,9.969193575823192,4.251329548816695,-1.3657411214583148,1.6069719010511463,22.929752618474225,7.611374592646265,3.4978475197050107,9.748450334553398,23.240580390150978,1.927696482291512],\"zmax\":35,\"zmin\":-15}],                        {\"font\":{\"family\":\"Times New Roman\",\"size\":22},\"geo\":{\"scope\":\"usa\"},\"template\":{\"data\":{\"bar\":[{\"error_x\":{\"color\":\"#2a3f5f\"},\"error_y\":{\"color\":\"#2a3f5f\"},\"marker\":{\"line\":{\"color\":\"#E5ECF6\",\"width\":0.5},\"pattern\":{\"fillmode\":\"overlay\",\"size\":10,\"solidity\":0.2}},\"type\":\"bar\"}],\"barpolar\":[{\"marker\":{\"line\":{\"color\":\"#E5ECF6\",\"width\":0.5},\"pattern\":{\"fillmode\":\"overlay\",\"size\":10,\"solidity\":0.2}},\"type\":\"barpolar\"}],\"carpet\":[{\"aaxis\":{\"endlinecolor\":\"#2a3f5f\",\"gridcolor\":\"white\",\"linecolor\":\"white\",\"minorgridcolor\":\"white\",\"startlinecolor\":\"#2a3f5f\"},\"baxis\":{\"endlinecolor\":\"#2a3f5f\",\"gridcolor\":\"white\",\"linecolor\":\"white\",\"minorgridcolor\":\"white\",\"startlinecolor\":\"#2a3f5f\"},\"type\":\"carpet\"}],\"choropleth\":[{\"colorbar\":{\"outlinewidth\":0,\"ticks\":\"\"},\"type\":\"choropleth\"}],\"contour\":[{\"colorbar\":{\"outlinewidth\":0,\"ticks\":\"\"},\"colorscale\":[[0.0,\"#0d0887\"],[0.1111111111111111,\"#46039f\"],[0.2222222222222222,\"#7201a8\"],[0.3333333333333333,\"#9c179e\"],[0.4444444444444444,\"#bd3786\"],[0.5555555555555556,\"#d8576b\"],[0.6666666666666666,\"#ed7953\"],[0.7777777777777778,\"#fb9f3a\"],[0.8888888888888888,\"#fdca26\"],[1.0,\"#f0f921\"]],\"type\":\"contour\"}],\"contourcarpet\":[{\"colorbar\":{\"outlinewidth\":0,\"ticks\":\"\"},\"type\":\"contourcarpet\"}],\"heatmap\":[{\"colorbar\":{\"outlinewidth\":0,\"ticks\":\"\"},\"colorscale\":[[0.0,\"#0d0887\"],[0.1111111111111111,\"#46039f\"],[0.2222222222222222,\"#7201a8\"],[0.3333333333333333,\"#9c179e\"],[0.4444444444444444,\"#bd3786\"],[0.5555555555555556,\"#d8576b\"],[0.6666666666666666,\"#ed7953\"],[0.7777777777777778,\"#fb9f3a\"],[0.8888888888888888,\"#fdca26\"],[1.0,\"#f0f921\"]],\"type\":\"heatmap\"}],\"heatmapgl\":[{\"colorbar\":{\"outlinewidth\":0,\"ticks\":\"\"},\"colorscale\":[[0.0,\"#0d0887\"],[0.1111111111111111,\"#46039f\"],[0.2222222222222222,\"#7201a8\"],[0.3333333333333333,\"#9c179e\"],[0.4444444444444444,\"#bd3786\"],[0.5555555555555556,\"#d8576b\"],[0.6666666666666666,\"#ed7953\"],[0.7777777777777778,\"#fb9f3a\"],[0.8888888888888888,\"#fdca26\"],[1.0,\"#f0f921\"]],\"type\":\"heatmapgl\"}],\"histogram\":[{\"marker\":{\"pattern\":{\"fillmode\":\"overlay\",\"size\":10,\"solidity\":0.2}},\"type\":\"histogram\"}],\"histogram2d\":[{\"colorbar\":{\"outlinewidth\":0,\"ticks\":\"\"},\"colorscale\":[[0.0,\"#0d0887\"],[0.1111111111111111,\"#46039f\"],[0.2222222222222222,\"#7201a8\"],[0.3333333333333333,\"#9c179e\"],[0.4444444444444444,\"#bd3786\"],[0.5555555555555556,\"#d8576b\"],[0.6666666666666666,\"#ed7953\"],[0.7777777777777778,\"#fb9f3a\"],[0.8888888888888888,\"#fdca26\"],[1.0,\"#f0f921\"]],\"type\":\"histogram2d\"}],\"histogram2dcontour\":[{\"colorbar\":{\"outlinewidth\":0,\"ticks\":\"\"},\"colorscale\":[[0.0,\"#0d0887\"],[0.1111111111111111,\"#46039f\"],[0.2222222222222222,\"#7201a8\"],[0.3333333333333333,\"#9c179e\"],[0.4444444444444444,\"#bd3786\"],[0.5555555555555556,\"#d8576b\"],[0.6666666666666666,\"#ed7953\"],[0.7777777777777778,\"#fb9f3a\"],[0.8888888888888888,\"#fdca26\"],[1.0,\"#f0f921\"]],\"type\":\"histogram2dcontour\"}],\"mesh3d\":[{\"colorbar\":{\"outlinewidth\":0,\"ticks\":\"\"},\"type\":\"mesh3d\"}],\"parcoords\":[{\"line\":{\"colorbar\":{\"outlinewidth\":0,\"ticks\":\"\"}},\"type\":\"parcoords\"}],\"pie\":[{\"automargin\":true,\"type\":\"pie\"}],\"scatter\":[{\"marker\":{\"colorbar\":{\"outlinewidth\":0,\"ticks\":\"\"}},\"type\":\"scatter\"}],\"scatter3d\":[{\"line\":{\"colorbar\":{\"outlinewidth\":0,\"ticks\":\"\"}},\"marker\":{\"colorbar\":{\"outlinewidth\":0,\"ticks\":\"\"}},\"type\":\"scatter3d\"}],\"scattercarpet\":[{\"marker\":{\"colorbar\":{\"outlinewidth\":0,\"ticks\":\"\"}},\"type\":\"scattercarpet\"}],\"scattergeo\":[{\"marker\":{\"colorbar\":{\"outlinewidth\":0,\"ticks\":\"\"}},\"type\":\"scattergeo\"}],\"scattergl\":[{\"marker\":{\"colorbar\":{\"outlinewidth\":0,\"ticks\":\"\"}},\"type\":\"scattergl\"}],\"scattermapbox\":[{\"marker\":{\"colorbar\":{\"outlinewidth\":0,\"ticks\":\"\"}},\"type\":\"scattermapbox\"}],\"scatterpolar\":[{\"marker\":{\"colorbar\":{\"outlinewidth\":0,\"ticks\":\"\"}},\"type\":\"scatterpolar\"}],\"scatterpolargl\":[{\"marker\":{\"colorbar\":{\"outlinewidth\":0,\"ticks\":\"\"}},\"type\":\"scatterpolargl\"}],\"scatterternary\":[{\"marker\":{\"colorbar\":{\"outlinewidth\":0,\"ticks\":\"\"}},\"type\":\"scatterternary\"}],\"surface\":[{\"colorbar\":{\"outlinewidth\":0,\"ticks\":\"\"},\"colorscale\":[[0.0,\"#0d0887\"],[0.1111111111111111,\"#46039f\"],[0.2222222222222222,\"#7201a8\"],[0.3333333333333333,\"#9c179e\"],[0.4444444444444444,\"#bd3786\"],[0.5555555555555556,\"#d8576b\"],[0.6666666666666666,\"#ed7953\"],[0.7777777777777778,\"#fb9f3a\"],[0.8888888888888888,\"#fdca26\"],[1.0,\"#f0f921\"]],\"type\":\"surface\"}],\"table\":[{\"cells\":{\"fill\":{\"color\":\"#EBF0F8\"},\"line\":{\"color\":\"white\"}},\"header\":{\"fill\":{\"color\":\"#C8D4E3\"},\"line\":{\"color\":\"white\"}},\"type\":\"table\"}]},\"layout\":{\"annotationdefaults\":{\"arrowcolor\":\"#2a3f5f\",\"arrowhead\":0,\"arrowwidth\":1},\"autotypenumbers\":\"strict\",\"coloraxis\":{\"colorbar\":{\"outlinewidth\":0,\"ticks\":\"\"}},\"colorscale\":{\"diverging\":[[0,\"#8e0152\"],[0.1,\"#c51b7d\"],[0.2,\"#de77ae\"],[0.3,\"#f1b6da\"],[0.4,\"#fde0ef\"],[0.5,\"#f7f7f7\"],[0.6,\"#e6f5d0\"],[0.7,\"#b8e186\"],[0.8,\"#7fbc41\"],[0.9,\"#4d9221\"],[1,\"#276419\"]],\"sequential\":[[0.0,\"#0d0887\"],[0.1111111111111111,\"#46039f\"],[0.2222222222222222,\"#7201a8\"],[0.3333333333333333,\"#9c179e\"],[0.4444444444444444,\"#bd3786\"],[0.5555555555555556,\"#d8576b\"],[0.6666666666666666,\"#ed7953\"],[0.7777777777777778,\"#fb9f3a\"],[0.8888888888888888,\"#fdca26\"],[1.0,\"#f0f921\"]],\"sequentialminus\":[[0.0,\"#0d0887\"],[0.1111111111111111,\"#46039f\"],[0.2222222222222222,\"#7201a8\"],[0.3333333333333333,\"#9c179e\"],[0.4444444444444444,\"#bd3786\"],[0.5555555555555556,\"#d8576b\"],[0.6666666666666666,\"#ed7953\"],[0.7777777777777778,\"#fb9f3a\"],[0.8888888888888888,\"#fdca26\"],[1.0,\"#f0f921\"]]},\"colorway\":[\"#636efa\",\"#EF553B\",\"#00cc96\",\"#ab63fa\",\"#FFA15A\",\"#19d3f3\",\"#FF6692\",\"#B6E880\",\"#FF97FF\",\"#FECB52\"],\"font\":{\"color\":\"#2a3f5f\"},\"geo\":{\"bgcolor\":\"white\",\"lakecolor\":\"white\",\"landcolor\":\"#E5ECF6\",\"showlakes\":true,\"showland\":true,\"subunitcolor\":\"white\"},\"hoverlabel\":{\"align\":\"left\"},\"hovermode\":\"closest\",\"mapbox\":{\"style\":\"light\"},\"paper_bgcolor\":\"white\",\"plot_bgcolor\":\"#E5ECF6\",\"polar\":{\"angularaxis\":{\"gridcolor\":\"white\",\"linecolor\":\"white\",\"ticks\":\"\"},\"bgcolor\":\"#E5ECF6\",\"radialaxis\":{\"gridcolor\":\"white\",\"linecolor\":\"white\",\"ticks\":\"\"}},\"scene\":{\"xaxis\":{\"backgroundcolor\":\"#E5ECF6\",\"gridcolor\":\"white\",\"gridwidth\":2,\"linecolor\":\"white\",\"showbackground\":true,\"ticks\":\"\",\"zerolinecolor\":\"white\"},\"yaxis\":{\"backgroundcolor\":\"#E5ECF6\",\"gridcolor\":\"white\",\"gridwidth\":2,\"linecolor\":\"white\",\"showbackground\":true,\"ticks\":\"\",\"zerolinecolor\":\"white\"},\"zaxis\":{\"backgroundcolor\":\"#E5ECF6\",\"gridcolor\":\"white\",\"gridwidth\":2,\"linecolor\":\"white\",\"showbackground\":true,\"ticks\":\"\",\"zerolinecolor\":\"white\"}},\"shapedefaults\":{\"line\":{\"color\":\"#2a3f5f\"}},\"ternary\":{\"aaxis\":{\"gridcolor\":\"white\",\"linecolor\":\"white\",\"ticks\":\"\"},\"baxis\":{\"gridcolor\":\"white\",\"linecolor\":\"white\",\"ticks\":\"\"},\"bgcolor\":\"#E5ECF6\",\"caxis\":{\"gridcolor\":\"white\",\"linecolor\":\"white\",\"ticks\":\"\"}},\"title\":{\"x\":0.05},\"xaxis\":{\"automargin\":true,\"gridcolor\":\"white\",\"linecolor\":\"white\",\"ticks\":\"\",\"title\":{\"standoff\":15},\"zerolinecolor\":\"white\",\"zerolinewidth\":2},\"yaxis\":{\"automargin\":true,\"gridcolor\":\"white\",\"linecolor\":\"white\",\"ticks\":\"\",\"title\":{\"standoff\":15},\"zerolinecolor\":\"white\",\"zerolinewidth\":2}}},\"title\":{\"text\":\"\"}},                        {\"responsive\": true}                    ).then(function(){\n",
       "                            \n",
       "var gd = document.getElementById('78ba8933-61a1-41f2-8c3c-cbee5120eaa6');\n",
       "var x = new MutationObserver(function (mutations, observer) {{\n",
       "        var display = window.getComputedStyle(gd).display;\n",
       "        if (!display || display === 'none') {{\n",
       "            console.log([gd, 'removed!']);\n",
       "            Plotly.purge(gd);\n",
       "            observer.disconnect();\n",
       "        }}\n",
       "}});\n",
       "\n",
       "// Listen for the removal of the full notebook cells\n",
       "var notebookContainer = gd.closest('#notebook-container');\n",
       "if (notebookContainer) {{\n",
       "    x.observe(notebookContainer, {childList: true});\n",
       "}}\n",
       "\n",
       "// Listen for the clearing of the current output cell\n",
       "var outputEl = gd.closest('.output');\n",
       "if (outputEl) {{\n",
       "    x.observe(outputEl, {childList: true});\n",
       "}}\n",
       "\n",
       "                        })                };                });            </script>        </div>"
      ]
     },
     "metadata": {},
     "output_type": "display_data"
    }
   ],
   "source": [
    "states_map(DFg[(DFg['year']== 2017)]['Abbreviation'], 'Inferno', DFg['tile_num_gap'][(DFg['year']== 2017)]*100, '%',35, -15, 'map_tile_gap.png')\n"
   ]
  },
  {
   "cell_type": "code",
   "execution_count": 91,
   "metadata": {},
   "outputs": [
    {
     "data": {
      "application/vnd.plotly.v1+json": {
       "config": {
        "plotlyServerURL": "https://plot.ly"
       },
       "data": [
        {
         "colorbar": {
          "title": {
           "text": "%"
          }
         },
         "colorscale": [
          [
           0,
           "#000004"
          ],
          [
           0.1111111111111111,
           "#1b0c41"
          ],
          [
           0.2222222222222222,
           "#4a0c6b"
          ],
          [
           0.3333333333333333,
           "#781c6d"
          ],
          [
           0.4444444444444444,
           "#a52c60"
          ],
          [
           0.5555555555555556,
           "#cf4446"
          ],
          [
           0.6666666666666666,
           "#ed6925"
          ],
          [
           0.7777777777777778,
           "#fb9b06"
          ],
          [
           0.8888888888888888,
           "#f7d13d"
          ],
          [
           1,
           "#fcffa4"
          ]
         ],
         "locationmode": "USA-states",
         "locations": [
          "AL",
          "AZ",
          "AR",
          "CA",
          "CO",
          "CT",
          "DE",
          "FL",
          "GA",
          "ID",
          "IL",
          "IN",
          "IA",
          "KS",
          "KY",
          "LA",
          "ME",
          "MD",
          "MA",
          "MI",
          "MN",
          "MS",
          "MO",
          "MT",
          "NE",
          "NV",
          "NH",
          "NJ",
          "NM",
          "NY",
          "NC",
          "ND",
          "OH",
          "OK",
          "OR",
          "PA",
          "RI",
          "SC",
          "SD",
          "TN",
          "TX",
          "UT",
          "VT",
          "VA",
          "WA",
          "WV",
          "WI",
          "WY"
         ],
         "reversescale": true,
         "type": "choropleth",
         "z": [
          -1.1417282152892394,
          -0.6946175495781914,
          28.529756633740444,
          -1.5957861120029393,
          -12.02365366523248,
          -1.5703377835003502,
          47.09501803746628,
          3.9655104074694583,
          24.46417616656134,
          1.168012462834278,
          1.525121469994581,
          6.426279910761046,
          -1.7069166247663186,
          11.347223419834933,
          -0.9171566331314323,
          21.467083685013797,
          -12.335966677868859,
          12.53947423505149,
          10.45810312482534,
          4.6332162257736815,
          0.12863466037985327,
          17.664250896624768,
          2.7958682007891604,
          -17.29551846294426,
          38.97447915694903,
          0.11111111111110628,
          -20.435314021766114,
          18.470709001536783,
          -7.454151981787039,
          -16.17758113104767,
          -0.10098071722037805,
          -5.5655161267652495,
          -5.579333325516961,
          -1.9886273053115564,
          16.22198380362495,
          -10.834205220523636,
          28.85722703621047,
          9.546890020481088,
          -1.6993097052230177,
          6.9920948710512025,
          9.037291035537104,
          -0.6529116541033719,
          -18.653562138327747,
          -1.4621174245728534,
          -6.976026097387688,
          -5.87577948573409,
          4.275513556380998,
          -2.842427288474203
         ],
         "zmax": 35,
         "zmin": -15
        }
       ],
       "layout": {
        "font": {
         "family": "Times New Roman",
         "size": 22
        },
        "geo": {
         "scope": "usa"
        },
        "template": {
         "data": {
          "bar": [
           {
            "error_x": {
             "color": "#2a3f5f"
            },
            "error_y": {
             "color": "#2a3f5f"
            },
            "marker": {
             "line": {
              "color": "#E5ECF6",
              "width": 0.5
             },
             "pattern": {
              "fillmode": "overlay",
              "size": 10,
              "solidity": 0.2
             }
            },
            "type": "bar"
           }
          ],
          "barpolar": [
           {
            "marker": {
             "line": {
              "color": "#E5ECF6",
              "width": 0.5
             },
             "pattern": {
              "fillmode": "overlay",
              "size": 10,
              "solidity": 0.2
             }
            },
            "type": "barpolar"
           }
          ],
          "carpet": [
           {
            "aaxis": {
             "endlinecolor": "#2a3f5f",
             "gridcolor": "white",
             "linecolor": "white",
             "minorgridcolor": "white",
             "startlinecolor": "#2a3f5f"
            },
            "baxis": {
             "endlinecolor": "#2a3f5f",
             "gridcolor": "white",
             "linecolor": "white",
             "minorgridcolor": "white",
             "startlinecolor": "#2a3f5f"
            },
            "type": "carpet"
           }
          ],
          "choropleth": [
           {
            "colorbar": {
             "outlinewidth": 0,
             "ticks": ""
            },
            "type": "choropleth"
           }
          ],
          "contour": [
           {
            "colorbar": {
             "outlinewidth": 0,
             "ticks": ""
            },
            "colorscale": [
             [
              0,
              "#0d0887"
             ],
             [
              0.1111111111111111,
              "#46039f"
             ],
             [
              0.2222222222222222,
              "#7201a8"
             ],
             [
              0.3333333333333333,
              "#9c179e"
             ],
             [
              0.4444444444444444,
              "#bd3786"
             ],
             [
              0.5555555555555556,
              "#d8576b"
             ],
             [
              0.6666666666666666,
              "#ed7953"
             ],
             [
              0.7777777777777778,
              "#fb9f3a"
             ],
             [
              0.8888888888888888,
              "#fdca26"
             ],
             [
              1,
              "#f0f921"
             ]
            ],
            "type": "contour"
           }
          ],
          "contourcarpet": [
           {
            "colorbar": {
             "outlinewidth": 0,
             "ticks": ""
            },
            "type": "contourcarpet"
           }
          ],
          "heatmap": [
           {
            "colorbar": {
             "outlinewidth": 0,
             "ticks": ""
            },
            "colorscale": [
             [
              0,
              "#0d0887"
             ],
             [
              0.1111111111111111,
              "#46039f"
             ],
             [
              0.2222222222222222,
              "#7201a8"
             ],
             [
              0.3333333333333333,
              "#9c179e"
             ],
             [
              0.4444444444444444,
              "#bd3786"
             ],
             [
              0.5555555555555556,
              "#d8576b"
             ],
             [
              0.6666666666666666,
              "#ed7953"
             ],
             [
              0.7777777777777778,
              "#fb9f3a"
             ],
             [
              0.8888888888888888,
              "#fdca26"
             ],
             [
              1,
              "#f0f921"
             ]
            ],
            "type": "heatmap"
           }
          ],
          "heatmapgl": [
           {
            "colorbar": {
             "outlinewidth": 0,
             "ticks": ""
            },
            "colorscale": [
             [
              0,
              "#0d0887"
             ],
             [
              0.1111111111111111,
              "#46039f"
             ],
             [
              0.2222222222222222,
              "#7201a8"
             ],
             [
              0.3333333333333333,
              "#9c179e"
             ],
             [
              0.4444444444444444,
              "#bd3786"
             ],
             [
              0.5555555555555556,
              "#d8576b"
             ],
             [
              0.6666666666666666,
              "#ed7953"
             ],
             [
              0.7777777777777778,
              "#fb9f3a"
             ],
             [
              0.8888888888888888,
              "#fdca26"
             ],
             [
              1,
              "#f0f921"
             ]
            ],
            "type": "heatmapgl"
           }
          ],
          "histogram": [
           {
            "marker": {
             "pattern": {
              "fillmode": "overlay",
              "size": 10,
              "solidity": 0.2
             }
            },
            "type": "histogram"
           }
          ],
          "histogram2d": [
           {
            "colorbar": {
             "outlinewidth": 0,
             "ticks": ""
            },
            "colorscale": [
             [
              0,
              "#0d0887"
             ],
             [
              0.1111111111111111,
              "#46039f"
             ],
             [
              0.2222222222222222,
              "#7201a8"
             ],
             [
              0.3333333333333333,
              "#9c179e"
             ],
             [
              0.4444444444444444,
              "#bd3786"
             ],
             [
              0.5555555555555556,
              "#d8576b"
             ],
             [
              0.6666666666666666,
              "#ed7953"
             ],
             [
              0.7777777777777778,
              "#fb9f3a"
             ],
             [
              0.8888888888888888,
              "#fdca26"
             ],
             [
              1,
              "#f0f921"
             ]
            ],
            "type": "histogram2d"
           }
          ],
          "histogram2dcontour": [
           {
            "colorbar": {
             "outlinewidth": 0,
             "ticks": ""
            },
            "colorscale": [
             [
              0,
              "#0d0887"
             ],
             [
              0.1111111111111111,
              "#46039f"
             ],
             [
              0.2222222222222222,
              "#7201a8"
             ],
             [
              0.3333333333333333,
              "#9c179e"
             ],
             [
              0.4444444444444444,
              "#bd3786"
             ],
             [
              0.5555555555555556,
              "#d8576b"
             ],
             [
              0.6666666666666666,
              "#ed7953"
             ],
             [
              0.7777777777777778,
              "#fb9f3a"
             ],
             [
              0.8888888888888888,
              "#fdca26"
             ],
             [
              1,
              "#f0f921"
             ]
            ],
            "type": "histogram2dcontour"
           }
          ],
          "mesh3d": [
           {
            "colorbar": {
             "outlinewidth": 0,
             "ticks": ""
            },
            "type": "mesh3d"
           }
          ],
          "parcoords": [
           {
            "line": {
             "colorbar": {
              "outlinewidth": 0,
              "ticks": ""
             }
            },
            "type": "parcoords"
           }
          ],
          "pie": [
           {
            "automargin": true,
            "type": "pie"
           }
          ],
          "scatter": [
           {
            "marker": {
             "colorbar": {
              "outlinewidth": 0,
              "ticks": ""
             }
            },
            "type": "scatter"
           }
          ],
          "scatter3d": [
           {
            "line": {
             "colorbar": {
              "outlinewidth": 0,
              "ticks": ""
             }
            },
            "marker": {
             "colorbar": {
              "outlinewidth": 0,
              "ticks": ""
             }
            },
            "type": "scatter3d"
           }
          ],
          "scattercarpet": [
           {
            "marker": {
             "colorbar": {
              "outlinewidth": 0,
              "ticks": ""
             }
            },
            "type": "scattercarpet"
           }
          ],
          "scattergeo": [
           {
            "marker": {
             "colorbar": {
              "outlinewidth": 0,
              "ticks": ""
             }
            },
            "type": "scattergeo"
           }
          ],
          "scattergl": [
           {
            "marker": {
             "colorbar": {
              "outlinewidth": 0,
              "ticks": ""
             }
            },
            "type": "scattergl"
           }
          ],
          "scattermapbox": [
           {
            "marker": {
             "colorbar": {
              "outlinewidth": 0,
              "ticks": ""
             }
            },
            "type": "scattermapbox"
           }
          ],
          "scatterpolar": [
           {
            "marker": {
             "colorbar": {
              "outlinewidth": 0,
              "ticks": ""
             }
            },
            "type": "scatterpolar"
           }
          ],
          "scatterpolargl": [
           {
            "marker": {
             "colorbar": {
              "outlinewidth": 0,
              "ticks": ""
             }
            },
            "type": "scatterpolargl"
           }
          ],
          "scatterternary": [
           {
            "marker": {
             "colorbar": {
              "outlinewidth": 0,
              "ticks": ""
             }
            },
            "type": "scatterternary"
           }
          ],
          "surface": [
           {
            "colorbar": {
             "outlinewidth": 0,
             "ticks": ""
            },
            "colorscale": [
             [
              0,
              "#0d0887"
             ],
             [
              0.1111111111111111,
              "#46039f"
             ],
             [
              0.2222222222222222,
              "#7201a8"
             ],
             [
              0.3333333333333333,
              "#9c179e"
             ],
             [
              0.4444444444444444,
              "#bd3786"
             ],
             [
              0.5555555555555556,
              "#d8576b"
             ],
             [
              0.6666666666666666,
              "#ed7953"
             ],
             [
              0.7777777777777778,
              "#fb9f3a"
             ],
             [
              0.8888888888888888,
              "#fdca26"
             ],
             [
              1,
              "#f0f921"
             ]
            ],
            "type": "surface"
           }
          ],
          "table": [
           {
            "cells": {
             "fill": {
              "color": "#EBF0F8"
             },
             "line": {
              "color": "white"
             }
            },
            "header": {
             "fill": {
              "color": "#C8D4E3"
             },
             "line": {
              "color": "white"
             }
            },
            "type": "table"
           }
          ]
         },
         "layout": {
          "annotationdefaults": {
           "arrowcolor": "#2a3f5f",
           "arrowhead": 0,
           "arrowwidth": 1
          },
          "autotypenumbers": "strict",
          "coloraxis": {
           "colorbar": {
            "outlinewidth": 0,
            "ticks": ""
           }
          },
          "colorscale": {
           "diverging": [
            [
             0,
             "#8e0152"
            ],
            [
             0.1,
             "#c51b7d"
            ],
            [
             0.2,
             "#de77ae"
            ],
            [
             0.3,
             "#f1b6da"
            ],
            [
             0.4,
             "#fde0ef"
            ],
            [
             0.5,
             "#f7f7f7"
            ],
            [
             0.6,
             "#e6f5d0"
            ],
            [
             0.7,
             "#b8e186"
            ],
            [
             0.8,
             "#7fbc41"
            ],
            [
             0.9,
             "#4d9221"
            ],
            [
             1,
             "#276419"
            ]
           ],
           "sequential": [
            [
             0,
             "#0d0887"
            ],
            [
             0.1111111111111111,
             "#46039f"
            ],
            [
             0.2222222222222222,
             "#7201a8"
            ],
            [
             0.3333333333333333,
             "#9c179e"
            ],
            [
             0.4444444444444444,
             "#bd3786"
            ],
            [
             0.5555555555555556,
             "#d8576b"
            ],
            [
             0.6666666666666666,
             "#ed7953"
            ],
            [
             0.7777777777777778,
             "#fb9f3a"
            ],
            [
             0.8888888888888888,
             "#fdca26"
            ],
            [
             1,
             "#f0f921"
            ]
           ],
           "sequentialminus": [
            [
             0,
             "#0d0887"
            ],
            [
             0.1111111111111111,
             "#46039f"
            ],
            [
             0.2222222222222222,
             "#7201a8"
            ],
            [
             0.3333333333333333,
             "#9c179e"
            ],
            [
             0.4444444444444444,
             "#bd3786"
            ],
            [
             0.5555555555555556,
             "#d8576b"
            ],
            [
             0.6666666666666666,
             "#ed7953"
            ],
            [
             0.7777777777777778,
             "#fb9f3a"
            ],
            [
             0.8888888888888888,
             "#fdca26"
            ],
            [
             1,
             "#f0f921"
            ]
           ]
          },
          "colorway": [
           "#636efa",
           "#EF553B",
           "#00cc96",
           "#ab63fa",
           "#FFA15A",
           "#19d3f3",
           "#FF6692",
           "#B6E880",
           "#FF97FF",
           "#FECB52"
          ],
          "font": {
           "color": "#2a3f5f"
          },
          "geo": {
           "bgcolor": "white",
           "lakecolor": "white",
           "landcolor": "#E5ECF6",
           "showlakes": true,
           "showland": true,
           "subunitcolor": "white"
          },
          "hoverlabel": {
           "align": "left"
          },
          "hovermode": "closest",
          "mapbox": {
           "style": "light"
          },
          "paper_bgcolor": "white",
          "plot_bgcolor": "#E5ECF6",
          "polar": {
           "angularaxis": {
            "gridcolor": "white",
            "linecolor": "white",
            "ticks": ""
           },
           "bgcolor": "#E5ECF6",
           "radialaxis": {
            "gridcolor": "white",
            "linecolor": "white",
            "ticks": ""
           }
          },
          "scene": {
           "xaxis": {
            "backgroundcolor": "#E5ECF6",
            "gridcolor": "white",
            "gridwidth": 2,
            "linecolor": "white",
            "showbackground": true,
            "ticks": "",
            "zerolinecolor": "white"
           },
           "yaxis": {
            "backgroundcolor": "#E5ECF6",
            "gridcolor": "white",
            "gridwidth": 2,
            "linecolor": "white",
            "showbackground": true,
            "ticks": "",
            "zerolinecolor": "white"
           },
           "zaxis": {
            "backgroundcolor": "#E5ECF6",
            "gridcolor": "white",
            "gridwidth": 2,
            "linecolor": "white",
            "showbackground": true,
            "ticks": "",
            "zerolinecolor": "white"
           }
          },
          "shapedefaults": {
           "line": {
            "color": "#2a3f5f"
           }
          },
          "ternary": {
           "aaxis": {
            "gridcolor": "white",
            "linecolor": "white",
            "ticks": ""
           },
           "baxis": {
            "gridcolor": "white",
            "linecolor": "white",
            "ticks": ""
           },
           "bgcolor": "#E5ECF6",
           "caxis": {
            "gridcolor": "white",
            "linecolor": "white",
            "ticks": ""
           }
          },
          "title": {
           "x": 0.05
          },
          "xaxis": {
           "automargin": true,
           "gridcolor": "white",
           "linecolor": "white",
           "ticks": "",
           "title": {
            "standoff": 15
           },
           "zerolinecolor": "white",
           "zerolinewidth": 2
          },
          "yaxis": {
           "automargin": true,
           "gridcolor": "white",
           "linecolor": "white",
           "ticks": "",
           "title": {
            "standoff": 15
           },
           "zerolinecolor": "white",
           "zerolinewidth": 2
          }
         }
        },
        "title": {
         "text": ""
        }
       }
      },
      "text/html": [
       "<div>                            <div id=\"0f65ae8f-5410-4515-90e9-e4fd35f2ccc9\" class=\"plotly-graph-div\" style=\"height:525px; width:100%;\"></div>            <script type=\"text/javascript\">                require([\"plotly\"], function(Plotly) {                    window.PLOTLYENV=window.PLOTLYENV || {};                                    if (document.getElementById(\"0f65ae8f-5410-4515-90e9-e4fd35f2ccc9\")) {                    Plotly.newPlot(                        \"0f65ae8f-5410-4515-90e9-e4fd35f2ccc9\",                        [{\"colorbar\":{\"title\":{\"text\":\"%\"}},\"colorscale\":[[0.0,\"#000004\"],[0.1111111111111111,\"#1b0c41\"],[0.2222222222222222,\"#4a0c6b\"],[0.3333333333333333,\"#781c6d\"],[0.4444444444444444,\"#a52c60\"],[0.5555555555555556,\"#cf4446\"],[0.6666666666666666,\"#ed6925\"],[0.7777777777777778,\"#fb9b06\"],[0.8888888888888888,\"#f7d13d\"],[1.0,\"#fcffa4\"]],\"locationmode\":\"USA-states\",\"locations\":[\"AL\",\"AZ\",\"AR\",\"CA\",\"CO\",\"CT\",\"DE\",\"FL\",\"GA\",\"ID\",\"IL\",\"IN\",\"IA\",\"KS\",\"KY\",\"LA\",\"ME\",\"MD\",\"MA\",\"MI\",\"MN\",\"MS\",\"MO\",\"MT\",\"NE\",\"NV\",\"NH\",\"NJ\",\"NM\",\"NY\",\"NC\",\"ND\",\"OH\",\"OK\",\"OR\",\"PA\",\"RI\",\"SC\",\"SD\",\"TN\",\"TX\",\"UT\",\"VT\",\"VA\",\"WA\",\"WV\",\"WI\",\"WY\"],\"reversescale\":true,\"type\":\"choropleth\",\"z\":[-1.1417282152892394,-0.6946175495781914,28.529756633740444,-1.5957861120029393,-12.02365366523248,-1.5703377835003502,47.09501803746628,3.9655104074694583,24.46417616656134,1.168012462834278,1.525121469994581,6.426279910761046,-1.7069166247663186,11.347223419834933,-0.9171566331314323,21.467083685013797,-12.335966677868859,12.53947423505149,10.45810312482534,4.6332162257736815,0.12863466037985327,17.664250896624768,2.7958682007891604,-17.29551846294426,38.97447915694903,0.11111111111110628,-20.435314021766114,18.470709001536783,-7.454151981787039,-16.17758113104767,-0.10098071722037805,-5.5655161267652495,-5.579333325516961,-1.9886273053115564,16.22198380362495,-10.834205220523636,28.85722703621047,9.546890020481088,-1.6993097052230177,6.9920948710512025,9.037291035537104,-0.6529116541033719,-18.653562138327747,-1.4621174245728534,-6.976026097387688,-5.87577948573409,4.275513556380998,-2.842427288474203],\"zmax\":35,\"zmin\":-15}],                        {\"font\":{\"family\":\"Times New Roman\",\"size\":22},\"geo\":{\"scope\":\"usa\"},\"template\":{\"data\":{\"bar\":[{\"error_x\":{\"color\":\"#2a3f5f\"},\"error_y\":{\"color\":\"#2a3f5f\"},\"marker\":{\"line\":{\"color\":\"#E5ECF6\",\"width\":0.5},\"pattern\":{\"fillmode\":\"overlay\",\"size\":10,\"solidity\":0.2}},\"type\":\"bar\"}],\"barpolar\":[{\"marker\":{\"line\":{\"color\":\"#E5ECF6\",\"width\":0.5},\"pattern\":{\"fillmode\":\"overlay\",\"size\":10,\"solidity\":0.2}},\"type\":\"barpolar\"}],\"carpet\":[{\"aaxis\":{\"endlinecolor\":\"#2a3f5f\",\"gridcolor\":\"white\",\"linecolor\":\"white\",\"minorgridcolor\":\"white\",\"startlinecolor\":\"#2a3f5f\"},\"baxis\":{\"endlinecolor\":\"#2a3f5f\",\"gridcolor\":\"white\",\"linecolor\":\"white\",\"minorgridcolor\":\"white\",\"startlinecolor\":\"#2a3f5f\"},\"type\":\"carpet\"}],\"choropleth\":[{\"colorbar\":{\"outlinewidth\":0,\"ticks\":\"\"},\"type\":\"choropleth\"}],\"contour\":[{\"colorbar\":{\"outlinewidth\":0,\"ticks\":\"\"},\"colorscale\":[[0.0,\"#0d0887\"],[0.1111111111111111,\"#46039f\"],[0.2222222222222222,\"#7201a8\"],[0.3333333333333333,\"#9c179e\"],[0.4444444444444444,\"#bd3786\"],[0.5555555555555556,\"#d8576b\"],[0.6666666666666666,\"#ed7953\"],[0.7777777777777778,\"#fb9f3a\"],[0.8888888888888888,\"#fdca26\"],[1.0,\"#f0f921\"]],\"type\":\"contour\"}],\"contourcarpet\":[{\"colorbar\":{\"outlinewidth\":0,\"ticks\":\"\"},\"type\":\"contourcarpet\"}],\"heatmap\":[{\"colorbar\":{\"outlinewidth\":0,\"ticks\":\"\"},\"colorscale\":[[0.0,\"#0d0887\"],[0.1111111111111111,\"#46039f\"],[0.2222222222222222,\"#7201a8\"],[0.3333333333333333,\"#9c179e\"],[0.4444444444444444,\"#bd3786\"],[0.5555555555555556,\"#d8576b\"],[0.6666666666666666,\"#ed7953\"],[0.7777777777777778,\"#fb9f3a\"],[0.8888888888888888,\"#fdca26\"],[1.0,\"#f0f921\"]],\"type\":\"heatmap\"}],\"heatmapgl\":[{\"colorbar\":{\"outlinewidth\":0,\"ticks\":\"\"},\"colorscale\":[[0.0,\"#0d0887\"],[0.1111111111111111,\"#46039f\"],[0.2222222222222222,\"#7201a8\"],[0.3333333333333333,\"#9c179e\"],[0.4444444444444444,\"#bd3786\"],[0.5555555555555556,\"#d8576b\"],[0.6666666666666666,\"#ed7953\"],[0.7777777777777778,\"#fb9f3a\"],[0.8888888888888888,\"#fdca26\"],[1.0,\"#f0f921\"]],\"type\":\"heatmapgl\"}],\"histogram\":[{\"marker\":{\"pattern\":{\"fillmode\":\"overlay\",\"size\":10,\"solidity\":0.2}},\"type\":\"histogram\"}],\"histogram2d\":[{\"colorbar\":{\"outlinewidth\":0,\"ticks\":\"\"},\"colorscale\":[[0.0,\"#0d0887\"],[0.1111111111111111,\"#46039f\"],[0.2222222222222222,\"#7201a8\"],[0.3333333333333333,\"#9c179e\"],[0.4444444444444444,\"#bd3786\"],[0.5555555555555556,\"#d8576b\"],[0.6666666666666666,\"#ed7953\"],[0.7777777777777778,\"#fb9f3a\"],[0.8888888888888888,\"#fdca26\"],[1.0,\"#f0f921\"]],\"type\":\"histogram2d\"}],\"histogram2dcontour\":[{\"colorbar\":{\"outlinewidth\":0,\"ticks\":\"\"},\"colorscale\":[[0.0,\"#0d0887\"],[0.1111111111111111,\"#46039f\"],[0.2222222222222222,\"#7201a8\"],[0.3333333333333333,\"#9c179e\"],[0.4444444444444444,\"#bd3786\"],[0.5555555555555556,\"#d8576b\"],[0.6666666666666666,\"#ed7953\"],[0.7777777777777778,\"#fb9f3a\"],[0.8888888888888888,\"#fdca26\"],[1.0,\"#f0f921\"]],\"type\":\"histogram2dcontour\"}],\"mesh3d\":[{\"colorbar\":{\"outlinewidth\":0,\"ticks\":\"\"},\"type\":\"mesh3d\"}],\"parcoords\":[{\"line\":{\"colorbar\":{\"outlinewidth\":0,\"ticks\":\"\"}},\"type\":\"parcoords\"}],\"pie\":[{\"automargin\":true,\"type\":\"pie\"}],\"scatter\":[{\"marker\":{\"colorbar\":{\"outlinewidth\":0,\"ticks\":\"\"}},\"type\":\"scatter\"}],\"scatter3d\":[{\"line\":{\"colorbar\":{\"outlinewidth\":0,\"ticks\":\"\"}},\"marker\":{\"colorbar\":{\"outlinewidth\":0,\"ticks\":\"\"}},\"type\":\"scatter3d\"}],\"scattercarpet\":[{\"marker\":{\"colorbar\":{\"outlinewidth\":0,\"ticks\":\"\"}},\"type\":\"scattercarpet\"}],\"scattergeo\":[{\"marker\":{\"colorbar\":{\"outlinewidth\":0,\"ticks\":\"\"}},\"type\":\"scattergeo\"}],\"scattergl\":[{\"marker\":{\"colorbar\":{\"outlinewidth\":0,\"ticks\":\"\"}},\"type\":\"scattergl\"}],\"scattermapbox\":[{\"marker\":{\"colorbar\":{\"outlinewidth\":0,\"ticks\":\"\"}},\"type\":\"scattermapbox\"}],\"scatterpolar\":[{\"marker\":{\"colorbar\":{\"outlinewidth\":0,\"ticks\":\"\"}},\"type\":\"scatterpolar\"}],\"scatterpolargl\":[{\"marker\":{\"colorbar\":{\"outlinewidth\":0,\"ticks\":\"\"}},\"type\":\"scatterpolargl\"}],\"scatterternary\":[{\"marker\":{\"colorbar\":{\"outlinewidth\":0,\"ticks\":\"\"}},\"type\":\"scatterternary\"}],\"surface\":[{\"colorbar\":{\"outlinewidth\":0,\"ticks\":\"\"},\"colorscale\":[[0.0,\"#0d0887\"],[0.1111111111111111,\"#46039f\"],[0.2222222222222222,\"#7201a8\"],[0.3333333333333333,\"#9c179e\"],[0.4444444444444444,\"#bd3786\"],[0.5555555555555556,\"#d8576b\"],[0.6666666666666666,\"#ed7953\"],[0.7777777777777778,\"#fb9f3a\"],[0.8888888888888888,\"#fdca26\"],[1.0,\"#f0f921\"]],\"type\":\"surface\"}],\"table\":[{\"cells\":{\"fill\":{\"color\":\"#EBF0F8\"},\"line\":{\"color\":\"white\"}},\"header\":{\"fill\":{\"color\":\"#C8D4E3\"},\"line\":{\"color\":\"white\"}},\"type\":\"table\"}]},\"layout\":{\"annotationdefaults\":{\"arrowcolor\":\"#2a3f5f\",\"arrowhead\":0,\"arrowwidth\":1},\"autotypenumbers\":\"strict\",\"coloraxis\":{\"colorbar\":{\"outlinewidth\":0,\"ticks\":\"\"}},\"colorscale\":{\"diverging\":[[0,\"#8e0152\"],[0.1,\"#c51b7d\"],[0.2,\"#de77ae\"],[0.3,\"#f1b6da\"],[0.4,\"#fde0ef\"],[0.5,\"#f7f7f7\"],[0.6,\"#e6f5d0\"],[0.7,\"#b8e186\"],[0.8,\"#7fbc41\"],[0.9,\"#4d9221\"],[1,\"#276419\"]],\"sequential\":[[0.0,\"#0d0887\"],[0.1111111111111111,\"#46039f\"],[0.2222222222222222,\"#7201a8\"],[0.3333333333333333,\"#9c179e\"],[0.4444444444444444,\"#bd3786\"],[0.5555555555555556,\"#d8576b\"],[0.6666666666666666,\"#ed7953\"],[0.7777777777777778,\"#fb9f3a\"],[0.8888888888888888,\"#fdca26\"],[1.0,\"#f0f921\"]],\"sequentialminus\":[[0.0,\"#0d0887\"],[0.1111111111111111,\"#46039f\"],[0.2222222222222222,\"#7201a8\"],[0.3333333333333333,\"#9c179e\"],[0.4444444444444444,\"#bd3786\"],[0.5555555555555556,\"#d8576b\"],[0.6666666666666666,\"#ed7953\"],[0.7777777777777778,\"#fb9f3a\"],[0.8888888888888888,\"#fdca26\"],[1.0,\"#f0f921\"]]},\"colorway\":[\"#636efa\",\"#EF553B\",\"#00cc96\",\"#ab63fa\",\"#FFA15A\",\"#19d3f3\",\"#FF6692\",\"#B6E880\",\"#FF97FF\",\"#FECB52\"],\"font\":{\"color\":\"#2a3f5f\"},\"geo\":{\"bgcolor\":\"white\",\"lakecolor\":\"white\",\"landcolor\":\"#E5ECF6\",\"showlakes\":true,\"showland\":true,\"subunitcolor\":\"white\"},\"hoverlabel\":{\"align\":\"left\"},\"hovermode\":\"closest\",\"mapbox\":{\"style\":\"light\"},\"paper_bgcolor\":\"white\",\"plot_bgcolor\":\"#E5ECF6\",\"polar\":{\"angularaxis\":{\"gridcolor\":\"white\",\"linecolor\":\"white\",\"ticks\":\"\"},\"bgcolor\":\"#E5ECF6\",\"radialaxis\":{\"gridcolor\":\"white\",\"linecolor\":\"white\",\"ticks\":\"\"}},\"scene\":{\"xaxis\":{\"backgroundcolor\":\"#E5ECF6\",\"gridcolor\":\"white\",\"gridwidth\":2,\"linecolor\":\"white\",\"showbackground\":true,\"ticks\":\"\",\"zerolinecolor\":\"white\"},\"yaxis\":{\"backgroundcolor\":\"#E5ECF6\",\"gridcolor\":\"white\",\"gridwidth\":2,\"linecolor\":\"white\",\"showbackground\":true,\"ticks\":\"\",\"zerolinecolor\":\"white\"},\"zaxis\":{\"backgroundcolor\":\"#E5ECF6\",\"gridcolor\":\"white\",\"gridwidth\":2,\"linecolor\":\"white\",\"showbackground\":true,\"ticks\":\"\",\"zerolinecolor\":\"white\"}},\"shapedefaults\":{\"line\":{\"color\":\"#2a3f5f\"}},\"ternary\":{\"aaxis\":{\"gridcolor\":\"white\",\"linecolor\":\"white\",\"ticks\":\"\"},\"baxis\":{\"gridcolor\":\"white\",\"linecolor\":\"white\",\"ticks\":\"\"},\"bgcolor\":\"#E5ECF6\",\"caxis\":{\"gridcolor\":\"white\",\"linecolor\":\"white\",\"ticks\":\"\"}},\"title\":{\"x\":0.05},\"xaxis\":{\"automargin\":true,\"gridcolor\":\"white\",\"linecolor\":\"white\",\"ticks\":\"\",\"title\":{\"standoff\":15},\"zerolinecolor\":\"white\",\"zerolinewidth\":2},\"yaxis\":{\"automargin\":true,\"gridcolor\":\"white\",\"linecolor\":\"white\",\"ticks\":\"\",\"title\":{\"standoff\":15},\"zerolinecolor\":\"white\",\"zerolinewidth\":2}}},\"title\":{\"text\":\"\"}},                        {\"responsive\": true}                    ).then(function(){\n",
       "                            \n",
       "var gd = document.getElementById('0f65ae8f-5410-4515-90e9-e4fd35f2ccc9');\n",
       "var x = new MutationObserver(function (mutations, observer) {{\n",
       "        var display = window.getComputedStyle(gd).display;\n",
       "        if (!display || display === 'none') {{\n",
       "            console.log([gd, 'removed!']);\n",
       "            Plotly.purge(gd);\n",
       "            observer.disconnect();\n",
       "        }}\n",
       "}});\n",
       "\n",
       "// Listen for the removal of the full notebook cells\n",
       "var notebookContainer = gd.closest('#notebook-container');\n",
       "if (notebookContainer) {{\n",
       "    x.observe(notebookContainer, {childList: true});\n",
       "}}\n",
       "\n",
       "// Listen for the clearing of the current output cell\n",
       "var outputEl = gd.closest('.output');\n",
       "if (outputEl) {{\n",
       "    x.observe(outputEl, {childList: true});\n",
       "}}\n",
       "\n",
       "                        })                };                });            </script>        </div>"
      ]
     },
     "metadata": {},
     "output_type": "display_data"
    }
   ],
   "source": [
    "states_map(DFg[(DFg['year']== 2017)]['Abbreviation'], 'Inferno', DFg['irrigated_farms_gap'][(DFg['year']== 2017)]*100, '%',35, -15, 'map_irr_gap.png')\n"
   ]
  },
  {
   "cell_type": "code",
   "execution_count": null,
   "metadata": {},
   "outputs": [],
   "source": []
  }
 ],
 "metadata": {
  "kernelspec": {
   "display_name": "Python 3",
   "language": "python",
   "name": "python3"
  },
  "language_info": {
   "codemirror_mode": {
    "name": "ipython",
    "version": 3
   },
   "file_extension": ".py",
   "mimetype": "text/x-python",
   "name": "python",
   "nbconvert_exporter": "python",
   "pygments_lexer": "ipython3",
   "version": "3.9.2"
  }
 },
 "nbformat": 4,
 "nbformat_minor": 2
}
